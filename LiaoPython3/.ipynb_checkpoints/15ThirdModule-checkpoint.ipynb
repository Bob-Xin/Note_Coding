{
 "cells": [
  {
   "cell_type": "markdown",
   "metadata": {
    "toc": "true"
   },
   "source": [
    "# Table of Contents\n",
    " <p><div class=\"lev1 toc-item\"><a href=\"#安装-Pillow\" data-toc-modified-id=\"安装-Pillow-1\"><span class=\"toc-item-num\">1&nbsp;&nbsp;</span>安装 Pillow</a></div><div class=\"lev1 toc-item\"><a href=\"#操作图像\" data-toc-modified-id=\"操作图像-2\"><span class=\"toc-item-num\">2&nbsp;&nbsp;</span>操作图像</a></div>"
   ]
  },
  {
   "cell_type": "markdown",
   "metadata": {},
   "source": [
    "# 安装 Pillow"
   ]
  },
  {
   "cell_type": "code",
   "execution_count": 8,
   "metadata": {
    "collapsed": false
   },
   "outputs": [
    {
     "name": "stdout",
     "output_type": "stream",
     "text": [
      "Requirement already satisfied: pillow in /home/evil_rabbit/anaconda2/lib/python2.7/site-packages\r\n"
     ]
    }
   ],
   "source": [
    "! pip install pillow"
   ]
  },
  {
   "cell_type": "code",
   "execution_count": 1,
   "metadata": {
    "collapsed": false,
    "scrolled": true
   },
   "outputs": [
    {
     "ename": "ImportError",
     "evalue": "No module named 'PIL'",
     "output_type": "error",
     "traceback": [
      "\u001b[0;31m---------------------------------------------------------------------------\u001b[0m",
      "\u001b[0;31mImportError\u001b[0m                               Traceback (most recent call last)",
      "\u001b[0;32m<ipython-input-1-0f6709e38f49>\u001b[0m in \u001b[0;36m<module>\u001b[0;34m()\u001b[0m\n\u001b[0;32m----> 1\u001b[0;31m \u001b[0;32mfrom\u001b[0m \u001b[0mPIL\u001b[0m \u001b[0;32mimport\u001b[0m \u001b[0mImage\u001b[0m\u001b[0;34m\u001b[0m\u001b[0m\n\u001b[0m",
      "\u001b[0;31mImportError\u001b[0m: No module named 'PIL'"
     ]
    }
   ],
   "source": [
    "from PIL import Image"
   ]
  },
  {
   "cell_type": "markdown",
   "metadata": {
    "collapsed": true
   },
   "source": [
    "# 操作图像"
   ]
  },
  {
   "cell_type": "code",
   "execution_count": null,
   "metadata": {
    "collapsed": true
   },
   "outputs": [],
   "source": [
    "from PIL import Image\n",
    "\n",
    "# 打开一个jpg图像文件，注意是当前路径:\n",
    "im = Image.open('test.jpg')\n",
    "# 获得图像尺寸:\n",
    "w, h = im.size\n",
    "print('Original image size: %sx%s' % (w, h))\n",
    "# 缩放到50%:\n",
    "im.thumbnail((w//2, h//2))\n",
    "print('Resize image to: %sx%s' % (w//2, h//2))\n",
    "# 把缩放后的图像用jpeg格式保存:\n",
    "im.save('thumbnail.jpg', 'jpeg')"
   ]
  },
  {
   "cell_type": "markdown",
   "metadata": {},
   "source": [
    "其他功能如切片、旋转、滤镜、输出文字、调色板等一应俱全。\n",
    "\n",
    "比如，模糊效果也只需几行代码："
   ]
  },
  {
   "cell_type": "code",
   "execution_count": null,
   "metadata": {
    "collapsed": true
   },
   "outputs": [],
   "source": [
    "from PIL import Image, ImageFilter\n",
    "\n",
    "# 打开一个jpg图像文件，注意是当前路径:\n",
    "im = Image.open('test.jpg')\n",
    "# 应用模糊滤镜:\n",
    "im2 = im.filter(ImageFilter.BLUR)\n",
    "im2.save('blur.jpg', 'jpeg')"
   ]
  },
  {
   "cell_type": "markdown",
   "metadata": {},
   "source": [
    "PIL的ImageDraw提供了一系列绘图方法，让我们可以直接绘图。比如要生成字母验证码图片："
   ]
  },
  {
   "cell_type": "code",
   "execution_count": null,
   "metadata": {
    "collapsed": true
   },
   "outputs": [],
   "source": [
    "from PIL import Image, ImageDraw, ImageFont, ImageFilter\n",
    "\n",
    "import random\n",
    "\n",
    "# 随机字母:\n",
    "def rndChar():\n",
    "    return chr(random.randint(65, 90))\n",
    "\n",
    "# 随机颜色1:\n",
    "def rndColor():\n",
    "    return (random.randint(64, 255), random.randint(64, 255), random.randint(64, 255))\n",
    "\n",
    "# 随机颜色2:\n",
    "def rndColor2():\n",
    "    return (random.randint(32, 127), random.randint(32, 127), random.randint(32, 127))\n",
    "\n",
    "# 240 x 60:\n",
    "width = 60 * 4\n",
    "height = 60\n",
    "image = Image.new('RGB', (width, height), (255, 255, 255))\n",
    "# 创建Font对象:\n",
    "font = ImageFont.truetype('Arial.ttf', 36)\n",
    "# 创建Draw对象:\n",
    "draw = ImageDraw.Draw(image)\n",
    "# 填充每个像素:\n",
    "for x in range(width):\n",
    "    for y in range(height):\n",
    "        draw.point((x, y), fill=rndColor())\n",
    "# 输出文字:\n",
    "for t in range(4):\n",
    "    draw.text((60 * t + 10, 10), rndChar(), font=font, fill=rndColor2())\n",
    "# 模糊:\n",
    "image = image.filter(ImageFilter.BLUR)\n",
    "image.save('code.jpg', 'jpeg')"
   ]
  },
  {
   "cell_type": "markdown",
   "metadata": {},
   "source": [
    "如果运行的时候报错：  \n",
    "`IOError: cannot open resource`  \n",
    "这是因为PIL无法定位到字体文件的位置，可以根据操作系统提供绝对路径，比如：  \n",
    "`'/Library/Fonts/Arial.ttf'`  \n",
    "要详细了解PIL的强大功能，请请参考Pillow官方文档：\n",
    "\n",
    "https://pillow.readthedocs.org/"
   ]
  },
  {
   "cell_type": "code",
   "execution_count": null,
   "metadata": {
    "collapsed": true
   },
   "outputs": [],
   "source": []
  }
 ],
 "metadata": {
  "kernelspec": {
   "display_name": "Python 3",
   "language": "python",
   "name": "python3"
  },
  "language_info": {
   "codemirror_mode": {
    "name": "ipython",
    "version": 3
   },
   "file_extension": ".py",
   "mimetype": "text/x-python",
   "name": "python",
   "nbconvert_exporter": "python",
   "pygments_lexer": "ipython3",
   "version": "3.3.5"
  },
  "latex_envs": {
   "LaTeX_envs_menu_present": true,
   "bibliofile": "biblio.bib",
   "cite_by": "apalike",
   "current_citInitial": 1,
   "eqLabelWithNumbers": true,
   "eqNumInitial": 1,
   "hotkeys": {
    "equation": "Ctrl-E",
    "itemize": "Ctrl-I"
   },
   "labels_anchors": false,
   "latex_user_defs": false,
   "report_style_numbering": false,
   "user_envs_cfg": false
  },
  "toc": {
   "colors": {
    "hover_highlight": "#DAA520",
    "running_highlight": "#FF0000",
    "selected_highlight": "#FFD700"
   },
   "moveMenuLeft": true,
   "nav_menu": {
    "height": "30px",
    "width": "252px"
   },
   "navigate_menu": true,
   "number_sections": true,
   "sideBar": true,
   "threshold": 4,
   "toc_cell": true,
   "toc_section_display": "block",
   "toc_window_display": true
  }
 },
 "nbformat": 4,
 "nbformat_minor": 0
}
