{
 "cells": [
  {
   "cell_type": "markdown",
   "metadata": {},
   "source": [
    "# 简介"
   ]
  },
  {
   "cell_type": "markdown",
   "metadata": {},
   "source": [
    "MUA: 邮件用户代理  \n",
    "MTA: 邮件传输代理  \n",
    "MDA: 邮件投递代理  \n",
    "\n",
    "发件人 → MUA → MTA → 若干个 MTA → MDA → MUA → 收件人  \n",
    "\n",
    "大多数邮件服务商需要手动打开 SMTP 发信和 POP 收信功能，否则只允许在网页登陆"
   ]
  },
  {
   "cell_type": "markdown",
   "metadata": {},
   "source": [
    "# SMTP"
   ]
  },
  {
   "cell_type": "markdown",
   "metadata": {},
   "source": [
    "SMTP是发送邮件的协议，Python内置对SMTP的支持，可以发送纯文本邮件、HTML邮件以及带附件的邮件。\n",
    "\n",
    "Python对SMTP支持有smtplib和email两个模块，email负责构造邮件，smtplib负责发送邮件。"
   ]
  },
  {
   "cell_type": "code",
   "execution_count": 1,
   "metadata": {
    "collapsed": true
   },
   "outputs": [],
   "source": [
    "from email.mime.text import MIMEText\n",
    "msg = MIMEText('hello, send by Python...', 'plain', 'utf-8')"
   ]
  },
  {
   "cell_type": "markdown",
   "metadata": {},
   "source": [
    "构造MIMEText对象时，第一个参数就是邮件正文，第二个参数是MIME的subtype，传入'plain'表示纯文本，最终的MIME就是'text/plain'，最后一定要用utf-8编码保证多语言兼容性。"
   ]
  },
  {
   "cell_type": "code",
   "execution_count": null,
   "metadata": {
    "collapsed": true
   },
   "outputs": [],
   "source": [
    "# 输入Email地址和口令:\n",
    "from_addr = input('From: ')\n",
    "password = input('Password: ')\n",
    "# 输入收件人地址:\n",
    "to_addr = input('To: ')\n",
    "# 输入SMTP服务器地址:\n",
    "smtp_server = input('SMTP server: ')\n",
    "\n",
    "import smtplib\n",
    "server = smtplib.SMTP(smtp_server, 25) # SMTP协议默认端口是25\n",
    "server.set_debuglevel(1)\n",
    "server.login(from_addr, password)\n",
    "server.sendmail(from_addr, [to_addr], msg.as_string())\n",
    "server.quit()"
   ]
  },
  {
   "cell_type": "markdown",
   "metadata": {},
   "source": [
    "set_debuglevel(1)就可以打印出和SMTP服务器交互的所有信息。  \n",
    "SMTP协议就是简单的文本命令和响应。  \n",
    "login()方法用来登录SMTP服务器，sendmail()方法就是发邮件，由于可以一次发给多个人，所以传入一个list，  \n",
    "邮件正文是一个str，as_string()把MIMEText对象变成str"
   ]
  },
  {
   "cell_type": "markdown",
   "metadata": {},
   "source": [
    "仔细观察，发现如下问题：\n",
    "\n",
    "邮件没有主题；  \n",
    "收件人的名字没有显示为友好的名字，比如Mr Green <green@example.com>；  \n",
    "明明收到了邮件，却提示不在收件人中。  \n",
    "这是因为邮件主题、如何显示发件人、收件人等信息并不是通过SMTP协议发给MTA，而是包含在发给MTA的文本中的，所以，我们必须把From、To和Subject添加到MIMEText中，才是一封完整的邮件："
   ]
  },
  {
   "cell_type": "code",
   "execution_count": null,
   "metadata": {
    "collapsed": true
   },
   "outputs": [],
   "source": [
    "from email import encoders\n",
    "from email.header import Header\n",
    "from email.mime.text import MIMEText\n",
    "from email.utils import parseaddr, formataddr\n",
    "\n",
    "import smtplib\n",
    "\n",
    "def _format_addr(s):\n",
    "    name, addr = parseaddr(s)\n",
    "    return formataddr((Header(name, 'utf-8').encode(), addr))\n",
    "\n",
    "from_addr = input('From: ')\n",
    "password = input('Password: ')\n",
    "to_addr = input('To: ')\n",
    "smtp_server = input('SMTP server: ')\n",
    "\n",
    "msg = MIMEText('hello, send by Python...', 'plain', 'utf-8')\n",
    "msg['From'] = _format_addr('Python爱好者 <%s>' % from_addr)\n",
    "msg['To'] = _format_addr('管理员 <%s>' % to_addr)\n",
    "msg['Subject'] = Header('来自SMTP的问候……', 'utf-8').encode()\n",
    "\n",
    "server = smtplib.SMTP(smtp_server, 25)\n",
    "server.set_debuglevel(1)\n",
    "server.login(from_addr, password)\n",
    "server.sendmail(from_addr, [to_addr], msg.as_string())\n",
    "server.quit()"
   ]
  },
  {
   "cell_type": "markdown",
   "metadata": {},
   "source": [
    "`_format_addr()` 来格式化一个邮件地址。注意不能简单地传入name <addr@example.com>，因为如果包含中文，需要通过Header对象进行编码。\n",
    "\n",
    "msg['To']接收的是字符串而不是list，如果有多个邮件地址，用,分隔即可。"
   ]
  },
  {
   "cell_type": "markdown",
   "metadata": {},
   "source": [
    "## 发送 HTML 邮件"
   ]
  },
  {
   "cell_type": "markdown",
   "metadata": {},
   "source": [
    "如果我们要发送HTML邮件，而不是普通的纯文本文件怎么办？方法很简单，在构造MIMEText对象时，把HTML字符串传进去，再把第二个参数由plain变为html就可以了：\n",
    "\n",
    "`msg = MIMEText('<html><body><h1>Hello</h1>' +\n",
    "    '<p>send by <a href=\"http://www.python.org\">Python</a>...</p>' +\n",
    "    '</body></html>', 'html', 'utf-8')`"
   ]
  },
  {
   "cell_type": "markdown",
   "metadata": {},
   "source": [
    "## 发送附件"
   ]
  },
  {
   "cell_type": "markdown",
   "metadata": {},
   "source": [
    "带附件的邮件可以看做包含若干部分的邮件：文本和各个附件本身，所以，可以构造一个MIMEMultipart对象代表邮件本身，然后往里面加上一个MIMEText作为邮件正文，再继续往里面加上表示附件的MIMEBase对象即可："
   ]
  },
  {
   "cell_type": "code",
   "execution_count": null,
   "metadata": {
    "collapsed": true
   },
   "outputs": [],
   "source": [
    "# 邮件对象:\n",
    "msg = MIMEMultipart()\n",
    "msg['From'] = _format_addr('Python爱好者 <%s>' % from_addr)\n",
    "msg['To'] = _format_addr('管理员 <%s>' % to_addr)\n",
    "msg['Subject'] = Header('来自SMTP的问候……', 'utf-8').encode()\n",
    "\n",
    "# 邮件正文是MIMEText:\n",
    "msg.attach(MIMEText('send with file...', 'plain', 'utf-8'))\n",
    "\n",
    "# 添加附件就是加上一个MIMEBase，从本地读取一个图片:\n",
    "with open('/Users/michael/Downloads/test.png', 'rb') as f:\n",
    "    # 设置附件的MIME和文件名，这里是png类型:\n",
    "    mime = MIMEBase('image', 'png', filename='test.png')\n",
    "    # 加上必要的头信息:\n",
    "    mime.add_header('Content-Disposition', 'attachment', filename='test.png')\n",
    "    mime.add_header('Content-ID', '<0>')\n",
    "    mime.add_header('X-Attachment-Id', '0')\n",
    "    # 把附件的内容读进来:\n",
    "    mime.set_payload(f.read())\n",
    "    # 用Base64编码:\n",
    "    encoders.encode_base64(mime)\n",
    "    # 添加到MIMEMultipart:\n",
    "    msg.attach(mime)"
   ]
  },
  {
   "cell_type": "markdown",
   "metadata": {},
   "source": [
    "然后，按正常发送流程把msg（注意类型已变为MIMEMultipart）发送出去，就可以收到带附件的邮件"
   ]
  },
  {
   "cell_type": "markdown",
   "metadata": {},
   "source": [
    "## 发送图片\n",
    "\n",
    "如果要把一个图片嵌入到邮件正文中怎么做？直接在HTML邮件中链接图片地址行不行？答案是，大部分邮件服务商都会自动屏蔽带有外链的图片，因为不知道这些链接是否指向恶意网站。\n",
    "\n",
    "要把图片嵌入到邮件正文中，我们只需按照发送附件的方式，先把邮件作为附件添加进去，然后，在HTML中通过引用 `src=\"cid:0\"` 就可以把附件作为图片嵌入了。如果有多个图片，给它们依次编号，然后引用不同的 `cid:x` 即可。\n",
    "\n",
    "把上面代码加入MIMEMultipart的MIMEText从plain改为html，然后在适当的位置引用图片："
   ]
  },
  {
   "cell_type": "code",
   "execution_count": null,
   "metadata": {
    "collapsed": true
   },
   "outputs": [],
   "source": [
    "msg.attach(MIMEText('<html><body><h1>Hello</h1>' +\n",
    "    '<p><img src=\"cid:0\"></p>' +\n",
    "    '</body></html>', 'html', 'utf-8'))"
   ]
  },
  {
   "cell_type": "markdown",
   "metadata": {},
   "source": [
    "再次发送，就可以看到图片直接嵌入到邮件正文的效果"
   ]
  },
  {
   "cell_type": "markdown",
   "metadata": {},
   "source": [
    "## 同时支持HTML和Plain格式"
   ]
  },
  {
   "cell_type": "markdown",
   "metadata": {},
   "source": [
    "如果我们发送HTML邮件，收件人通过浏览器或者Outlook之类的软件是可以正常浏览邮件内容的，但是，如果收件人使用的设备太古老，查看不了HTML邮件怎么办？\n",
    "\n",
    "办法是在发送HTML的同时再附加一个纯文本，如果收件人无法查看HTML格式的邮件，就可以自动降级查看纯文本邮件。\n",
    "\n",
    "利用MIMEMultipart就可以组合一个HTML和Plain，要注意指定subtype是alternative"
   ]
  },
  {
   "cell_type": "code",
   "execution_count": null,
   "metadata": {
    "collapsed": true
   },
   "outputs": [],
   "source": [
    "msg = MIMEMultipart('alternative')\n",
    "msg['From'] = ...\n",
    "msg['To'] = ...\n",
    "msg['Subject'] = ...\n",
    "\n",
    "msg.attach(MIMEText('hello', 'plain', 'utf-8'))\n",
    "msg.attach(MIMEText('<html><body><h1>Hello</h1></body></html>', 'html', 'utf-8'))\n",
    "# 正常发送msg对象..."
   ]
  },
  {
   "cell_type": "markdown",
   "metadata": {},
   "source": [
    "## 加密 SMTP"
   ]
  },
  {
   "cell_type": "markdown",
   "metadata": {},
   "source": [
    "使用标准的25端口连接SMTP服务器时，使用的是明文传输，发送邮件的整个过程可能会被窃听。要更安全地发送邮件，可以加密SMTP会话，实际上就是先创建SSL安全连接，然后再使用SMTP协议发送邮件。\n",
    "\n",
    "某些邮件服务商，例如Gmail，提供的SMTP服务必须要加密传输。我们来看看如何通过Gmail提供的安全SMTP发送邮件。\n",
    "\n",
    "必须知道，Gmail的SMTP端口是587，因此，修改代码如下"
   ]
  },
  {
   "cell_type": "code",
   "execution_count": null,
   "metadata": {
    "collapsed": true
   },
   "outputs": [],
   "source": [
    "smtp_server = 'smtp.gmail.com'\n",
    "smtp_port = 587\n",
    "server = smtplib.SMTP(smtp_server, smtp_port)\n",
    "server.starttls()\n",
    "# 剩下的代码和前面的一模一样:\n",
    "server.set_debuglevel(1)\n",
    "..."
   ]
  },
  {
   "cell_type": "markdown",
   "metadata": {},
   "source": [
    "只需要在创建SMTP对象后，立刻调用starttls()方法，就创建了安全连接。"
   ]
  },
  {
   "cell_type": "markdown",
   "metadata": {},
   "source": [
    "## 小结\n",
    "\n",
    "使用Python的smtplib发送邮件十分简单，只要掌握了各种邮件类型的构造方法，正确设置好邮件头，就可以顺利发出。\n",
    "\n",
    "构造一个邮件对象就是一个Messag对象，如果构造一个MIMEText对象，就表示一个文本邮件对象，如果构造一个MIMEImage对象，就表示一个作为附件的图片，要把多个对象组合起来，就用MIMEMultipart对象，而MIMEBase可以表示任何对象。它们的继承关系如下：\n"
   ]
  },
  {
   "cell_type": "code",
   "execution_count": null,
   "metadata": {
    "collapsed": true
   },
   "outputs": [],
   "source": [
    "Message\n",
    "+- MIMEBase\n",
    "   +- MIMEMultipart\n",
    "   +- MIMENonMultipart\n",
    "      +- MIMEMessage\n",
    "      +- MIMEText\n",
    "      +- MIMEImage"
   ]
  },
  {
   "cell_type": "markdown",
   "metadata": {
    "collapsed": true
   },
   "source": [
    "# POP3 收取邮件"
   ]
  },
  {
   "cell_type": "markdown",
   "metadata": {},
   "source": [
    "收取邮件分两步：\n",
    "\n",
    "第一步：用poplib把邮件的原始文本下载到本地；\n",
    "\n",
    "第二部：用email解析原始文本，还原为邮件对象。"
   ]
  },
  {
   "cell_type": "markdown",
   "metadata": {},
   "source": [
    "## 下载邮件"
   ]
  },
  {
   "cell_type": "code",
   "execution_count": 4,
   "metadata": {
    "collapsed": true
   },
   "outputs": [],
   "source": [
    "from email.parser import Parser\n",
    "from email.header import decode_header\n",
    "from email.utils import parseaddr\n",
    "\n",
    "import poplib"
   ]
  },
  {
   "cell_type": "code",
   "execution_count": null,
   "metadata": {
    "collapsed": true
   },
   "outputs": [],
   "source": [
    "import poplib\n",
    "\n",
    "# 输入邮件地址, 口令和POP3服务器地址:\n",
    "email = input('Email: ')\n",
    "password = input('Password: ')\n",
    "pop3_server = input('POP3 server: ')\n",
    "\n",
    "# 连接到POP3服务器:\n",
    "server = poplib.POP3(pop3_server)\n",
    "# 可以打开或关闭调试信息:\n",
    "server.set_debuglevel(1)\n",
    "# 可选:打印POP3服务器的欢迎文字:\n",
    "print(server.getwelcome().decode('utf-8'))\n",
    "\n",
    "# 身份认证:\n",
    "server.user(email)\n",
    "server.pass_(password)\n",
    "\n",
    "# stat()返回邮件数量和占用空间:\n",
    "print('Messages: %s. Size: %s' % server.stat())\n",
    "# list()返回所有邮件的编号:\n",
    "resp, mails, octets = server.list()\n",
    "# 可以查看返回的列表类似[b'1 82923', b'2 2184', ...]\n",
    "print(mails)\n",
    "\n",
    "# 获取最新一封邮件, 注意索引号从1开始:\n",
    "index = len(mails)\n",
    "resp, lines, octets = server.retr(index)\n",
    "\n",
    "# lines存储了邮件的原始文本的每一行,\n",
    "# 可以获得整个邮件的原始文本:\n",
    "msg_content = b'\\r\\n'.join(lines).decode('utf-8')\n",
    "# 稍后解析出邮件:\n",
    "msg = Parser().parsestr(msg_content)\n",
    "\n",
    "# 可以根据邮件索引号直接从服务器删除邮件:\n",
    "# server.dele(index)\n",
    "# 关闭连接:\n",
    "server.quit()"
   ]
  },
  {
   "cell_type": "markdown",
   "metadata": {},
   "source": [
    "## 解析邮件"
   ]
  },
  {
   "cell_type": "code",
   "execution_count": 11,
   "metadata": {
    "collapsed": true
   },
   "outputs": [],
   "source": [
    "msg = Parser().parsestr(msg_content)"
   ]
  },
  {
   "cell_type": "markdown",
   "metadata": {},
   "source": [
    "## 递归地打印出Message对象的层次结构"
   ]
  },
  {
   "cell_type": "code",
   "execution_count": 13,
   "metadata": {
    "collapsed": true
   },
   "outputs": [],
   "source": [
    "# 邮件的Subject或者Email中包含的名字都是经过编码后的str，要正常显示，就必须decode\n",
    "def decode_str(s):\n",
    "    value, charset = decode_header(s)[0]\n",
    "    if charset:\n",
    "        value = value.decode(charset)\n",
    "    return value"
   ]
  },
  {
   "cell_type": "code",
   "execution_count": 14,
   "metadata": {
    "collapsed": true
   },
   "outputs": [],
   "source": [
    "# 文本邮件的内容也是str，还需要检测编码，否则，非UTF-8编码的邮件都无法正常显示\n",
    "def guess_charset(msg):\n",
    "    charset = msg.get_charset()\n",
    "    if charset is None:\n",
    "        content_type = msg.get('Content-Type', '').lower()\n",
    "        pos = content_type.find('charset=')\n",
    "        if pos >= 0:\n",
    "            charset = content_type[pos + 8:].strip()\n",
    "    return charset"
   ]
  },
  {
   "cell_type": "code",
   "execution_count": 12,
   "metadata": {
    "collapsed": true
   },
   "outputs": [],
   "source": [
    "# indent用于缩进显示:\n",
    "def print_info(msg, indent=0):\n",
    "    if indent == 0:\n",
    "        for header in ['From', 'To', 'Subject']:\n",
    "            value = msg.get(header, '')\n",
    "            if value:\n",
    "                if header=='Subject':\n",
    "                    value = decode_str(value)\n",
    "                else:\n",
    "                    hdr, addr = parseaddr(value)\n",
    "                    name = decode_str(hdr)\n",
    "                    value = u'%s <%s>' % (name, addr)\n",
    "            print('%s%s: %s' % ('  ' * indent, header, value))\n",
    "    if (msg.is_multipart()):\n",
    "        parts = msg.get_payload()\n",
    "        for n, part in enumerate(parts):\n",
    "            print('%spart %s' % ('  ' * indent, n))\n",
    "            print('%s--------------------' % ('  ' * indent))\n",
    "            print_info(part, indent + 1)\n",
    "    else:\n",
    "        content_type = msg.get_content_type()\n",
    "        if content_type=='text/plain' or content_type=='text/html':\n",
    "            content = msg.get_payload(decode=True)\n",
    "            charset = guess_charset(msg)\n",
    "            if charset:\n",
    "                content = content.decode(charset)\n",
    "            print('%sText: %s' % ('  ' * indent, content + '...'))\n",
    "        else:\n",
    "            print('%sAttachment: %s' % ('  ' * indent, content_type))"
   ]
  },
  {
   "cell_type": "code",
   "execution_count": 15,
   "metadata": {
    "collapsed": false
   },
   "outputs": [
    {
     "name": "stdout",
     "output_type": "stream",
     "text": [
      "From: 郝少春 <haoshaochun@126.com>\n",
      "To: haoshaochun@126.com <haoshaochun@126.com>\n",
      "Subject: test\n",
      "part 0\n",
      "--------------------\n",
      "  Text: 思念慧慧。...\n",
      "part 1\n",
      "--------------------\n",
      "  Text: <div style=\"line-height:1.7;color:#000000;font-size:14px;font-family:Arial\">思念慧慧。</div><br><br><span title=\"neteasefooter\"><div id=\"netease_mail_footer\"><div style=\"border-top:#CCC 1px solid;padding:10px 5px;font-size:16px;color:#777;line-height:22px\"><a href=\"http://you.163.com/item/detail?id=1113010&from=web_gg_mail_jiaobiao_8\" target=\"_blank\" style=\"color:#3366FF;text-decoration:none\">【网易自营|30天无忧退货】美国JOCKEY制造商春夏新款“男式丝滑莫代尔内裤”限时仅59元，还可叠加用券&gt;&gt; &nbsp; &nbsp;</a>\n",
      " &nbsp; &nbsp;</div></div></span>...\n"
     ]
    }
   ],
   "source": [
    "print_info(msg)"
   ]
  },
  {
   "cell_type": "markdown",
   "metadata": {},
   "source": [
    "## 小结\n",
    "\n",
    "用Python的poplib模块收取邮件分两步：第一步是用POP3协议把邮件获取到本地，第二步是用email模块把原始邮件解析为Message对象，然后，用适当的形式把邮件内容展示给用户即可。"
   ]
  },
  {
   "cell_type": "code",
   "execution_count": null,
   "metadata": {
    "collapsed": true
   },
   "outputs": [],
   "source": []
  }
 ],
 "metadata": {
  "anaconda-cloud": {},
  "kernelspec": {
   "display_name": "Python [default]",
   "language": "python",
   "name": "python3"
  },
  "language_info": {
   "codemirror_mode": {
    "name": "ipython",
    "version": 3
   },
   "file_extension": ".py",
   "mimetype": "text/x-python",
   "name": "python",
   "nbconvert_exporter": "python",
   "pygments_lexer": "ipython3",
   "version": "3.5.2"
  },
  "latex_envs": {
   "LaTeX_envs_menu_present": true,
   "bibliofile": "biblio.bib",
   "cite_by": "apalike",
   "current_citInitial": 1,
   "eqLabelWithNumbers": true,
   "eqNumInitial": 1,
   "hotkeys": {
    "equation": "Ctrl-E",
    "itemize": "Ctrl-I"
   },
   "labels_anchors": false,
   "latex_user_defs": false,
   "report_style_numbering": false,
   "user_envs_cfg": false
  },
  "toc": {
   "colors": {
    "hover_highlight": "#DAA520",
    "running_highlight": "#FF0000",
    "selected_highlight": "#FFD700"
   },
   "moveMenuLeft": true,
   "nav_menu": {
    "height": "48px",
    "width": "252px"
   },
   "navigate_menu": true,
   "number_sections": true,
   "sideBar": true,
   "threshold": 4,
   "toc_cell": false,
   "toc_section_display": "block",
   "toc_window_display": true
  }
 },
 "nbformat": 4,
 "nbformat_minor": 0
}
