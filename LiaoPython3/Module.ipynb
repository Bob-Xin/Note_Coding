{
 "cells": [
  {
   "cell_type": "markdown",
   "metadata": {
    "toc": "true"
   },
   "source": [
    "# Table of Contents\n",
    " <p><div class=\"lev1 toc-item\"><a href=\"#使用模块\" data-toc-modified-id=\"使用模块-1\"><span class=\"toc-item-num\">1&nbsp;&nbsp;</span>使用模块</a></div><div class=\"lev2 toc-item\"><a href=\"#作用域\" data-toc-modified-id=\"作用域-11\"><span class=\"toc-item-num\">1.1&nbsp;&nbsp;</span>作用域</a></div><div class=\"lev1 toc-item\"><a href=\"#安装第三方模块\" data-toc-modified-id=\"安装第三方模块-2\"><span class=\"toc-item-num\">2&nbsp;&nbsp;</span>安装第三方模块</a></div><div class=\"lev2 toc-item\"><a href=\"#模块搜索路径\" data-toc-modified-id=\"模块搜索路径-21\"><span class=\"toc-item-num\">2.1&nbsp;&nbsp;</span>模块搜索路径</a></div>"
   ]
  },
  {
   "cell_type": "markdown",
   "metadata": {},
   "source": [
    "- 每一个 包 目录下都有一个 `__init__.py` 的文件，必须存在，否则 Python 就会把目录当成普通目录，而不是一个包  \n",
    "- `__init__.py` 可以是空文件，也可以有代码，本身是个模块，名字就是包的名字  "
   ]
  },
  {
   "cell_type": "markdown",
   "metadata": {},
   "source": [
    "```\n",
    "\\mycompany\n",
    "\n",
    "\\mycompany\\__init__.py\n",
    "\\mycompany\\abc.py\n",
    "\\mycompany\\utils.py\n",
    "\\mycompany\\xyz.py\n",
    "\n",
    "\\mycompany\\web\n",
    "\n",
    "  \\mycompany\\web\\__init__.py\n",
    "  \\mycompany\\web\\utils.py\n",
    "  \\mycompany\\web\\www.py\n",
    "\n",
    "```"
   ]
  },
  {
   "cell_type": "markdown",
   "metadata": {},
   "source": [
    "- `www.py` 的模块名就是 `mycompany.web.www`，两个文件 `utils.py` 的模块名分别是 `mycompany.utils` 和 `mycompany.web.utils`\n",
    "- `mycompany.www` 也是一个模块，指出该模块对应的 .py 文件"
   ]
  },
  {
   "cell_type": "markdown",
   "metadata": {},
   "source": [
    "# 使用模块"
   ]
  },
  {
   "cell_type": "code",
   "execution_count": 8,
   "metadata": {
    "collapsed": false
   },
   "outputs": [
    {
     "name": "stdout",
     "output_type": "stream",
     "text": [
      "Too many arguments!\n"
     ]
    }
   ],
   "source": [
    "#! /usr/bin/env python3\n",
    "# -*- coding:utf-8 -*-\n",
    "\n",
    "'a test module'\n",
    "\n",
    "__author__ = 'Yam'\n",
    "\n",
    "import sys\n",
    "\n",
    "def test():\n",
    "    args = sys.argv\n",
    "    if len(args) == 1:\n",
    "        print('Hello, world!')\n",
    "    elif len(args) == 2:\n",
    "        print('Hello, %s!' % args[1])\n",
    "    else:\n",
    "        print('Too many arguments!')\n",
    "\n",
    "if __name__ == '__main__':\n",
    "    test()"
   ]
  },
  {
   "cell_type": "markdown",
   "metadata": {},
   "source": [
    "- argv 用list 存储了命令行的所有参数\n",
    "- argv 至少有一个元素，因为第一个参数永远是该 py 文件的名称\n",
    "- 运行 `python3 hello.py` 获得的 `sys.argv` 就是 `['hello.py']`\n",
    "- 运行 `python3 hello.py Yam` 获得的 `sys.argv` 就是 `['hello.py', 'Yam']`\n",
    "- 把一个特殊变量 `__name__` 置为 `__main__`，在其他地方导入该模块时，if 判断将失败，因此可以让一个模块通过命令行运行时执行一些额外的代码，最常见的是运行测试"
   ]
  },
  {
   "cell_type": "markdown",
   "metadata": {},
   "source": [
    "## 作用域"
   ]
  },
  {
   "cell_type": "markdown",
   "metadata": {},
   "source": [
    "- 函数和变量如果希望只在模块内部使用，通过 `_` 前缀实现\n",
    "- `__xxx__` 这样的变量是特殊变量，有特殊用途，如 author，name\n",
    "- `_xxx` 和 `__xxx` 这样的函数或变量是非公开的，不应该被直接引用\n",
    "\n",
    "调用 greeting() 不用关心内部的 private 函数细节，一种非常有用的代码封装和抽象方法。"
   ]
  },
  {
   "cell_type": "code",
   "execution_count": 9,
   "metadata": {
    "collapsed": true
   },
   "outputs": [],
   "source": [
    "def _private_1(name):\n",
    "    return 'Hello, %s' % name\n",
    "\n",
    "def _private_2(name):\n",
    "    return 'Hi, %s' % name\n",
    "\n",
    "def greeting(name):\n",
    "    if len(name) > 3:\n",
    "        return _private_1(name)\n",
    "    else:\n",
    "        return _private_2(name)"
   ]
  },
  {
   "cell_type": "code",
   "execution_count": 12,
   "metadata": {
    "collapsed": false
   },
   "outputs": [
    {
     "data": {
      "text/plain": [
       "'Hi, Yam'"
      ]
     },
     "execution_count": 12,
     "metadata": {},
     "output_type": "execute_result"
    }
   ],
   "source": [
    "greeting(\"Yam\")"
   ]
  },
  {
   "cell_type": "code",
   "execution_count": 13,
   "metadata": {
    "collapsed": false
   },
   "outputs": [
    {
     "data": {
      "text/plain": [
       "'Hello, haoshaochun'"
      ]
     },
     "execution_count": 13,
     "metadata": {},
     "output_type": "execute_result"
    }
   ],
   "source": [
    "greeting(\"haoshaochun\")"
   ]
  },
  {
   "cell_type": "markdown",
   "metadata": {},
   "source": [
    "# 安装第三方模块"
   ]
  },
  {
   "cell_type": "code",
   "execution_count": 2,
   "metadata": {
    "collapsed": false
   },
   "outputs": [
    {
     "name": "stdout",
     "output_type": "stream",
     "text": [
      "Requirement already satisfied: Pillow in /home/evil_rabbit/anaconda2/lib/python2.7/site-packages\r\n"
     ]
    }
   ],
   "source": [
    "!pip install Pillow"
   ]
  },
  {
   "cell_type": "code",
   "execution_count": null,
   "metadata": {
    "collapsed": false
   },
   "outputs": [],
   "source": [
    "import PIL"
   ]
  },
  {
   "cell_type": "code",
   "execution_count": 3,
   "metadata": {
    "collapsed": false
   },
   "outputs": [
    {
     "ename": "ImportError",
     "evalue": "No module named 'PIL'",
     "output_type": "error",
     "traceback": [
      "\u001b[0;31m---------------------------------------------------------------------------\u001b[0m",
      "\u001b[0;31mImportError\u001b[0m                               Traceback (most recent call last)",
      "\u001b[0;32m<ipython-input-3-0f6709e38f49>\u001b[0m in \u001b[0;36m<module>\u001b[0;34m()\u001b[0m\n\u001b[0;32m----> 1\u001b[0;31m \u001b[0;32mfrom\u001b[0m \u001b[0mPIL\u001b[0m \u001b[0;32mimport\u001b[0m \u001b[0mImage\u001b[0m\u001b[0;34m\u001b[0m\u001b[0m\n\u001b[0m",
      "\u001b[0;31mImportError\u001b[0m: No module named 'PIL'"
     ]
    }
   ],
   "source": [
    "from PIL import Image"
   ]
  },
  {
   "cell_type": "code",
   "execution_count": null,
   "metadata": {
    "collapsed": false
   },
   "outputs": [],
   "source": [
    "sys.path"
   ]
  },
  {
   "cell_type": "markdown",
   "metadata": {
    "collapsed": true
   },
   "source": [
    "## 模块搜索路径"
   ]
  },
  {
   "cell_type": "markdown",
   "metadata": {},
   "source": [
    "默认 Python 解释器会搜索当前目录、所有已安装的内置模块和第三方模块，搜索路径存放在 sys 模块的 path 变量中。"
   ]
  },
  {
   "cell_type": "markdown",
   "metadata": {},
   "source": [
    "添加自己的搜索目录：  \n",
    "\n",
    "- 修改 `sys.path`，添加要搜索的目录：  \n",
    "  - `import sys`\n",
    "  - `sys.path.append('/Users/.../...')`\n",
    "  - 运行时修改，结束后失效\n",
    "- 设置环境变量 `PYTHONPATH`，添加即可"
   ]
  },
  {
   "cell_type": "code",
   "execution_count": null,
   "metadata": {
    "collapsed": true
   },
   "outputs": [],
   "source": []
  }
 ],
 "metadata": {
  "kernelspec": {
   "display_name": "Python 3",
   "language": "python",
   "name": "python3"
  },
  "language_info": {
   "codemirror_mode": {
    "name": "ipython",
    "version": 3
   },
   "file_extension": ".py",
   "mimetype": "text/x-python",
   "name": "python",
   "nbconvert_exporter": "python",
   "pygments_lexer": "ipython3",
   "version": "3.3.5"
  },
  "latex_envs": {
   "LaTeX_envs_menu_present": true,
   "bibliofile": "biblio.bib",
   "cite_by": "apalike",
   "current_citInitial": 1,
   "eqLabelWithNumbers": true,
   "eqNumInitial": 1,
   "hotkeys": {
    "equation": "Ctrl-E",
    "itemize": "Ctrl-I"
   },
   "labels_anchors": false,
   "latex_user_defs": false,
   "report_style_numbering": false,
   "user_envs_cfg": false
  },
  "toc": {
   "colors": {
    "hover_highlight": "#DAA520",
    "running_highlight": "#FF0000",
    "selected_highlight": "#FFD700"
   },
   "moveMenuLeft": true,
   "nav_menu": {
    "height": "66px",
    "width": "252px"
   },
   "navigate_menu": true,
   "number_sections": true,
   "sideBar": true,
   "threshold": 4,
   "toc_cell": true,
   "toc_section_display": "block",
   "toc_window_display": true
  }
 },
 "nbformat": 4,
 "nbformat_minor": 0
}
