{
 "cells": [
  {
   "cell_type": "markdown",
   "metadata": {
    "toc": "true"
   },
   "source": [
    "# Table of Contents\n",
    " <p><div class=\"lev1 toc-item\"><a href=\"#datetime\" data-toc-modified-id=\"datetime-1\"><span class=\"toc-item-num\">1&nbsp;&nbsp;</span>datetime</a></div><div class=\"lev2 toc-item\"><a href=\"#获取当前日期时间\" data-toc-modified-id=\"获取当前日期时间-11\"><span class=\"toc-item-num\">1.1&nbsp;&nbsp;</span>获取当前日期时间</a></div><div class=\"lev2 toc-item\"><a href=\"#获取指定日期时间\" data-toc-modified-id=\"获取指定日期时间-12\"><span class=\"toc-item-num\">1.2&nbsp;&nbsp;</span>获取指定日期时间</a></div><div class=\"lev2 toc-item\"><a href=\"#datetime-转为-timestamp\" data-toc-modified-id=\"datetime-转为-timestamp-13\"><span class=\"toc-item-num\">1.3&nbsp;&nbsp;</span>datetime 转为 timestamp</a></div><div class=\"lev2 toc-item\"><a href=\"#datetime-转为-timestamp\" data-toc-modified-id=\"datetime-转为-timestamp-14\"><span class=\"toc-item-num\">1.4&nbsp;&nbsp;</span>datetime 转为 timestamp</a></div><div class=\"lev2 toc-item\"><a href=\"#timestamp-转为-datetime\" data-toc-modified-id=\"timestamp-转为-datetime-15\"><span class=\"toc-item-num\">1.5&nbsp;&nbsp;</span>timestamp 转为 datetime</a></div><div class=\"lev2 toc-item\"><a href=\"#str-转为-datetime\" data-toc-modified-id=\"str-转为-datetime-16\"><span class=\"toc-item-num\">1.6&nbsp;&nbsp;</span>str 转为 datetime</a></div><div class=\"lev2 toc-item\"><a href=\"#datetime-转为-str\" data-toc-modified-id=\"datetime-转为-str-17\"><span class=\"toc-item-num\">1.7&nbsp;&nbsp;</span>datetime 转为 str</a></div><div class=\"lev2 toc-item\"><a href=\"#datetime-加减\" data-toc-modified-id=\"datetime-加减-18\"><span class=\"toc-item-num\">1.8&nbsp;&nbsp;</span>datetime 加减</a></div><div class=\"lev2 toc-item\"><a href=\"#本地时间转为-UTC-时间\" data-toc-modified-id=\"本地时间转为-UTC-时间-19\"><span class=\"toc-item-num\">1.9&nbsp;&nbsp;</span>本地时间转为 UTC 时间</a></div><div class=\"lev2 toc-item\"><a href=\"#时区转换\" data-toc-modified-id=\"时区转换-110\"><span class=\"toc-item-num\">1.10&nbsp;&nbsp;</span>时区转换</a></div><div class=\"lev2 toc-item\"><a href=\"#小结\" data-toc-modified-id=\"小结-111\"><span class=\"toc-item-num\">1.11&nbsp;&nbsp;</span>小结</a></div><div class=\"lev1 toc-item\"><a href=\"#collections\" data-toc-modified-id=\"collections-2\"><span class=\"toc-item-num\">2&nbsp;&nbsp;</span>collections</a></div><div class=\"lev2 toc-item\"><a href=\"#namedtuple\" data-toc-modified-id=\"namedtuple-21\"><span class=\"toc-item-num\">2.1&nbsp;&nbsp;</span>namedtuple</a></div><div class=\"lev2 toc-item\"><a href=\"#deque\" data-toc-modified-id=\"deque-22\"><span class=\"toc-item-num\">2.2&nbsp;&nbsp;</span>deque</a></div><div class=\"lev2 toc-item\"><a href=\"#defaultdict\" data-toc-modified-id=\"defaultdict-23\"><span class=\"toc-item-num\">2.3&nbsp;&nbsp;</span>defaultdict</a></div><div class=\"lev2 toc-item\"><a href=\"#OrderdDict\" data-toc-modified-id=\"OrderdDict-24\"><span class=\"toc-item-num\">2.4&nbsp;&nbsp;</span>OrderdDict</a></div><div class=\"lev2 toc-item\"><a href=\"#Counter\" data-toc-modified-id=\"Counter-25\"><span class=\"toc-item-num\">2.5&nbsp;&nbsp;</span>Counter</a></div><div class=\"lev1 toc-item\"><a href=\"#base64\" data-toc-modified-id=\"base64-3\"><span class=\"toc-item-num\">3&nbsp;&nbsp;</span>base64</a></div><div class=\"lev1 toc-item\"><a href=\"#struct\" data-toc-modified-id=\"struct-4\"><span class=\"toc-item-num\">4&nbsp;&nbsp;</span>struct</a></div><div class=\"lev1 toc-item\"><a href=\"#hashilib\" data-toc-modified-id=\"hashilib-5\"><span class=\"toc-item-num\">5&nbsp;&nbsp;</span>hashilib</a></div><div class=\"lev2 toc-item\"><a href=\"#摘要算法简介\" data-toc-modified-id=\"摘要算法简介-51\"><span class=\"toc-item-num\">5.1&nbsp;&nbsp;</span>摘要算法简介</a></div><div class=\"lev2 toc-item\"><a href=\"#摘要算法应用\" data-toc-modified-id=\"摘要算法应用-52\"><span class=\"toc-item-num\">5.2&nbsp;&nbsp;</span>摘要算法应用</a></div><div class=\"lev1 toc-item\"><a href=\"#itertools\" data-toc-modified-id=\"itertools-6\"><span class=\"toc-item-num\">6&nbsp;&nbsp;</span>itertools</a></div><div class=\"lev2 toc-item\"><a href=\"#count,-cycle,-repeat\" data-toc-modified-id=\"count,-cycle,-repeat-61\"><span class=\"toc-item-num\">6.1&nbsp;&nbsp;</span>count, cycle, repeat</a></div><div class=\"lev2 toc-item\"><a href=\"#chain()\" data-toc-modified-id=\"chain()-62\"><span class=\"toc-item-num\">6.2&nbsp;&nbsp;</span>chain()</a></div><div class=\"lev2 toc-item\"><a href=\"#groupby()\" data-toc-modified-id=\"groupby()-63\"><span class=\"toc-item-num\">6.3&nbsp;&nbsp;</span>groupby()</a></div><div class=\"lev1 toc-item\"><a href=\"#contextlib\" data-toc-modified-id=\"contextlib-7\"><span class=\"toc-item-num\">7&nbsp;&nbsp;</span>contextlib</a></div><div class=\"lev2 toc-item\"><a href=\"#try..finally\" data-toc-modified-id=\"try..finally-71\"><span class=\"toc-item-num\">7.1&nbsp;&nbsp;</span>try..finally</a></div><div class=\"lev2 toc-item\"><a href=\"#with\" data-toc-modified-id=\"with-72\"><span class=\"toc-item-num\">7.2&nbsp;&nbsp;</span>with</a></div><div class=\"lev2 toc-item\"><a href=\"#@contextmanager\" data-toc-modified-id=\"@contextmanager-73\"><span class=\"toc-item-num\">7.3&nbsp;&nbsp;</span>@contextmanager</a></div><div class=\"lev2 toc-item\"><a href=\"#@closing\" data-toc-modified-id=\"@closing-74\"><span class=\"toc-item-num\">7.4&nbsp;&nbsp;</span>@closing</a></div><div class=\"lev1 toc-item\"><a href=\"#XML\" data-toc-modified-id=\"XML-8\"><span class=\"toc-item-num\">8&nbsp;&nbsp;</span>XML</a></div><div class=\"lev2 toc-item\"><a href=\"#DOM-vs-SAX\" data-toc-modified-id=\"DOM-vs-SAX-81\"><span class=\"toc-item-num\">8.1&nbsp;&nbsp;</span>DOM vs SAX</a></div>"
   ]
  },
  {
   "cell_type": "markdown",
   "metadata": {},
   "source": [
    "# datetime"
   ]
  },
  {
   "cell_type": "markdown",
   "metadata": {},
   "source": [
    "## 获取当前日期时间"
   ]
  },
  {
   "cell_type": "code",
   "execution_count": 1,
   "metadata": {
    "collapsed": false
   },
   "outputs": [
    {
     "name": "stdout",
     "output_type": "stream",
     "text": [
      "2017-03-07 08:39:37.858135\n"
     ]
    }
   ],
   "source": [
    "from datetime import datetime # datetime 模块有个 datetime 类\n",
    "now = datetime.now()\n",
    "print(now)"
   ]
  },
  {
   "cell_type": "code",
   "execution_count": 2,
   "metadata": {
    "collapsed": false
   },
   "outputs": [
    {
     "name": "stdout",
     "output_type": "stream",
     "text": [
      "<class 'datetime.datetime'>\n"
     ]
    }
   ],
   "source": [
    "print(type(now))"
   ]
  },
  {
   "cell_type": "markdown",
   "metadata": {},
   "source": [
    "## 获取指定日期时间"
   ]
  },
  {
   "cell_type": "code",
   "execution_count": 3,
   "metadata": {
    "collapsed": true
   },
   "outputs": [],
   "source": [
    "from datetime import datetime\n",
    "dt = datetime(2015, 4, 22, 12, 20)"
   ]
  },
  {
   "cell_type": "code",
   "execution_count": 6,
   "metadata": {
    "collapsed": false
   },
   "outputs": [
    {
     "name": "stdout",
     "output_type": "stream",
     "text": [
      "2015-04-22 12:20:00\n"
     ]
    }
   ],
   "source": [
    "print(dt)"
   ]
  },
  {
   "cell_type": "markdown",
   "metadata": {},
   "source": [
    "## datetime 转为 timestamp"
   ]
  },
  {
   "cell_type": "markdown",
   "metadata": {},
   "source": [
    "在计算机中，时间实际上是用数字表示的。我们把1970年1月1日 00:00:00 UTC+00:00时区的时刻称为epoch time，记为0（1970年以前的时间timestamp为负数），当前时间就是相对于epoch time的秒数，称为timestamp。"
   ]
  },
  {
   "cell_type": "markdown",
   "metadata": {},
   "source": [
    "`timestamp = 0 = 1970-1-1 00:00:00 UTC+0:00`，对应的北京时间：  \n",
    "`timestamp = 0 = 1970-1-1 00:00:00 UTC+8:00`"
   ]
  },
  {
   "cell_type": "markdown",
   "metadata": {},
   "source": [
    "可见timestamp的值与时区毫无关系，因为timestamp一旦确定，其UTC时间就确定了，转换到任意时区的时间也是完全确定的，这就是为什么计算机存储的当前时间是以timestamp表示的，因为全球各地的计算机在任意时刻的timestamp都是完全相同的（假定时间已校准）。"
   ]
  },
  {
   "cell_type": "markdown",
   "metadata": {},
   "source": [
    "## datetime 转为 timestamp"
   ]
  },
  {
   "cell_type": "code",
   "execution_count": 8,
   "metadata": {
    "collapsed": true
   },
   "outputs": [],
   "source": [
    "from datetime import datetime\n",
    "dt = datetime(2015, 4, 20, 12, 20)"
   ]
  },
  {
   "cell_type": "code",
   "execution_count": 10,
   "metadata": {
    "collapsed": false
   },
   "outputs": [
    {
     "data": {
      "text/plain": [
       "1429503600.0"
      ]
     },
     "execution_count": 10,
     "metadata": {},
     "output_type": "execute_result"
    }
   ],
   "source": [
    "dt.timestamp() # 小数位表示毫秒"
   ]
  },
  {
   "cell_type": "markdown",
   "metadata": {},
   "source": [
    "## timestamp 转为 datetime"
   ]
  },
  {
   "cell_type": "code",
   "execution_count": 12,
   "metadata": {
    "collapsed": false
   },
   "outputs": [
    {
     "name": "stdout",
     "output_type": "stream",
     "text": [
      "2015-04-20 12:20:00\n"
     ]
    }
   ],
   "source": [
    "from datetime import datetime\n",
    "t = 1429503600.0\n",
    "print(datetime.fromtimestamp(t))"
   ]
  },
  {
   "cell_type": "markdown",
   "metadata": {},
   "source": [
    "timestamp 也可以直接被转换到 UTC 标准时区的时间"
   ]
  },
  {
   "cell_type": "code",
   "execution_count": 14,
   "metadata": {
    "collapsed": false
   },
   "outputs": [
    {
     "name": "stdout",
     "output_type": "stream",
     "text": [
      "2015-04-20 12:20:00\n",
      "2015-04-20 04:20:00\n"
     ]
    }
   ],
   "source": [
    "from datetime import datetime\n",
    "t = 1429503600\n",
    "print(datetime.fromtimestamp(t)) # 本地时间\n",
    "\n",
    "print(datetime.utcfromtimestamp(t))"
   ]
  },
  {
   "cell_type": "markdown",
   "metadata": {},
   "source": [
    "## str 转为 datetime"
   ]
  },
  {
   "cell_type": "markdown",
   "metadata": {},
   "source": [
    "`datetime.strptime()`"
   ]
  },
  {
   "cell_type": "code",
   "execution_count": 15,
   "metadata": {
    "collapsed": false
   },
   "outputs": [
    {
     "name": "stdout",
     "output_type": "stream",
     "text": [
      "2015-06-01 18:19:59\n"
     ]
    }
   ],
   "source": [
    "from datetime import datetime\n",
    "cday = datetime.strptime('2015-6-1 18:19:59', '%Y-%m-%d %H:%M:%S') \n",
    "print(cday)"
   ]
  },
  {
   "cell_type": "code",
   "execution_count": 16,
   "metadata": {
    "collapsed": false
   },
   "outputs": [
    {
     "data": {
      "text/plain": [
       "datetime.datetime"
      ]
     },
     "execution_count": 16,
     "metadata": {},
     "output_type": "execute_result"
    }
   ],
   "source": [
    "type(cday)"
   ]
  },
  {
   "cell_type": "markdown",
   "metadata": {},
   "source": [
    "## datetime 转为 str"
   ]
  },
  {
   "cell_type": "markdown",
   "metadata": {},
   "source": [
    "`strftime()`"
   ]
  },
  {
   "cell_type": "code",
   "execution_count": 17,
   "metadata": {
    "collapsed": false
   },
   "outputs": [
    {
     "name": "stdout",
     "output_type": "stream",
     "text": [
      "Tue, Mar 07 09:23\n"
     ]
    }
   ],
   "source": [
    "from datetime import datetime\n",
    "now = datetime.now()\n",
    "print(now.strftime('%a, %b %d %H:%M'))"
   ]
  },
  {
   "cell_type": "code",
   "execution_count": 18,
   "metadata": {
    "collapsed": false
   },
   "outputs": [
    {
     "name": "stdout",
     "output_type": "stream",
     "text": [
      "2017-03-07 09:23:19.739780\n"
     ]
    }
   ],
   "source": [
    "print(now)"
   ]
  },
  {
   "cell_type": "markdown",
   "metadata": {},
   "source": [
    "## datetime 加减"
   ]
  },
  {
   "cell_type": "markdown",
   "metadata": {},
   "source": [
    "对日期和时间进行加减实际上就是把datetime往后或往前计算，得到新的datetime。加减可以直接用+和-运算符，不过需要导入timedelta这个类："
   ]
  },
  {
   "cell_type": "code",
   "execution_count": 19,
   "metadata": {
    "collapsed": false
   },
   "outputs": [
    {
     "data": {
      "text/plain": [
       "datetime.datetime(2017, 3, 7, 9, 26, 33, 38012)"
      ]
     },
     "execution_count": 19,
     "metadata": {},
     "output_type": "execute_result"
    }
   ],
   "source": [
    "from datetime import datetime, timedelta\n",
    "now = datetime.now()\n",
    "now"
   ]
  },
  {
   "cell_type": "code",
   "execution_count": 20,
   "metadata": {
    "collapsed": false
   },
   "outputs": [
    {
     "data": {
      "text/plain": [
       "datetime.datetime(2017, 3, 7, 19, 26, 33, 38012)"
      ]
     },
     "execution_count": 20,
     "metadata": {},
     "output_type": "execute_result"
    }
   ],
   "source": [
    "now + timedelta(hours=10)"
   ]
  },
  {
   "cell_type": "code",
   "execution_count": 21,
   "metadata": {
    "collapsed": false
   },
   "outputs": [
    {
     "data": {
      "text/plain": [
       "datetime.datetime(2017, 3, 8, 5, 26, 33, 38012)"
      ]
     },
     "execution_count": 21,
     "metadata": {},
     "output_type": "execute_result"
    }
   ],
   "source": [
    "now + timedelta(hours=20)"
   ]
  },
  {
   "cell_type": "code",
   "execution_count": 22,
   "metadata": {
    "collapsed": false
   },
   "outputs": [
    {
     "data": {
      "text/plain": [
       "datetime.datetime(2017, 3, 6, 9, 26, 33, 38012)"
      ]
     },
     "execution_count": 22,
     "metadata": {},
     "output_type": "execute_result"
    }
   ],
   "source": [
    "now - timedelta(days=1)"
   ]
  },
  {
   "cell_type": "code",
   "execution_count": 23,
   "metadata": {
    "collapsed": false
   },
   "outputs": [
    {
     "data": {
      "text/plain": [
       "datetime.datetime(2017, 3, 9, 21, 26, 33, 38012)"
      ]
     },
     "execution_count": 23,
     "metadata": {},
     "output_type": "execute_result"
    }
   ],
   "source": [
    "now + timedelta(days=2, hours=12)"
   ]
  },
  {
   "cell_type": "markdown",
   "metadata": {},
   "source": [
    "## 本地时间转为 UTC 时间"
   ]
  },
  {
   "cell_type": "markdown",
   "metadata": {},
   "source": [
    "本地时间是指系统设定时区的时间，例如北京时间是UTC+8:00时区的时间，而UTC时间指UTC+0:00时区的时间。\n",
    "\n",
    "一个datetime类型有一个时区属性tzinfo，但是默认为None，所以无法区分这个datetime到底是哪个时区，除非强行给datetime设置一个时区："
   ]
  },
  {
   "cell_type": "code",
   "execution_count": 40,
   "metadata": {
    "collapsed": true
   },
   "outputs": [],
   "source": [
    "from datetime import datetime, timedelta, timezone\n",
    "tz_utc_8 = timezone(timedelta(hours=8)) # 创建时区 UTC+8:00"
   ]
  },
  {
   "cell_type": "code",
   "execution_count": 41,
   "metadata": {
    "collapsed": false
   },
   "outputs": [
    {
     "data": {
      "text/plain": [
       "datetime.datetime(2017, 3, 7, 9, 35, 37, 422648)"
      ]
     },
     "execution_count": 41,
     "metadata": {},
     "output_type": "execute_result"
    }
   ],
   "source": [
    "now = datetime.now()\n",
    "now"
   ]
  },
  {
   "cell_type": "code",
   "execution_count": 42,
   "metadata": {
    "collapsed": true
   },
   "outputs": [],
   "source": [
    "dt = now.replace(tzinfo=tz_utc_8) # 强制设置为 UTC+8:00"
   ]
  },
  {
   "cell_type": "code",
   "execution_count": 43,
   "metadata": {
    "collapsed": false
   },
   "outputs": [
    {
     "data": {
      "text/plain": [
       "datetime.datetime(2017, 3, 7, 9, 35, 37, 422648, tzinfo=datetime.timezone(datetime.timedelta(0, 28800)))"
      ]
     },
     "execution_count": 43,
     "metadata": {},
     "output_type": "execute_result"
    }
   ],
   "source": [
    "dt # 如果系统时区恰好是 UTC+8:00，这个代码就是正确的，否则不能强制设置"
   ]
  },
  {
   "cell_type": "code",
   "execution_count": 44,
   "metadata": {
    "collapsed": false
   },
   "outputs": [
    {
     "name": "stdout",
     "output_type": "stream",
     "text": [
      "2017-03-07 09:35:37.422648+08:00\n"
     ]
    }
   ],
   "source": [
    "print(dt)"
   ]
  },
  {
   "cell_type": "code",
   "execution_count": 45,
   "metadata": {
    "collapsed": true
   },
   "outputs": [],
   "source": [
    "tz_utc_2 = timezone(timedelta(hours=2)) # 创建时区 UTC+0:00\n",
    "dt = now.replace(tzinfo=tz_utc_2) # 强制设置为 UTC+0:00"
   ]
  },
  {
   "cell_type": "code",
   "execution_count": 48,
   "metadata": {
    "collapsed": false
   },
   "outputs": [
    {
     "data": {
      "text/plain": [
       "datetime.datetime(2017, 3, 7, 9, 35, 37, 422648, tzinfo=datetime.timezone(datetime.timedelta(0, 7200)))"
      ]
     },
     "execution_count": 48,
     "metadata": {},
     "output_type": "execute_result"
    }
   ],
   "source": [
    "dt # 设置没问题，但其实显示的时间还是当前所在时区的时间"
   ]
  },
  {
   "cell_type": "code",
   "execution_count": 47,
   "metadata": {
    "collapsed": false
   },
   "outputs": [
    {
     "name": "stdout",
     "output_type": "stream",
     "text": [
      "2017-03-07 09:35:37.422648+02:00\n"
     ]
    }
   ],
   "source": [
    "print(dt)"
   ]
  },
  {
   "cell_type": "markdown",
   "metadata": {},
   "source": [
    "## 时区转换"
   ]
  },
  {
   "cell_type": "markdown",
   "metadata": {},
   "source": [
    "可以先通过 `utcnow()` 拿到当前的 UTC 时间，再转换为任意时区的时间："
   ]
  },
  {
   "cell_type": "code",
   "execution_count": 49,
   "metadata": {
    "collapsed": true
   },
   "outputs": [],
   "source": [
    "# 拿到 UTC 时间，并强制设置时区为 UTC+0:00\n",
    "utc_dt = datetime.utcnow().replace(tzinfo=timezone.utc)"
   ]
  },
  {
   "cell_type": "code",
   "execution_count": 50,
   "metadata": {
    "collapsed": false
   },
   "outputs": [
    {
     "data": {
      "text/plain": [
       "datetime.datetime(2017, 3, 7, 1, 36, 12, 556521, tzinfo=datetime.timezone.utc)"
      ]
     },
     "execution_count": 50,
     "metadata": {},
     "output_type": "execute_result"
    }
   ],
   "source": [
    "utc_dt"
   ]
  },
  {
   "cell_type": "code",
   "execution_count": 51,
   "metadata": {
    "collapsed": false
   },
   "outputs": [
    {
     "name": "stdout",
     "output_type": "stream",
     "text": [
      "2017-03-07 01:36:12.556521+00:00\n"
     ]
    }
   ],
   "source": [
    "print(utc_dt)"
   ]
  },
  {
   "cell_type": "code",
   "execution_count": 53,
   "metadata": {
    "collapsed": true
   },
   "outputs": [],
   "source": [
    "# astimezone() 将转换时区为北京时间\n",
    "bj_dt = utc_dt.astimezone(timezone(timedelta(hours=8)))"
   ]
  },
  {
   "cell_type": "code",
   "execution_count": 54,
   "metadata": {
    "collapsed": false
   },
   "outputs": [
    {
     "name": "stdout",
     "output_type": "stream",
     "text": [
      "2017-03-07 09:36:12.556521+08:00\n"
     ]
    }
   ],
   "source": [
    "print(bj_dt)"
   ]
  },
  {
   "cell_type": "code",
   "execution_count": 55,
   "metadata": {
    "collapsed": true
   },
   "outputs": [],
   "source": [
    "# astimezone() 将转换时区为东京时区\n",
    "tokyo_dt = utc_dt.astimezone(timezone(timedelta(hours=9)))"
   ]
  },
  {
   "cell_type": "code",
   "execution_count": 56,
   "metadata": {
    "collapsed": false
   },
   "outputs": [
    {
     "name": "stdout",
     "output_type": "stream",
     "text": [
      "2017-03-07 10:36:12.556521+09:00\n"
     ]
    }
   ],
   "source": [
    "print(tokyo_dt)"
   ]
  },
  {
   "cell_type": "code",
   "execution_count": 57,
   "metadata": {
    "collapsed": true
   },
   "outputs": [],
   "source": [
    "# astimezone() 将 bj_dt 转换为东京时区\n",
    "tokyo_dt2 = bj_dt.astimezone(timezone(timedelta(hours=9)))"
   ]
  },
  {
   "cell_type": "code",
   "execution_count": 58,
   "metadata": {
    "collapsed": false
   },
   "outputs": [
    {
     "name": "stdout",
     "output_type": "stream",
     "text": [
      "2017-03-07 10:36:12.556521+09:00\n"
     ]
    }
   ],
   "source": [
    "print(tokyo_dt2)"
   ]
  },
  {
   "cell_type": "markdown",
   "metadata": {},
   "source": [
    "- 时区转换的关键在于，拿到一个datetime时，要获知其正确的时区，然后强制设置时区，作为基准时间。\n",
    "\n",
    "- 利用带时区的datetime，通过astimezone()方法，可以转换到任意时区。\n",
    "\n",
    "- 注：不是必须从UTC+0:00时区转换到其他时区，任何带时区的datetime都可以正确转换，例如上述bj_dt到tokyo_dt的转换。"
   ]
  },
  {
   "cell_type": "markdown",
   "metadata": {},
   "source": [
    "## 小结"
   ]
  },
  {
   "cell_type": "markdown",
   "metadata": {},
   "source": [
    "- datetime表示的时间需要时区信息才能确定一个特定的时间，否则只能视为本地时间。\n",
    "\n",
    "- 如果要存储datetime，最佳方法是将其转换为timestamp再存储，因为timestamp的值与时区完全无关。"
   ]
  },
  {
   "cell_type": "markdown",
   "metadata": {},
   "source": [
    "# collections"
   ]
  },
  {
   "cell_type": "markdown",
   "metadata": {},
   "source": [
    "## namedtuple"
   ]
  },
  {
   "cell_type": "markdown",
   "metadata": {},
   "source": [
    "namedtuple是一个函数，它用来创建一个自定义的tuple对象，并且规定了tuple元素的个数，并可以用属性而不是索引来引用tuple的某个元素。\n",
    "\n",
    "这样一来，我们用namedtuple可以很方便地定义一种数据类型，它具备tuple的不变性，又可以根据属性来引用，使用十分方便。"
   ]
  },
  {
   "cell_type": "code",
   "execution_count": 1,
   "metadata": {
    "collapsed": true
   },
   "outputs": [],
   "source": [
    "from collections import namedtuple\n",
    "Point = namedtuple('Point', ['x', 'y'])"
   ]
  },
  {
   "cell_type": "code",
   "execution_count": 2,
   "metadata": {
    "collapsed": false
   },
   "outputs": [
    {
     "data": {
      "text/plain": [
       "__main__.Point"
      ]
     },
     "execution_count": 2,
     "metadata": {},
     "output_type": "execute_result"
    }
   ],
   "source": [
    "Point"
   ]
  },
  {
   "cell_type": "code",
   "execution_count": 3,
   "metadata": {
    "collapsed": true
   },
   "outputs": [],
   "source": [
    "p = Point(1,2)"
   ]
  },
  {
   "cell_type": "code",
   "execution_count": 4,
   "metadata": {
    "collapsed": false
   },
   "outputs": [
    {
     "data": {
      "text/plain": [
       "Point(x=1, y=2)"
      ]
     },
     "execution_count": 4,
     "metadata": {},
     "output_type": "execute_result"
    }
   ],
   "source": [
    "p"
   ]
  },
  {
   "cell_type": "code",
   "execution_count": 5,
   "metadata": {
    "collapsed": false
   },
   "outputs": [
    {
     "data": {
      "text/plain": [
       "1"
      ]
     },
     "execution_count": 5,
     "metadata": {},
     "output_type": "execute_result"
    }
   ],
   "source": [
    "p.x"
   ]
  },
  {
   "cell_type": "code",
   "execution_count": 6,
   "metadata": {
    "collapsed": false
   },
   "outputs": [
    {
     "data": {
      "text/plain": [
       "2"
      ]
     },
     "execution_count": 6,
     "metadata": {},
     "output_type": "execute_result"
    }
   ],
   "source": [
    "p.y"
   ]
  },
  {
   "cell_type": "code",
   "execution_count": 7,
   "metadata": {
    "collapsed": false
   },
   "outputs": [
    {
     "data": {
      "text/plain": [
       "True"
      ]
     },
     "execution_count": 7,
     "metadata": {},
     "output_type": "execute_result"
    }
   ],
   "source": [
    "isinstance(p, Point)"
   ]
  },
  {
   "cell_type": "code",
   "execution_count": 8,
   "metadata": {
    "collapsed": false
   },
   "outputs": [
    {
     "data": {
      "text/plain": [
       "True"
      ]
     },
     "execution_count": 8,
     "metadata": {},
     "output_type": "execute_result"
    }
   ],
   "source": [
    "isinstance(p, tuple)"
   ]
  },
  {
   "cell_type": "code",
   "execution_count": 9,
   "metadata": {
    "collapsed": true
   },
   "outputs": [],
   "source": [
    "# 用坐标和半径表示一个圆\n",
    "Circle = namedtuple('Circle', ['x', 'y', 'r'])"
   ]
  },
  {
   "cell_type": "markdown",
   "metadata": {},
   "source": [
    "## deque"
   ]
  },
  {
   "cell_type": "markdown",
   "metadata": {},
   "source": [
    "使用list存储数据时，按索引访问元素很快，但是插入和删除元素就很慢了，因为list是线性存储，数据量大的时候，插入和删除效率很低。\n",
    "\n",
    "deque是为了高效实现插入和删除操作的双向列表，适合用于队列和栈："
   ]
  },
  {
   "cell_type": "code",
   "execution_count": 11,
   "metadata": {
    "collapsed": false
   },
   "outputs": [
    {
     "data": {
      "text/plain": [
       "deque(['y', 'a', 'b', 'c', 'x'])"
      ]
     },
     "execution_count": 11,
     "metadata": {},
     "output_type": "execute_result"
    }
   ],
   "source": [
    "from collections import deque\n",
    "q = deque(['a', 'b', 'c'])\n",
    "q.append('x')\n",
    "q.appendleft('y')\n",
    "q"
   ]
  },
  {
   "cell_type": "markdown",
   "metadata": {},
   "source": [
    "deque除了实现list的append()和pop()外，还支持appendleft()和popleft()，这样就可以非常高效地往头部添加或删除元素。"
   ]
  },
  {
   "cell_type": "markdown",
   "metadata": {},
   "source": [
    "## defaultdict"
   ]
  },
  {
   "cell_type": "markdown",
   "metadata": {},
   "source": [
    "使用dict时，如果引用的Key不存在，就会抛出KeyError。如果希望key不存在时，返回一个默认值，就可以用defaultdict："
   ]
  },
  {
   "cell_type": "code",
   "execution_count": 12,
   "metadata": {
    "collapsed": false
   },
   "outputs": [
    {
     "data": {
      "text/plain": [
       "'abc'"
      ]
     },
     "execution_count": 12,
     "metadata": {},
     "output_type": "execute_result"
    }
   ],
   "source": [
    "from collections import defaultdict\n",
    "dd = defaultdict(lambda: 'N/A')\n",
    "\n",
    "dd ['key1'] = 'abc'\n",
    "dd['key1']"
   ]
  },
  {
   "cell_type": "code",
   "execution_count": 13,
   "metadata": {
    "collapsed": false
   },
   "outputs": [
    {
     "data": {
      "text/plain": [
       "'N/A'"
      ]
     },
     "execution_count": 13,
     "metadata": {},
     "output_type": "execute_result"
    }
   ],
   "source": [
    "dd['key2']"
   ]
  },
  {
   "cell_type": "markdown",
   "metadata": {},
   "source": [
    "注意默认值是调用函数返回的，而函数在创建defaultdict对象时传入。\n",
    "\n",
    "除了在Key不存在时返回默认值，defaultdict的其他行为跟dict是完全一样的。"
   ]
  },
  {
   "cell_type": "markdown",
   "metadata": {},
   "source": [
    "## OrderdDict"
   ]
  },
  {
   "cell_type": "markdown",
   "metadata": {},
   "source": [
    "使用dict时，Key是无序的。在对dict做迭代时，我们无法确定Key的顺序。\n",
    "\n",
    "如果要保持Key的顺序，可以用OrderedDict："
   ]
  },
  {
   "cell_type": "code",
   "execution_count": 16,
   "metadata": {
    "collapsed": false,
    "scrolled": true
   },
   "outputs": [],
   "source": [
    "from collections import OrderedDict\n",
    "d = dict([('a',1),('b',2),('c',3)])"
   ]
  },
  {
   "cell_type": "code",
   "execution_count": 21,
   "metadata": {
    "collapsed": false
   },
   "outputs": [
    {
     "data": {
      "text/plain": [
       "{'a': 1, 'b': 2, 'c': 3}"
      ]
     },
     "execution_count": 21,
     "metadata": {},
     "output_type": "execute_result"
    }
   ],
   "source": [
    "d # 默认 d 是无序的"
   ]
  },
  {
   "cell_type": "code",
   "execution_count": 22,
   "metadata": {
    "collapsed": true
   },
   "outputs": [],
   "source": [
    "od = OrderedDict([('a',1),('b',2),('c',3)])"
   ]
  },
  {
   "cell_type": "code",
   "execution_count": 24,
   "metadata": {
    "collapsed": false
   },
   "outputs": [
    {
     "data": {
      "text/plain": [
       "OrderedDict([('a', 1), ('b', 2), ('c', 3)])"
      ]
     },
     "execution_count": 24,
     "metadata": {},
     "output_type": "execute_result"
    }
   ],
   "source": [
    "od # key 是有序的"
   ]
  },
  {
   "cell_type": "markdown",
   "metadata": {},
   "source": [
    "注意，OrderedDict的Key会按照插入的顺序排列，不是Key本身排序："
   ]
  },
  {
   "cell_type": "code",
   "execution_count": 28,
   "metadata": {
    "collapsed": false
   },
   "outputs": [],
   "source": [
    "od = OrderedDict()\n",
    "od['z'] = 1\n",
    "od['y'] = 2\n",
    "od['x'] = 3"
   ]
  },
  {
   "cell_type": "code",
   "execution_count": 29,
   "metadata": {
    "collapsed": false
   },
   "outputs": [
    {
     "data": {
      "text/plain": [
       "OrderedDict([('z', 1), ('y', 2), ('x', 3)])"
      ]
     },
     "execution_count": 29,
     "metadata": {},
     "output_type": "execute_result"
    }
   ],
   "source": [
    "od"
   ]
  },
  {
   "cell_type": "code",
   "execution_count": 30,
   "metadata": {
    "collapsed": false
   },
   "outputs": [
    {
     "data": {
      "text/plain": [
       "['z', 'y', 'x']"
      ]
     },
     "execution_count": 30,
     "metadata": {},
     "output_type": "execute_result"
    }
   ],
   "source": [
    "list(od.keys())"
   ]
  },
  {
   "cell_type": "markdown",
   "metadata": {},
   "source": [
    "OrderedDict可以实现一个FIFO（先进先出）的dict，当容量超出限制时，先删除最早添加的Key："
   ]
  },
  {
   "cell_type": "code",
   "execution_count": 31,
   "metadata": {
    "collapsed": true
   },
   "outputs": [],
   "source": [
    "from collections import OrderedDict\n",
    "\n",
    "class LastUpdateOrderedDict(OrderedDict):\n",
    "    \n",
    "    def __init__(self, capacity):\n",
    "        supper(LastUpdatedOrderedDict, self).__init__()\n",
    "        self._capacity = capacity\n",
    "    \n",
    "    def __setitem__(self, key, value):\n",
    "        containKey = 1 if key in self else 0\n",
    "        if len(self) - containsKey >= self._capacity:\n",
    "            last = self.popitem(last=False)\n",
    "            print('remove:', last)\n",
    "        if containsKey:\n",
    "            del self[key]\n",
    "            print('set:', (key, value))\n",
    "        else:\n",
    "            print('add:', (key, value))\n",
    "        OrderedDict.__setitem__(self, key, value)"
   ]
  },
  {
   "cell_type": "markdown",
   "metadata": {},
   "source": [
    "## Counter"
   ]
  },
  {
   "cell_type": "code",
   "execution_count": 32,
   "metadata": {
    "collapsed": true
   },
   "outputs": [],
   "source": [
    "from collections import Counter\n",
    "c = Counter()\n",
    "for ch in 'programming':\n",
    "    c[ch] = c[ch] + 1"
   ]
  },
  {
   "cell_type": "code",
   "execution_count": 33,
   "metadata": {
    "collapsed": false
   },
   "outputs": [
    {
     "data": {
      "text/plain": [
       "Counter({'a': 1, 'g': 2, 'i': 1, 'm': 2, 'n': 1, 'o': 1, 'p': 1, 'r': 2})"
      ]
     },
     "execution_count": 33,
     "metadata": {},
     "output_type": "execute_result"
    }
   ],
   "source": [
    "c"
   ]
  },
  {
   "cell_type": "markdown",
   "metadata": {},
   "source": [
    "# base64"
   ]
  },
  {
   "cell_type": "markdown",
   "metadata": {},
   "source": [
    "Base64是一种用64个字符来表示任意二进制数据的方法。\n",
    "\n",
    "用记事本打开exe、jpg、pdf这些文件时，我们都会看到一大堆乱码，因为二进制文件包含很多无法显示和打印的字符，所以，如果要让记事本这样的文本处理软件能处理二进制数据，就需要一个二进制到字符串的转换方法。Base64是一种最常见的二进制编码方法。\n",
    "\n",
    "Base64的原理很简单，首先，准备一个包含64个字符的数组："
   ]
  },
  {
   "cell_type": "markdown",
   "metadata": {},
   "source": [
    "`['A', 'B', 'C', ... 'a', 'b', 'c', ... '0', '1', ... '+', '/']`"
   ]
  },
  {
   "cell_type": "markdown",
   "metadata": {},
   "source": [
    "然后，对二进制数据进行处理，每3个字节一组，一共是3x8=24bit，划为4组，每组正好6个bit：\n",
    "\n",
    "这样我们得到4个数字作为索引，然后查表，获得相应的4个字符，就是编码后的字符串。\n",
    "\n",
    "所以，Base64编码会把3字节的二进制数据编码为4字节的文本数据，长度增加33%，好处是编码后的文本数据可以在邮件正文、网页等直接显示。\n",
    "\n",
    "如果要编码的二进制数据不是3的倍数，最后会剩下1个或2个字节怎么办？Base64用\\x00字节在末尾补足后，再在编码的末尾加上1个或2个=号，表示补了多少字节，解码的时候，会自动去掉。"
   ]
  },
  {
   "cell_type": "code",
   "execution_count": 46,
   "metadata": {
    "collapsed": false
   },
   "outputs": [
    {
     "data": {
      "text/plain": [
       "b'YmluYXJ5AHN0cmluZw=='"
      ]
     },
     "execution_count": 46,
     "metadata": {},
     "output_type": "execute_result"
    }
   ],
   "source": [
    "import base64\n",
    "base64.b64encode(b'binary\\x00string')"
   ]
  },
  {
   "cell_type": "code",
   "execution_count": 39,
   "metadata": {
    "collapsed": false
   },
   "outputs": [
    {
     "data": {
      "text/plain": [
       "b'binary\\x00string'"
      ]
     },
     "execution_count": 39,
     "metadata": {},
     "output_type": "execute_result"
    }
   ],
   "source": [
    "base64.b64decode(b'YmluYXJ5AHN0cmluZw==')"
   ]
  },
  {
   "cell_type": "markdown",
   "metadata": {},
   "source": [
    "由于标准的Base64编码后可能出现字符+和/，在URL中就不能直接作为参数，所以又有一种\"url safe\"的base64编码，其实就是把字符+和/分别变成-和_："
   ]
  },
  {
   "cell_type": "code",
   "execution_count": 47,
   "metadata": {
    "collapsed": false
   },
   "outputs": [
    {
     "data": {
      "text/plain": [
       "b'abcd++//'"
      ]
     },
     "execution_count": 47,
     "metadata": {},
     "output_type": "execute_result"
    }
   ],
   "source": [
    "base64.b64encode(b'i\\xb7\\x1d\\xfb\\xef\\xff')"
   ]
  },
  {
   "cell_type": "code",
   "execution_count": 50,
   "metadata": {
    "collapsed": false
   },
   "outputs": [
    {
     "data": {
      "text/plain": [
       "b'abcd_e__'"
      ]
     },
     "execution_count": 50,
     "metadata": {},
     "output_type": "execute_result"
    }
   ],
   "source": [
    "base64.urlsafe_b64encode(b'i\\xb7\\x1d\\xfd\\xef\\xff')"
   ]
  },
  {
   "cell_type": "code",
   "execution_count": 51,
   "metadata": {
    "collapsed": false
   },
   "outputs": [
    {
     "data": {
      "text/plain": [
       "b'i\\xb7\\x1d\\xfd\\xef\\xff'"
      ]
     },
     "execution_count": 51,
     "metadata": {},
     "output_type": "execute_result"
    }
   ],
   "source": [
    "base64.urlsafe_b64decode(b'abcd_e__')"
   ]
  },
  {
   "cell_type": "markdown",
   "metadata": {},
   "source": [
    "还可以自己定义64个字符的排列顺序，这样就可以自定义Base64编码，不过，通常情况下完全没有必要。\n",
    "\n",
    "Base64是一种通过查表的编码方法，不能用于加密，即使使用自定义的编码表也不行。\n",
    "\n",
    "Base64适用于小段内容的编码，比如数字证书签名、Cookie的内容等。\n",
    "\n",
    "由于=字符也可能出现在Base64编码中，但=用在URL、Cookie里面会造成歧义，所以，很多Base64编码后会把=去掉："
   ]
  },
  {
   "cell_type": "code",
   "execution_count": null,
   "metadata": {
    "collapsed": true
   },
   "outputs": [],
   "source": [
    "# 标准 base64\n",
    "'abcd' -> 'YWJjZA=='\n",
    "# 自动去掉=\n",
    "'abcd' ->'YWJjZA'"
   ]
  },
  {
   "cell_type": "markdown",
   "metadata": {},
   "source": [
    "去掉=后怎么解码呢？因为Base64是把3个字节变为4个字节，所以，Base64编码的长度永远是4的倍数，因此，需要加上=把Base64字符串的长度变为4的倍数，就可以正常解码了。\n",
    "\n",
    "小结\n",
    "\n",
    "Base64是一种任意二进制到文本字符串的编码方法，常用于在URL、Cookie、网页中传输少量二进制数据。"
   ]
  },
  {
   "cell_type": "markdown",
   "metadata": {},
   "source": [
    "# struct"
   ]
  },
  {
   "cell_type": "markdown",
   "metadata": {},
   "source": [
    "Python没有专门处理字节的数据类型。但由于b'str'可以表示字节，所以，字节数组＝二进制str。而在C语言中，我们可以很方便地用struct、union来处理字节，以及字节和int，float的转换。\n",
    "\n",
    "在Python中，比方说要把一个32位无符号整数变成字节，也就是4个长度的bytes，你得配合位运算符这么写："
   ]
  },
  {
   "cell_type": "code",
   "execution_count": 59,
   "metadata": {
    "collapsed": false
   },
   "outputs": [],
   "source": [
    "n = 10240099\n",
    "b1 = (n & 0xff000000) >> 24\n",
    "b2 = (n & 0xff0000) >> 16\n",
    "b3 = (n & 0xff00) >> 8\n",
    "b4 = n & 0xff\n",
    "bs = bytes([b1, b2, b3, b4])"
   ]
  },
  {
   "cell_type": "code",
   "execution_count": 60,
   "metadata": {
    "collapsed": false
   },
   "outputs": [
    {
     "data": {
      "text/plain": [
       "b'\\x00\\x9c@c'"
      ]
     },
     "execution_count": 60,
     "metadata": {},
     "output_type": "execute_result"
    }
   ],
   "source": [
    "bs"
   ]
  },
  {
   "cell_type": "markdown",
   "metadata": {},
   "source": [
    "非常麻烦。如果换成浮点数就无能为力了。\n",
    "\n",
    "好在Python提供了一个struct模块来解决bytes和其他二进制数据类型的转换。\n",
    "\n",
    "struct的pack函数把任意数据类型变成bytes："
   ]
  },
  {
   "cell_type": "code",
   "execution_count": 61,
   "metadata": {
    "collapsed": false
   },
   "outputs": [
    {
     "data": {
      "text/plain": [
       "b'\\x00\\x9c@c'"
      ]
     },
     "execution_count": 61,
     "metadata": {},
     "output_type": "execute_result"
    }
   ],
   "source": [
    "import struct\n",
    "struct.pack('>I', 10240099)"
   ]
  },
  {
   "cell_type": "markdown",
   "metadata": {},
   "source": [
    "pack的第一个参数是处理指令，'>I'的意思是：\n",
    "\n",
    "`>` 表示字节顺序是big-endian，也就是网络序，I表示4字节无符号整数。\n",
    "\n",
    "后面的参数个数要和处理指令一致。\n",
    "\n",
    "unpack把bytes变成相应的数据类型："
   ]
  },
  {
   "cell_type": "code",
   "execution_count": 62,
   "metadata": {
    "collapsed": false
   },
   "outputs": [
    {
     "data": {
      "text/plain": [
       "(4042322160, 32896)"
      ]
     },
     "execution_count": 62,
     "metadata": {},
     "output_type": "execute_result"
    }
   ],
   "source": [
    "struct.unpack('>IH', b'\\xf0\\xf0\\xf0\\xf0\\x80\\x80')"
   ]
  },
  {
   "cell_type": "markdown",
   "metadata": {},
   "source": [
    "根据>IH的说明，后面的bytes依次变为I：4字节无符号整数和H：2字节无符号整数。\n",
    "\n",
    "所以，尽管Python不适合编写底层操作字节流的代码，但在对性能要求不高的地方，利用struct就方便多了。\n",
    "\n",
    "struct模块定义的数据类型可以参考Python官方文档：\n",
    "\n",
    "https://docs.python.org/3/library/struct.html#format-characters\n",
    "\n",
    "Windows的位图文件（.bmp）是一种非常简单的文件格式，我们来用struct分析一下。\n",
    "\n",
    "首先找一个bmp文件，没有的话用“画图”画一个。\n",
    "\n",
    "读入前30个字节来分析："
   ]
  },
  {
   "cell_type": "code",
   "execution_count": 63,
   "metadata": {
    "collapsed": true
   },
   "outputs": [],
   "source": [
    "s = b'\\x42\\x4d\\x38\\x8c\\x0a\\x00\\x00\\x00\\x00\\x00\\x36\\x00\\x00\\x00\\x28\\x00\\x00\\x00\\x80\\x02\\x00\\x00\\x68\\x01\\x00\\x00\\x01\\x00\\x18\\x00'"
   ]
  },
  {
   "cell_type": "markdown",
   "metadata": {},
   "source": [
    "BMP格式采用小端方式存储数据，文件头的结构按顺序如下：  \n",
    "\n",
    "两个字节：'BM'表示Windows位图，'BA'表示OS/2位图；  \n",
    "一个4字节整数：表示位图大小；  \n",
    "一个4字节整数：保留位，始终为0；  \n",
    "一个4字节整数：实际图像的偏移量；  \n",
    "一个4字节整数：Header的字节数；  \n",
    "一个4字节整数：图像宽度；  \n",
    "一个4字节整数：图像高度；  \n",
    "一个2字节整数：始终为1；  \n",
    "一个2字节整数：颜色数。  \n",
    "\n",
    "所以，组合起来用unpack读取："
   ]
  },
  {
   "cell_type": "code",
   "execution_count": 65,
   "metadata": {
    "collapsed": false
   },
   "outputs": [
    {
     "data": {
      "text/plain": [
       "(b'B', b'M', 691256, 0, 54, 40, 640, 360, 1, 24)"
      ]
     },
     "execution_count": 65,
     "metadata": {},
     "output_type": "execute_result"
    }
   ],
   "source": [
    "struct.unpack('<ccIIIIIIHH',s)"
   ]
  },
  {
   "cell_type": "markdown",
   "metadata": {},
   "source": [
    "结果显示，b'B'、b'M'说明是Windows位图，位图大小为640x360，颜色数为24。"
   ]
  },
  {
   "cell_type": "markdown",
   "metadata": {},
   "source": [
    "# hashilib"
   ]
  },
  {
   "cell_type": "markdown",
   "metadata": {},
   "source": [
    "## 摘要算法简介"
   ]
  },
  {
   "cell_type": "code",
   "execution_count": 66,
   "metadata": {
    "collapsed": true
   },
   "outputs": [],
   "source": [
    "import hashlib\n",
    "md5 = hashlib.md5()\n",
    "md5.update('how to use md5 in python hashlib?'.encode('utf-8'))"
   ]
  },
  {
   "cell_type": "code",
   "execution_count": 67,
   "metadata": {
    "collapsed": false
   },
   "outputs": [
    {
     "name": "stdout",
     "output_type": "stream",
     "text": [
      "d26a53750bc40b38b65a520292f69306\n"
     ]
    }
   ],
   "source": [
    "print(md5.hexdigest())"
   ]
  },
  {
   "cell_type": "markdown",
   "metadata": {},
   "source": [
    "如果数据量很大，可以分块多次调用update()，最后计算的结果是一样的："
   ]
  },
  {
   "cell_type": "code",
   "execution_count": 70,
   "metadata": {
    "collapsed": false
   },
   "outputs": [
    {
     "name": "stdout",
     "output_type": "stream",
     "text": [
      "d26a53750bc40b38b65a520292f69306\n"
     ]
    }
   ],
   "source": [
    "import hashlib\n",
    "\n",
    "md5 = hashlib.md5()\n",
    "md5.update('how to use md5 in '.encode('utf-8'))\n",
    "md5.update('python hashlib?'.encode('utf-8'))\n",
    "print(md5.hexdigest())"
   ]
  },
  {
   "cell_type": "markdown",
   "metadata": {},
   "source": [
    "试试改动一个字母，看看计算的结果是否完全不同。\n",
    "\n",
    "MD5是最常见的摘要算法，速度很快，生成结果是固定的128 bit字节，通常用一个32位的16进制字符串表示。\n",
    "\n",
    "另一种常见的摘要算法是SHA1，调用SHA1和调用MD5完全类似："
   ]
  },
  {
   "cell_type": "code",
   "execution_count": 71,
   "metadata": {
    "collapsed": false
   },
   "outputs": [
    {
     "name": "stdout",
     "output_type": "stream",
     "text": [
      "2c76b57293ce30acef38d98f6046927161b46a44\n"
     ]
    }
   ],
   "source": [
    "import hashlib\n",
    "\n",
    "sha1 = hashlib.sha1()\n",
    "sha1.update('how to use sha1 in '.encode('utf-8'))\n",
    "sha1.update('python hashlib?'.encode('utf-8'))\n",
    "print(sha1.hexdigest())"
   ]
  },
  {
   "cell_type": "markdown",
   "metadata": {},
   "source": [
    "SHA1的结果是160 bit字节，通常用一个40位的16进制字符串表示。\n",
    "\n",
    "比SHA1更安全的算法是SHA256和SHA512，不过越安全的算法不仅越慢，而且摘要长度更长。\n",
    "\n",
    "有没有可能两个不同的数据通过某个摘要算法得到了相同的摘要？完全有可能，因为任何摘要算法都是把无限多的数据集合映射到一个有限的集合中。这种情况称为碰撞，比如Bob试图根据你的摘要反推出一篇文章'how to learn hashlib in python - by Bob'，并且这篇文章的摘要恰好和你的文章完全一致，这种情况也并非不可能出现，但是非常非常困难。"
   ]
  },
  {
   "cell_type": "markdown",
   "metadata": {},
   "source": [
    "## 摘要算法应用"
   ]
  },
  {
   "cell_type": "markdown",
   "metadata": {},
   "source": [
    "存储用户密码"
   ]
  },
  {
   "cell_type": "markdown",
   "metadata": {},
   "source": [
    "存储MD5的好处是即使运维人员能访问数据库，也无法获知用户的明文口令。\n",
    "\n",
    "设计一个验证用户登录的函数，根据用户输入的口令是否正确，返回True或False：\n",
    "\n",
    "采用MD5存储口令是否就一定安全呢？也不一定。假设你是一个黑客，已经拿到了存储MD5口令的数据库，如何通过MD5反推用户的明文口令呢？暴力破解费事费力，真正的黑客不会这么干。\n",
    "\n",
    "考虑这么个情况，很多用户喜欢用123456，888888，password这些简单的口令，于是，黑客可以事先计算出这些常用口令的MD5值，得到一个反推表：\n",
    "\n",
    "`'e10adc3949ba59abbe56e057f20f883e': '123456'`  \n",
    "`'21218cca77804d2ba1922c33e0151105': '888888'`  \n",
    "`'5f4dcc3b5aa765d61d8327deb882cf99': 'password'`\n",
    "\n",
    "这样，无需破解，只需要对比数据库的MD5，黑客就获得了使用常用口令的用户账号。\n",
    "\n",
    "对于用户来讲，当然不要使用过于简单的口令。但是，我们能否在程序设计上对简单口令加强保护呢？\n",
    "\n",
    "由于常用口令的MD5值很容易被计算出来，所以，要确保存储的用户口令不是那些已经被计算出来的常用口令的MD5，这一方法通过对原始口令加一个复杂字符串来实现，俗称“加盐”：  \n",
    "```\n",
    "def calc_md5(password):\n",
    "    return get_md5(password + 'the-Salt')\n",
    "```\n",
    "经过Salt处理的MD5口令，只要Salt不被黑客知道，即使用户输入简单口令，也很难通过MD5反推明文口令。\n",
    "\n",
    "但是如果有两个用户都使用了相同的简单口令比如123456，在数据库中，将存储两条相同的MD5值，这说明这两个用户的口令是一样的。有没有办法让使用相同口令的用户存储不同的MD5呢？\n",
    "\n",
    "如果假定用户无法修改登录名，就可以通过把登录名作为Salt的一部分来计算MD5，从而实现相同口令的用户也存储不同的MD5。"
   ]
  },
  {
   "cell_type": "markdown",
   "metadata": {
    "collapsed": true
   },
   "source": [
    "# itertools"
   ]
  },
  {
   "cell_type": "markdown",
   "metadata": {},
   "source": [
    "操作迭代对象的函数"
   ]
  },
  {
   "cell_type": "markdown",
   "metadata": {},
   "source": [
    "## count, cycle, repeat"
   ]
  },
  {
   "cell_type": "code",
   "execution_count": null,
   "metadata": {
    "collapsed": true
   },
   "outputs": [],
   "source": [
    "import itertools\n",
    "natuals = itertools.count(1)\n",
    "for n in natuals:\n",
    "    print(n) # 无限迭代"
   ]
  },
  {
   "cell_type": "code",
   "execution_count": null,
   "metadata": {
    "collapsed": true
   },
   "outputs": [],
   "source": [
    "import itertools\n",
    "cs = itertools.cycle('ABC') # 字符串无限迭代"
   ]
  },
  {
   "cell_type": "code",
   "execution_count": 4,
   "metadata": {
    "collapsed": false
   },
   "outputs": [
    {
     "name": "stdout",
     "output_type": "stream",
     "text": [
      "A\n",
      "A\n",
      "A\n"
     ]
    }
   ],
   "source": [
    "ns = itertools.repeat('A', 3) # 第二个参数指定重复次数\n",
    "for n in ns:\n",
    "    print(n)"
   ]
  },
  {
   "cell_type": "markdown",
   "metadata": {},
   "source": [
    "## chain()"
   ]
  },
  {
   "cell_type": "markdown",
   "metadata": {},
   "source": [
    "可以把一组迭代对象串起来，形成更大的迭代器"
   ]
  },
  {
   "cell_type": "code",
   "execution_count": 5,
   "metadata": {
    "collapsed": false
   },
   "outputs": [
    {
     "name": "stdout",
     "output_type": "stream",
     "text": [
      "A\n",
      "B\n",
      "C\n",
      "X\n",
      "Y\n",
      "Z\n"
     ]
    }
   ],
   "source": [
    "for c in itertools.chain('ABC', 'XYZ'):\n",
    "    print(c)"
   ]
  },
  {
   "cell_type": "markdown",
   "metadata": {},
   "source": [
    "## groupby()"
   ]
  },
  {
   "cell_type": "markdown",
   "metadata": {},
   "source": [
    "把迭代器中相邻的重复元素挑出来放在一起"
   ]
  },
  {
   "cell_type": "code",
   "execution_count": 6,
   "metadata": {
    "collapsed": false
   },
   "outputs": [
    {
     "name": "stdout",
     "output_type": "stream",
     "text": [
      "A ['A', 'A', 'A']\n",
      "B ['B', 'B', 'B']\n",
      "C ['C', 'C']\n",
      "A ['A', 'A', 'A']\n"
     ]
    }
   ],
   "source": [
    "for key, group in itertools.groupby('AAABBBCCAAA'):\n",
    "    print(key, list(group))"
   ]
  },
  {
   "cell_type": "code",
   "execution_count": 7,
   "metadata": {
    "collapsed": false
   },
   "outputs": [
    {
     "name": "stdout",
     "output_type": "stream",
     "text": [
      "A ['A', 'a', 'a']\n",
      "B ['B', 'B', 'b']\n",
      "C ['c', 'C']\n",
      "A ['A', 'A', 'a']\n"
     ]
    }
   ],
   "source": [
    "for key, group in itertools.groupby('AaaBBbcCAAa', lambda c:c.upper()):\n",
    "    print(key, list(group))"
   ]
  },
  {
   "cell_type": "markdown",
   "metadata": {},
   "source": [
    "# contextlib"
   ]
  },
  {
   "cell_type": "markdown",
   "metadata": {},
   "source": [
    "读写文件必须在使用完毕后正确关闭"
   ]
  },
  {
   "cell_type": "markdown",
   "metadata": {},
   "source": [
    "## try..finally"
   ]
  },
  {
   "cell_type": "code",
   "execution_count": null,
   "metadata": {
    "collapsed": true
   },
   "outputs": [],
   "source": [
    "try:\n",
    "    f = open('/path/to/file', 'r')\n",
    "    f.read()\n",
    "finally:\n",
    "    if f:\n",
    "        f.close()"
   ]
  },
  {
   "cell_type": "markdown",
   "metadata": {},
   "source": [
    "## with"
   ]
  },
  {
   "cell_type": "markdown",
   "metadata": {},
   "source": [
    "任何对象，只要正确实现了上下文管理，就可以用于 `with` 语句"
   ]
  },
  {
   "cell_type": "code",
   "execution_count": null,
   "metadata": {
    "collapsed": true
   },
   "outputs": [],
   "source": [
    "with open('/path/to/file', 'r') as f:\n",
    "    f.read()"
   ]
  },
  {
   "cell_type": "code",
   "execution_count": 9,
   "metadata": {
    "collapsed": false
   },
   "outputs": [],
   "source": [
    "class Query(object):\n",
    "    \n",
    "    def __init__(self, name):\n",
    "        self.name = name\n",
    "    def __enter__(self):\n",
    "        print('Begin')\n",
    "        return self\n",
    "    def __exit__(self, exc_type, exc_value, traceback):\n",
    "        if exc_type:\n",
    "            print('Error')\n",
    "        else:\n",
    "            print('End')\n",
    "    def query(self):\n",
    "        print('Query info about %s ...' % self.name)"
   ]
  },
  {
   "cell_type": "markdown",
   "metadata": {},
   "source": [
    "可以把自己写的资源对象用于 with 语句"
   ]
  },
  {
   "cell_type": "code",
   "execution_count": 10,
   "metadata": {
    "collapsed": false
   },
   "outputs": [
    {
     "name": "stdout",
     "output_type": "stream",
     "text": [
      "Begin\n",
      "Query info about Bob ...\n",
      "End\n"
     ]
    }
   ],
   "source": [
    "with Query('Bob') as q:\n",
    "    q.query()"
   ]
  },
  {
   "cell_type": "markdown",
   "metadata": {},
   "source": [
    "## @contextmanager"
   ]
  },
  {
   "cell_type": "markdown",
   "metadata": {},
   "source": [
    "编写 `__enter__` 和 `__exit__` 仍然很繁琐，因此Python的标准库contextlib提供了更简单的写法，上面的代码可以改写如下："
   ]
  },
  {
   "cell_type": "code",
   "execution_count": 11,
   "metadata": {
    "collapsed": true
   },
   "outputs": [],
   "source": [
    "from contextlib import contextmanager\n",
    "\n",
    "class Query(object):\n",
    "    def __init__(self, name):\n",
    "        self.name = name\n",
    "    \n",
    "    def query(self):\n",
    "        print('Query info about %s...' % self.name)\n",
    "@contextmanager\n",
    "def create_query(name):\n",
    "    print('Begin')\n",
    "    q = Query(name)\n",
    "    yield q\n",
    "    print('End')"
   ]
  },
  {
   "cell_type": "code",
   "execution_count": 13,
   "metadata": {
    "collapsed": false
   },
   "outputs": [
    {
     "name": "stdout",
     "output_type": "stream",
     "text": [
      "Begin\n",
      "Query info about Bob...\n",
      "End\n"
     ]
    }
   ],
   "source": [
    "with create_query('Bob') as q:\n",
    "    q.query()"
   ]
  },
  {
   "cell_type": "markdown",
   "metadata": {},
   "source": [
    "很多时候，我们希望在某段代码执行前后自动执行特定代码，也可以用@contextmanager实现。例如："
   ]
  },
  {
   "cell_type": "code",
   "execution_count": 14,
   "metadata": {
    "collapsed": false
   },
   "outputs": [
    {
     "name": "stdout",
     "output_type": "stream",
     "text": [
      "<h1>\n",
      "hello\n",
      "world\n",
      "</h1>\n"
     ]
    }
   ],
   "source": [
    "@contextmanager\n",
    "def tag(name):\n",
    "    print(\"<%s>\" % name)\n",
    "    yield\n",
    "    print(\"</%s>\" % name)\n",
    "\n",
    "with tag(\"h1\"):\n",
    "    print(\"hello\")\n",
    "    print(\"world\")"
   ]
  },
  {
   "cell_type": "markdown",
   "metadata": {},
   "source": [
    "代码的执行顺序是：\n",
    "\n",
    "with语句首先执行yield之前的语句，因此打印出`<h1>`；  \n",
    "yield调用会执行with语句内部的所有语句，因此打印出hello和world；  \n",
    "最后执行yield之后的语句，打印出`</h1>`。  \n",
    "因此，@contextmanager让我们通过编写generator来简化上下文管理。"
   ]
  },
  {
   "cell_type": "markdown",
   "metadata": {},
   "source": [
    "## @closing"
   ]
  },
  {
   "cell_type": "markdown",
   "metadata": {},
   "source": [
    "如果一个对象没有实现上下文，我们就不能把它用于with语句。这个时候，可以用closing()来把该对象变为上下文对象。例如，用with语句使用urlopen()："
   ]
  },
  {
   "cell_type": "code",
   "execution_count": 17,
   "metadata": {
    "collapsed": false
   },
   "outputs": [
    {
     "name": "stdout",
     "output_type": "stream",
     "text": [
      "b'<!doctype html>\\n'\n",
      "b'<!--[if lt IE 7]>   <html class=\"no-js ie6 lt-ie7 lt-ie8 lt-ie9\">   <![endif]-->\\n'\n",
      "b'<!--[if IE 7]>      <html class=\"no-js ie7 lt-ie8 lt-ie9\">          <![endif]-->\\n'\n",
      "b'<!--[if IE 8]>      <html class=\"no-js ie8 lt-ie9\">                 <![endif]-->\\n'\n",
      "b'<!--[if gt IE 8]><!--><html class=\"no-js\" lang=\"en\" dir=\"ltr\">  <!--<![endif]-->\\n'\n",
      "b'\\n'\n",
      "b'<head>\\n'\n",
      "b'    <meta charset=\"utf-8\">\\n'\n",
      "b'    <meta http-equiv=\"X-UA-Compatible\" content=\"IE=edge\">\\n'\n",
      "b'\\n'\n",
      "b'    <link rel=\"prefetch\" href=\"//ajax.googleapis.com/ajax/libs/jquery/1.8.2/jquery.min.js\">\\n'\n",
      "b'\\n'\n",
      "b'    <meta name=\"application-name\" content=\"Python.org\">\\n'\n",
      "b'    <meta name=\"msapplication-tooltip\" content=\"The official home of the Python Programming Language\">\\n'\n",
      "b'    <meta name=\"apple-mobile-web-app-title\" content=\"Python.org\">\\n'\n",
      "b'    <meta name=\"apple-mobile-web-app-capable\" content=\"yes\">\\n'\n",
      "b'    <meta name=\"apple-mobile-web-app-status-bar-style\" content=\"black\">\\n'\n",
      "b'\\n'\n",
      "b'    <meta name=\"viewport\" content=\"width=device-width, initial-scale=1.0\">\\n'\n",
      "b'    <meta name=\"HandheldFriendly\" content=\"True\">\\n'\n",
      "b'    <meta name=\"format-detection\" content=\"telephone=no\">\\n'\n",
      "b'    <meta http-equiv=\"cleartype\" content=\"on\">\\n'\n",
      "b'    <meta http-equiv=\"imagetoolbar\" content=\"false\">\\n'\n",
      "b'\\n'\n",
      "b'    <script src=\"/static/js/libs/modernizr.js\"></script>\\n'\n",
      "b'\\n'\n",
      "b'    <link href=\"/static/stylesheets/style.css\" rel=\"stylesheet\" type=\"text/css\" title=\"default\" />\\n'\n",
      "b'    <link href=\"/static/stylesheets/mq.css\" rel=\"stylesheet\" type=\"text/css\" media=\"not print, braille, embossed, speech, tty\" />\\n'\n",
      "b'    \\n'\n",
      "b'\\n'\n",
      "b'    <!--[if (lte IE 8)&(!IEMobile)]>\\n'\n",
      "b'    <link href=\"/static/stylesheets/no-mq.css\" rel=\"stylesheet\" type=\"text/css\" media=\"screen\" />\\n'\n",
      "b'    \\n'\n",
      "b'    \\n'\n",
      "b'    <![endif]-->\\n'\n",
      "b'\\n'\n",
      "b'    \\n'\n",
      "b'    <link rel=\"icon\" type=\"image/x-icon\" href=\"/static/favicon.ico\">\\n'\n",
      "b'    <link rel=\"apple-touch-icon-precomposed\" sizes=\"144x144\" href=\"/static/apple-touch-icon-144x144-precomposed.png\">\\n'\n",
      "b'    <link rel=\"apple-touch-icon-precomposed\" sizes=\"114x114\" href=\"/static/apple-touch-icon-114x114-precomposed.png\">\\n'\n",
      "b'    <link rel=\"apple-touch-icon-precomposed\" sizes=\"72x72\" href=\"/static/apple-touch-icon-72x72-precomposed.png\">\\n'\n",
      "b'    <link rel=\"apple-touch-icon-precomposed\" href=\"/static/apple-touch-icon-precomposed.png\">\\n'\n",
      "b'    <link rel=\"apple-touch-icon\" href=\"/static/apple-touch-icon-precomposed.png\">\\n'\n",
      "b'\\n'\n",
      "b'    \\n'\n",
      "b'    <meta name=\"msapplication-TileImage\" content=\"/static/metro-icon-144x144-precomposed.png\"><!-- white shape -->\\n'\n",
      "b'    <meta name=\"msapplication-TileColor\" content=\"#3673a5\"><!-- python blue -->\\n'\n",
      "b'    <meta name=\"msapplication-navbutton-color\" content=\"#3673a5\">\\n'\n",
      "b'\\n'\n",
      "b'    <title>Welcome to Python.org</title>\\n'\n",
      "b'\\n'\n",
      "b'    <meta name=\"description\" content=\"The official home of the Python Programming Language\">\\n'\n",
      "b'    <meta name=\"keywords\" content=\"Python programming language object oriented web free open source software license documentation download community\">\\n'\n",
      "b'\\n'\n",
      "b'    \\n'\n",
      "b'    <meta property=\"og:type\" content=\"website\">\\n'\n",
      "b'    <meta property=\"og:site_name\" content=\"Python.org\">\\n'\n",
      "b'    <meta property=\"og:title\" content=\"Welcome to Python.org\">\\n'\n",
      "b'    <meta property=\"og:description\" content=\"The official home of the Python Programming Language\">\\n'\n",
      "b'    \\n'\n",
      "b'    <meta property=\"og:image\" content=\"https://www.python.org/static/opengraph-icon-200x200.png\">\\n'\n",
      "b'    <meta property=\"og:image:secure_url\" content=\"https://www.python.org/static/opengraph-icon-200x200.png\">\\n'\n",
      "b'    \\n'\n",
      "b'    <meta property=\"og:url\" content=\"https://www.python.org/\">\\n'\n",
      "b'\\n'\n",
      "b'    <link rel=\"author\" href=\"/static/humans.txt\">\\n'\n",
      "b'\\n'\n",
      "b'    \\n'\n",
      "b'\\n'\n",
      "b'    \\n'\n",
      "b'    <script type=\"application/ld+json\">\\n'\n",
      "b'     {\\n'\n",
      "b'       \"@context\": \"http://schema.org\",\\n'\n",
      "b'       \"@type\": \"WebSite\",\\n'\n",
      "b'       \"url\": \"https://www.python.org/\",\\n'\n",
      "b'       \"potentialAction\": {\\n'\n",
      "b'         \"@type\": \"SearchAction\",\\n'\n",
      "b'         \"target\": \"https://www.python.org/search/?q={search_term_string}\",\\n'\n",
      "b'         \"query-input\": \"required name=search_term_string\"\\n'\n",
      "b'       }\\n'\n",
      "b'     }\\n'\n",
      "b'    </script>\\n'\n",
      "b'\\n'\n",
      "b'    \\n'\n",
      "b'    <script type=\"text/javascript\">\\n'\n",
      "b'    var _gaq = _gaq || [];\\n'\n",
      "b\"    _gaq.push(['_setAccount', 'UA-39055973-1']);\\n\"\n",
      "b\"    _gaq.push(['_trackPageview']);\\n\"\n",
      "b'\\n'\n",
      "b'    (function() {\\n'\n",
      "b\"        var ga = document.createElement('script'); ga.type = 'text/javascript'; ga.async = true;\\n\"\n",
      "b\"        ga.src = ('https:' == document.location.protocol ? 'https://ssl' : 'http://www') + '.google-analytics.com/ga.js';\\n\"\n",
      "b\"        var s = document.getElementsByTagName('script')[0]; s.parentNode.insertBefore(ga, s);\\n\"\n",
      "b'    })();\\n'\n",
      "b'    </script>\\n'\n",
      "b'    \\n'\n",
      "b'</head>\\n'\n",
      "b'\\n'\n",
      "b'<body class=\"python home\" id=\"homepage\">\\n'\n",
      "b'\\n'\n",
      "b'    <div id=\"touchnav-wrapper\">\\n'\n",
      "b'\\n'\n",
      "b'        <div id=\"nojs\" class=\"do-not-print\">\\n'\n",
      "b'            <p><strong>Notice:</strong> While Javascript is not essential for this website, your interaction with the content will be limited. Please turn Javascript on for the full experience. </p>\\n'\n",
      "b'        </div>\\n'\n",
      "b'\\n'\n",
      "b'        <!--[if lt IE 8]>\\n'\n",
      "b'        <div id=\"oldie-warning\" class=\"do-not-print\">\\n'\n",
      "b'            <p><strong>Notice:</strong> Your browser is <em>ancient</em> and <a href=\"http://www.ie6countdown.com/\">Microsoft agrees</a>. <a href=\"http://browsehappy.com/\">Upgrade to a different browser</a> or <a href=\"http://www.google.com/chromeframe/?redirect=true\">install Google Chrome Frame</a> to experience a better web.</p>\\n'\n",
      "b'        </div>\\n'\n",
      "b'        <![endif]-->\\n'\n",
      "b'\\n'\n",
      "b'        <!-- Sister Site Links -->\\n'\n",
      "b'        <div id=\"top\" class=\"top-bar do-not-print\">\\n'\n",
      "b'\\n'\n",
      "b'            <nav class=\"meta-navigation container\" role=\"navigation\">\\n'\n",
      "b'\\n'\n",
      "b'                \\n'\n",
      "b'                <div class=\"skip-link screen-reader-text\">\\n'\n",
      "b'                    <a href=\"#content\" title=\"Skip to content\">Skip to content</a>\\n'\n",
      "b'                </div>\\n'\n",
      "b'\\n'\n",
      "b'                \\n'\n",
      "b'                <a id=\"close-python-network\" class=\"jump-link\" href=\"#python-network\" aria-hidden=\"true\">\\n'\n",
      "b'                    <span aria-hidden=\"true\" class=\"icon-arrow-down\"><span>&#9660;</span></span> Close\\n'\n",
      "b'                </a>\\n'\n",
      "b'\\n'\n",
      "b'                \\n'\n",
      "b'\\n'\n",
      "b'<ul class=\"menu\" role=\"tree\">\\n'\n",
      "b'    \\n'\n",
      "b'    <li class=\"python-meta current_item selectedcurrent_branch selected\">\\n'\n",
      "b'        <a href=\"/\" title=\"The Python Programming Language\" class=\"current_item selectedcurrent_branch selected\">Python</a>\\n'\n",
      "b'    </li>\\n'\n",
      "b'    \\n'\n",
      "b'    <li class=\"psf-meta \">\\n'\n",
      "b'        <a href=\"/psf-landing/\" title=\"The Python Software Foundation\" >PSF</a>\\n'\n",
      "b'    </li>\\n'\n",
      "b'    \\n'\n",
      "b'    <li class=\"docs-meta \">\\n'\n",
      "b'        <a href=\"https://docs.python.org\" title=\"Python Documentation\" >Docs</a>\\n'\n",
      "b'    </li>\\n'\n",
      "b'    \\n'\n",
      "b'    <li class=\"pypi-meta \">\\n'\n",
      "b'        <a href=\"https://pypi.python.org/\" title=\"Python Package Index\" >PyPI</a>\\n'\n",
      "b'    </li>\\n'\n",
      "b'    \\n'\n",
      "b'    <li class=\"jobs-meta \">\\n'\n",
      "b'        <a href=\"/jobs/\" title=\"Python Job Board\" >Jobs</a>\\n'\n",
      "b'    </li>\\n'\n",
      "b'    \\n'\n",
      "b'    <li class=\"shop-meta \">\\n'\n",
      "b'        <a href=\"/community/\" title=\"Python Community\" >Community</a>\\n'\n",
      "b'    </li>\\n'\n",
      "b'    \\n'\n",
      "b'</ul>\\n'\n",
      "b'\\n'\n",
      "b'\\n'\n",
      "b'                <a id=\"python-network\" class=\"jump-link\" href=\"#top\" aria-hidden=\"true\">\\n'\n",
      "b'                    <span aria-hidden=\"true\" class=\"icon-arrow-up\"><span>&#9650;</span></span> The Python Network\\n'\n",
      "b'                </a>\\n'\n",
      "b'\\n'\n",
      "b'            </nav>\\n'\n",
      "b'\\n'\n",
      "b'        </div>\\n'\n",
      "b'\\n'\n",
      "b'        <!-- Header elements -->\\n'\n",
      "b'        <header class=\"main-header\" role=\"banner\">\\n'\n",
      "b'            <div class=\"container\">\\n'\n",
      "b'\\n'\n",
      "b'                <h1 class=\"site-headline\">\\n'\n",
      "b'                    <a href=\"/\"><img class=\"python-logo\" src=\"/static/img/python-logo.png\" alt=\"python&trade;\"></a>\\n'\n",
      "b'                </h1>\\n'\n",
      "b'\\n'\n",
      "b'                <div class=\"options-bar do-not-print\">\\n'\n",
      "b'\\n'\n",
      "b'                    \\n'\n",
      "b'                    <a id=\"site-map-link\" class=\"jump-to-menu\" href=\"#site-map\"><span class=\"menu-icon\">&equiv;</span> Menu</a><form class=\"search-the-site\" action=\"/search/\" method=\"get\">\\n'\n",
      "b'                        <fieldset title=\"Search Python.org\">\\n'\n",
      "b'\\n'\n",
      "b'                            <span aria-hidden=\"true\" class=\"icon-search\"></span>\\n'\n",
      "b'\\n'\n",
      "b'                            <label class=\"screen-reader-text\" for=\"id-search-field\">Search This Site</label>\\n'\n",
      "b'                            <input id=\"id-search-field\" name=\"q\" type=\"search\" role=\"textbox\" class=\"search-field\" placeholder=\"Search\" value=\"\" tabindex=\"1\">\\n'\n",
      "b'\\n'\n",
      "b'                            <button type=\"submit\" name=\"submit\" id=\"submit\" class=\"search-button\" title=\"Submit this Search\" tabindex=\"3\">\\n'\n",
      "b'                                GO\\n'\n",
      "b'                            </button>\\n'\n",
      "b'\\n'\n",
      "b'                            \\n'\n",
      "b'                            <!--[if IE]><input type=\"text\" style=\"display: none;\" disabled=\"disabled\" size=\"1\" tabindex=\"4\"><![endif]-->\\n'\n",
      "b'\\n'\n",
      "b'                        </fieldset>\\n'\n",
      "b'                    </form><span class=\"breaker\"></span><div class=\"adjust-font-size\" aria-hidden=\"true\">\\n'\n",
      "b'                        <ul class=\"navigation menu\" aria-label=\"Adjust Text Size on Page\">\\n'\n",
      "b'                            <li class=\"tier-1 last\" aria-haspopup=\"true\">\\n'\n",
      "b'                                <a href=\"#\" class=\"action-trigger\"><strong><small>A</small> A</strong></a>\\n'\n",
      "b'                                <ul class=\"subnav menu\">\\n'\n",
      "b'                                    <li class=\"tier-2 element-1\" role=\"treeitem\"><a class=\"text-shrink\" title=\"Make Text Smaller\" href=\"javascript:;\">Smaller</a></li>\\n'\n",
      "b'                                    <li class=\"tier-2 element-2\" role=\"treeitem\"><a class=\"text-grow\" title=\"Make Text Larger\" href=\"javascript:;\">Larger</a></li>\\n'\n",
      "b'                                    <li class=\"tier-2 element-3\" role=\"treeitem\"><a class=\"text-reset\" title=\"Reset any font size changes I have made\" href=\"javascript:;\">Reset</a></li>\\n'\n",
      "b'                                </ul>\\n'\n",
      "b'                            </li>\\n'\n",
      "b'                        </ul>\\n'\n",
      "b'                    </div><div class=\"winkwink-nudgenudge\">\\n'\n",
      "b'                        <ul class=\"navigation menu\" aria-label=\"Social Media Navigation\">\\n'\n",
      "b'                            <li class=\"tier-1 last\" aria-haspopup=\"true\">\\n'\n",
      "b'                                <a href=\"#\" class=\"action-trigger\">Socialize</a>\\n'\n",
      "b'                                <ul class=\"subnav menu\">\\n'\n",
      "b'                                    <li class=\"tier-2 element-1\" role=\"treeitem\"><a href=\"http://plus.google.com/+Python\"><span aria-hidden=\"true\" class=\"icon-google-plus\"></span>Google+</a></li>\\n'\n",
      "b'                                    <li class=\"tier-2 element-2\" role=\"treeitem\"><a href=\"http://www.facebook.com/pythonlang?fref=ts\"><span aria-hidden=\"true\" class=\"icon-facebook\"></span>Facebook</a></li>\\n'\n",
      "b'                                    <li class=\"tier-2 element-3\" role=\"treeitem\"><a href=\"http://twitter.com/ThePSF\"><span aria-hidden=\"true\" class=\"icon-twitter\"></span>Twitter</a></li>\\n'\n",
      "b'                                    <li class=\"tier-2 element-4\" role=\"treeitem\"><a href=\"/community/irc/\"><span aria-hidden=\"true\" class=\"icon-freenode\"></span>Chat on IRC</a></li>\\n'\n",
      "b'                                </ul>\\n'\n",
      "b'                            </li>\\n'\n",
      "b'                        </ul>\\n'\n",
      "b'                    </div><div class=\"account-signin\">\\n'\n",
      "b'                        <ul class=\"navigation menu\" aria-label=\"Social Media Navigation\">\\n'\n",
      "b'                            <li class=\"tier-1 last\" aria-haspopup=\"true\">\\n'\n",
      "b'                                \\n'\n",
      "b'                                <a href=\"/accounts/login/\" title=\"Sign Up or Sign In to Python.org\">Sign In</a>\\n'\n",
      "b'                                <ul class=\"subnav menu\">\\n'\n",
      "b'                                    <li class=\"tier-2 element-1\" role=\"treeitem\"><a href=\"/accounts/signup/\">Sign Up / Register</a></li>\\n'\n",
      "b'                                    <li class=\"tier-2 element-2\" role=\"treeitem\"><a href=\"/accounts/login/\">Sign In</a></li>\\n'\n",
      "b'                                </ul>\\n'\n",
      "b'                                \\n'\n",
      "b'                            </li>\\n'\n",
      "b'                        </ul>\\n'\n",
      "b'                    </div>\\n'\n",
      "b'\\n'\n",
      "b'                </div><!-- end options-bar -->\\n'\n",
      "b'\\n'\n",
      "b'                <nav id=\"mainnav\" class=\"python-navigation main-navigation do-not-print\" role=\"navigation\">\\n'\n",
      "b'                    \\n'\n",
      "b'                        \\n'\n",
      "b'<ul class=\"navigation menu\" role=\"menubar\" aria-label=\"Main Navigation\">\\n'\n",
      "b'  \\n'\n",
      "b'    \\n'\n",
      "b'    \\n'\n",
      "b'    <li id=\"about\" class=\"tier-1 element-1  \" aria-haspopup=\"true\">\\n'\n",
      "b'        <a href=\"/about/\" title=\"\" class=\"\">About</a>\\n'\n",
      "b'        \\n'\n",
      "b'            \\n'\n",
      "b'\\n'\n",
      "b'<ul class=\"subnav menu\" role=\"menu\" aria-hidden=\"true\">\\n'\n",
      "b'    \\n'\n",
      "b'        <li class=\"tier-2 element-1\" role=\"treeitem\"><a href=\"/about/apps/\" title=\"\">Applications</a></li>\\n'\n",
      "b'    \\n'\n",
      "b'        <li class=\"tier-2 element-2\" role=\"treeitem\"><a href=\"/about/quotes/\" title=\"\">Quotes</a></li>\\n'\n",
      "b'    \\n'\n",
      "b'        <li class=\"tier-2 element-3\" role=\"treeitem\"><a href=\"/about/gettingstarted/\" title=\"\">Getting Started</a></li>\\n'\n",
      "b'    \\n'\n",
      "b'        <li class=\"tier-2 element-4\" role=\"treeitem\"><a href=\"/about/help/\" title=\"\">Help</a></li>\\n'\n",
      "b'    \\n'\n",
      "b'        <li class=\"tier-2 element-5\" role=\"treeitem\"><a href=\"http://brochure.getpython.info/\" title=\"\">Python Brochure</a></li>\\n'\n",
      "b'    \\n'\n",
      "b'</ul>\\n'\n",
      "b'\\n'\n",
      "b'        \\n'\n",
      "b'    </li>\\n'\n",
      "b'    \\n'\n",
      "b'    \\n'\n",
      "b'    \\n'\n",
      "b'    <li id=\"downloads\" class=\"tier-1 element-2  \" aria-haspopup=\"true\">\\n'\n",
      "b'        <a href=\"/downloads/\" title=\"\" class=\"\">Downloads</a>\\n'\n",
      "b'        \\n'\n",
      "b'            \\n'\n",
      "b'\\n'\n",
      "b'<ul class=\"subnav menu\" role=\"menu\" aria-hidden=\"true\">\\n'\n",
      "b'    \\n'\n",
      "b'        <li class=\"tier-2 element-1\" role=\"treeitem\"><a href=\"/downloads/\" title=\"\">All releases</a></li>\\n'\n",
      "b'    \\n'\n",
      "b'        <li class=\"tier-2 element-2\" role=\"treeitem\"><a href=\"/downloads/source/\" title=\"\">Source code</a></li>\\n'\n",
      "b'    \\n'\n",
      "b'        <li class=\"tier-2 element-3\" role=\"treeitem\"><a href=\"/downloads/windows/\" title=\"\">Windows</a></li>\\n'\n",
      "b'    \\n'\n",
      "b'        <li class=\"tier-2 element-4\" role=\"treeitem\"><a href=\"/downloads/mac-osx/\" title=\"\">Mac OS X</a></li>\\n'\n",
      "b'    \\n'\n",
      "b'        <li class=\"tier-2 element-5\" role=\"treeitem\"><a href=\"/download/other/\" title=\"\">Other Platforms</a></li>\\n'\n",
      "b'    \\n'\n",
      "b'        <li class=\"tier-2 element-6\" role=\"treeitem\"><a href=\"https://docs.python.org/3/license.html\" title=\"\">License</a></li>\\n'\n",
      "b'    \\n'\n",
      "b'        <li class=\"tier-2 element-7\" role=\"treeitem\"><a href=\"/download/alternatives\" title=\"\">Alternative Implementations</a></li>\\n'\n",
      "b'    \\n'\n",
      "b'</ul>\\n'\n",
      "b'\\n'\n",
      "b'        \\n'\n",
      "b'    </li>\\n'\n",
      "b'    \\n'\n",
      "b'    \\n'\n",
      "b'    \\n'\n",
      "b'    <li id=\"documentation\" class=\"tier-1 element-3  \" aria-haspopup=\"true\">\\n'\n",
      "b'        <a href=\"/doc/\" title=\"\" class=\"\">Documentation</a>\\n'\n",
      "b'        \\n'\n",
      "b'            \\n'\n",
      "b'\\n'\n",
      "b'<ul class=\"subnav menu\" role=\"menu\" aria-hidden=\"true\">\\n'\n",
      "b'    \\n'\n",
      "b'        <li class=\"tier-2 element-1\" role=\"treeitem\"><a href=\"/doc/\" title=\"\">Docs</a></li>\\n'\n",
      "b'    \\n'\n",
      "b'        <li class=\"tier-2 element-2\" role=\"treeitem\"><a href=\"/doc/av\" title=\"\">Audio/Visual Talks</a></li>\\n'\n",
      "b'    \\n'\n",
      "b'        <li class=\"tier-2 element-3\" role=\"treeitem\"><a href=\"https://wiki.python.org/moin/BeginnersGuide\" title=\"\">Beginner&#39;s Guide</a></li>\\n'\n",
      "b'    \\n'\n",
      "b'        <li class=\"tier-2 element-4\" role=\"treeitem\"><a href=\"https://docs.python.org/devguide/\" title=\"\">Developer&#39;s Guide</a></li>\\n'\n",
      "b'    \\n'\n",
      "b'        <li class=\"tier-2 element-5\" role=\"treeitem\"><a href=\"https://docs.python.org/faq/\" title=\"\">FAQ</a></li>\\n'\n",
      "b'    \\n'\n",
      "b'        <li class=\"tier-2 element-6\" role=\"treeitem\"><a href=\"http://wiki.python.org/moin/Languages\" title=\"\">Non-English Docs</a></li>\\n'\n",
      "b'    \\n'\n",
      "b'        <li class=\"tier-2 element-7\" role=\"treeitem\"><a href=\"http://python.org/dev/peps/\" title=\"\">PEP Index</a></li>\\n'\n",
      "b'    \\n'\n",
      "b'        <li class=\"tier-2 element-8\" role=\"treeitem\"><a href=\"https://wiki.python.org/moin/PythonBooks\" title=\"\">Python Books</a></li>\\n'\n",
      "b'    \\n'\n",
      "b'</ul>\\n'\n",
      "b'\\n'\n",
      "b'        \\n'\n",
      "b'    </li>\\n'\n",
      "b'    \\n'\n",
      "b'    \\n'\n",
      "b'    \\n'\n",
      "b'    <li id=\"community\" class=\"tier-1 element-4  \" aria-haspopup=\"true\">\\n'\n",
      "b'        <a href=\"/community/\" title=\"\" class=\"\">Community</a>\\n'\n",
      "b'        \\n'\n",
      "b'            \\n'\n",
      "b'\\n'\n",
      "b'<ul class=\"subnav menu\" role=\"menu\" aria-hidden=\"true\">\\n'\n",
      "b'    \\n'\n",
      "b'        <li class=\"tier-2 element-1\" role=\"treeitem\"><a href=\"/community/diversity/\" title=\"\">Diversity</a></li>\\n'\n",
      "b'    \\n'\n",
      "b'        <li class=\"tier-2 element-2\" role=\"treeitem\"><a href=\"/community/irc/\" title=\"\">IRC</a></li>\\n'\n",
      "b'    \\n'\n",
      "b'        <li class=\"tier-2 element-3\" role=\"treeitem\"><a href=\"/community/lists/\" title=\"\">Mailing Lists</a></li>\\n'\n",
      "b'    \\n'\n",
      "b'        <li class=\"tier-2 element-4\" role=\"treeitem\"><a href=\"/community/workshops/\" title=\"\">Python Conferences</a></li>\\n'\n",
      "b'    \\n'\n",
      "b'        <li class=\"tier-2 element-5\" role=\"treeitem\"><a href=\"/community/sigs/\" title=\"\">Special Interest Groups</a></li>\\n'\n",
      "b'    \\n'\n",
      "b'        <li class=\"tier-2 element-6\" role=\"treeitem\"><a href=\"https://wiki.python.org/moin/\" title=\"\">Python Wiki</a></li>\\n'\n",
      "b'    \\n'\n",
      "b'        <li class=\"tier-2 element-7\" role=\"treeitem\"><a href=\"/community/logos/\" title=\"\">Python Logo</a></li>\\n'\n",
      "b'    \\n'\n",
      "b'        <li class=\"tier-2 element-8\" role=\"treeitem\"><a href=\"/community/merchandise/\" title=\"\">Merchandise</a></li>\\n'\n",
      "b'    \\n'\n",
      "b'        <li class=\"tier-2 element-9\" role=\"treeitem\"><a href=\"/community/awards\" title=\"\">Community Awards</a></li>\\n'\n",
      "b'    \\n'\n",
      "b'</ul>\\n'\n",
      "b'\\n'\n",
      "b'        \\n'\n",
      "b'    </li>\\n'\n",
      "b'    \\n'\n",
      "b'    \\n'\n",
      "b'    \\n'\n",
      "b'    <li id=\"success-stories\" class=\"tier-1 element-5  \" aria-haspopup=\"true\">\\n'\n",
      "b'        <a href=\"/about/success/\" title=\"success-stories\" class=\"\">Success Stories</a>\\n'\n",
      "b'        \\n'\n",
      "b'            \\n'\n",
      "b'\\n'\n",
      "b'<ul class=\"subnav menu\" role=\"menu\" aria-hidden=\"true\">\\n'\n",
      "b'    \\n'\n",
      "b'        <li class=\"tier-2 element-1\" role=\"treeitem\"><a href=\"/about/success/#arts\" title=\"\">Arts</a></li>\\n'\n",
      "b'    \\n'\n",
      "b'        <li class=\"tier-2 element-2\" role=\"treeitem\"><a href=\"/about/success/#business\" title=\"\">Business</a></li>\\n'\n",
      "b'    \\n'\n",
      "b'        <li class=\"tier-2 element-3\" role=\"treeitem\"><a href=\"/about/success/#education\" title=\"\">Education</a></li>\\n'\n",
      "b'    \\n'\n",
      "b'        <li class=\"tier-2 element-4\" role=\"treeitem\"><a href=\"/about/success/#engineering\" title=\"\">Engineering</a></li>\\n'\n",
      "b'    \\n'\n",
      "b'        <li class=\"tier-2 element-5\" role=\"treeitem\"><a href=\"/about/success/#government\" title=\"\">Government</a></li>\\n'\n",
      "b'    \\n'\n",
      "b'        <li class=\"tier-2 element-6\" role=\"treeitem\"><a href=\"/about/success/#scientific\" title=\"\">Scientific</a></li>\\n'\n",
      "b'    \\n'\n",
      "b'        <li class=\"tier-2 element-7\" role=\"treeitem\"><a href=\"/about/success/#software-development\" title=\"\">Software Development</a></li>\\n'\n",
      "b'    \\n'\n",
      "b'</ul>\\n'\n",
      "b'\\n'\n",
      "b'        \\n'\n",
      "b'    </li>\\n'\n",
      "b'    \\n'\n",
      "b'    \\n'\n",
      "b'    \\n'\n",
      "b'    <li id=\"news\" class=\"tier-1 element-6  \" aria-haspopup=\"true\">\\n'\n",
      "b'        <a href=\"/blogs/\" title=\"News from around the Python world\" class=\"\">News</a>\\n'\n",
      "b'        \\n'\n",
      "b'            \\n'\n",
      "b'\\n'\n",
      "b'<ul class=\"subnav menu\" role=\"menu\" aria-hidden=\"true\">\\n'\n",
      "b'    \\n'\n",
      "b'        <li class=\"tier-2 element-1\" role=\"treeitem\"><a href=\"/blogs/\" title=\"Python Insider Blog Posts\">Python News</a></li>\\n'\n",
      "b'    \\n'\n",
      "b'        <li class=\"tier-2 element-2\" role=\"treeitem\"><a href=\"http://planetpython.org/\" title=\"Planet Python\">Community News</a></li>\\n'\n",
      "b'    \\n'\n",
      "b'        <li class=\"tier-2 element-3\" role=\"treeitem\"><a href=\"http://pyfound.blogspot.com/\" title=\"PSF Blog\">PSF News</a></li>\\n'\n",
      "b'    \\n'\n",
      "b'        <li class=\"tier-2 element-4\" role=\"treeitem\"><a href=\"http://pycon.blogspot.com/\" title=\"PyCon Blog\">PyCon News</a></li>\\n'\n",
      "b'    \\n'\n",
      "b'</ul>\\n'\n",
      "b'\\n'\n",
      "b'        \\n'\n",
      "b'    </li>\\n'\n",
      "b'    \\n'\n",
      "b'    \\n'\n",
      "b'    \\n'\n",
      "b'    <li id=\"events\" class=\"tier-1 element-7  \" aria-haspopup=\"true\">\\n'\n",
      "b'        <a href=\"/events/\" title=\"\" class=\"\">Events</a>\\n'\n",
      "b'        \\n'\n",
      "b'            \\n'\n",
      "b'\\n'\n",
      "b'<ul class=\"subnav menu\" role=\"menu\" aria-hidden=\"true\">\\n'\n",
      "b'    \\n'\n",
      "b'        <li class=\"tier-2 element-1\" role=\"treeitem\"><a href=\"/events/python-events\" title=\"\">Python Events</a></li>\\n'\n",
      "b'    \\n'\n",
      "b'        <li class=\"tier-2 element-2\" role=\"treeitem\"><a href=\"/events/python-user-group/\" title=\"\">User Group Events</a></li>\\n'\n",
      "b'    \\n'\n",
      "b'        <li class=\"tier-2 element-3\" role=\"treeitem\"><a href=\"/events/python-events/past/\" title=\"\">Python Events Archive</a></li>\\n'\n",
      "b'    \\n'\n",
      "b'        <li class=\"tier-2 element-4\" role=\"treeitem\"><a href=\"/events/python-user-group/past/\" title=\"\">User Group Events Archive</a></li>\\n'\n",
      "b'    \\n'\n",
      "b'        <li class=\"tier-2 element-5\" role=\"treeitem\"><a href=\"https://wiki.python.org/moin/PythonEventsCalendar#Submitting_an_Event\" title=\"\">Submit an Event</a></li>\\n'\n",
      "b'    \\n'\n",
      "b'</ul>\\n'\n",
      "b'\\n'\n",
      "b'        \\n'\n",
      "b'    </li>\\n'\n",
      "b'    \\n'\n",
      "b'    \\n'\n",
      "b'    \\n'\n",
      "b'    \\n'\n",
      "b'  \\n'\n",
      "b'</ul>\\n'\n",
      "b'\\n'\n",
      "b'                    \\n'\n",
      "b'                </nav>\\n'\n",
      "b'\\n'\n",
      "b'                <div class=\"header-banner \"> <!-- for optional \"do-not-print\" class -->\\n'\n",
      "b'                    \\n'\n",
      "b'        <div id=\"dive-into-python\" class=\"flex-slideshow slideshow\">\\n'\n",
      "b'\\n'\n",
      "b'            <ul class=\"launch-shell menu\" id=\"launch-shell\">\\n'\n",
      "b'                <li>\\n'\n",
      "b'                    <a class=\"button prompt\" id=\"start-shell\" data-shell-container=\"#dive-into-python\" href=\"/shell/\">&gt;_\\n'\n",
      "b'                        <span class=\"message\">Launch Interactive Shell</span>\\n'\n",
      "b'                    </a>\\n'\n",
      "b'                </li>\\n'\n",
      "b'            </ul>\\n'\n",
      "b'\\n'\n",
      "b'            <ul class=\"slides menu\">\\n'\n",
      "b'                \\n'\n",
      "b'                <li>\\n'\n",
      "b'                    <div class=\"slide-code\"><pre><code><span class=\"comment\"># Python 3: Fibonacci series up to n</span>\\r\\n'\n",
      "b'>>> def fib(n):\\r\\n'\n",
      "b'>>>     a, b = 0, 1\\r\\n'\n",
      "b'>>>     while a &lt; n:\\r\\n'\n",
      "b\">>>         print(a, end=' ')\\r\\n\"\n",
      "b'>>>         a, b = b, a+b\\r\\n'\n",
      "b'>>>     print()\\r\\n'\n",
      "b'>>> fib(1000)\\r\\n'\n",
      "b'<span class=\"output\">0 1 1 2 3 5 8 13 21 34 55 89 144 233 377 610 987</span></code></pre></div>\\n'\n",
      "b'                    <div class=\"slide-copy\"><h1>Functions Defined</h1>\\r\\n'\n",
      "b'<p>The core of extensible programming is defining functions. Python allows mandatory and optional arguments, keyword arguments, and even arbitrary argument lists. <a href=\"//docs.python.org/3/tutorial/controlflow.html#defining-functions\">More about defining functions in Python&nbsp;3</a></p></div>\\n'\n",
      "b'                </li>\\n'\n",
      "b'                \\n'\n",
      "b'                <li>\\n'\n",
      "b'                    <div class=\"slide-code\"><pre><code><span class=\"comment\"># Python 3: List comprehensions</span>\\r\\n'\n",
      "b\">>> fruits = ['Banana', 'Apple', 'Lime']\\r\\n\"\n",
      "b'>>> loud_fruits = [fruit.upper() for fruit in fruits]\\r\\n'\n",
      "b'>>> print(loud_fruits)\\r\\n'\n",
      "b'<span class=\"output\">[\\'BANANA\\', \\'APPLE\\', \\'LIME\\']</span>\\r\\n'\n",
      "b'\\r\\n'\n",
      "b'<span class=\"comment\"># List and the enumerate function</span>\\r\\n'\n",
      "b'>>> list(enumerate(fruits))\\r\\n'\n",
      "b'<span class=\"output\">[(0, \\'Banana\\'), (1, \\'Apple\\'), (2, \\'Lime\\')]</span></code></pre></div>\\n'\n",
      "b'                    <div class=\"slide-copy\"><h1>Compound Data Types</h1>\\r\\n'\n",
      "b'<p>Lists (known as arrays in other languages) are one of the compound data types that Python understands. Lists can be indexed, sliced and manipulated with other built-in functions. <a href=\"//docs.python.org/3/tutorial/introduction.html#lists\">More about lists in Python&nbsp;3</a></p></div>\\n'\n",
      "b'                </li>\\n'\n",
      "b'                \\n'\n",
      "b'                <li>\\n'\n",
      "b'                    <div class=\"slide-code\"><pre><code><span class=\"comment\"># Python 3: Simple arithmetic</span>\\r\\n'\n",
      "b'>>> 1 / 2\\r\\n'\n",
      "b'<span class=\"output\">0.5</span>\\r\\n'\n",
      "b'>>> 2 ** 3\\r\\n'\n",
      "b'<span class=\"output\">8</span>\\r\\n'\n",
      "b'>>> 17 / 3  <span class=\"comment\"># classic division returns a float</span>\\r\\n'\n",
      "b'<span class=\"output\">5.666666666666667</span>\\r\\n'\n",
      "b'>>> 17 // 3  <span class=\"comment\"># floor division</span>\\r\\n'\n",
      "b'<span class=\"output\">5</span></code></pre></div>\\n'\n",
      "b'                    <div class=\"slide-copy\"><h1>Intuitive Interpretation</h1>\\r\\n'\n",
      "b'<p>Calculations are simple with Python, and expression syntax is straightforward: the operators <code>+</code>, <code>-</code>, <code>*</code> and <code>/</code> work as expected; parentheses <code>()</code> can be used for grouping. <a href=\"http://docs.python.org/3/tutorial/introduction.html#using-python-as-a-calculator\">More about simple math functions in Python&nbsp;3</a>.</p></div>\\n'\n",
      "b'                </li>\\n'\n",
      "b'                \\n'\n",
      "b'                <li>\\n'\n",
      "b'                    <div class=\"slide-code\"><pre><code><span class=\"comment\"># Python 3: Simple output (with Unicode)</span>\\r\\n'\n",
      "b'>>> print(\"Hello, I\\'m Python!\")\\r\\n'\n",
      "b'<span class=\"output\">Hello, I\\'m Python!</span>\\r\\n'\n",
      "b'\\r\\n'\n",
      "b'<span class=\"comment\"># Input, assignment</span>\\r\\n'\n",
      "b\">>> name = input('What is your name?\\\\n')\\r\\n\"\n",
      "b\">>> print('Hi, %s.' % name)\\r\\n\"\n",
      "b'<span class=\"output\">What is your name?\\r\\n'\n",
      "b'Python\\r\\n'\n",
      "b'Hi, Python.</span></code></pre></div>\\n'\n",
      "b'                    <div class=\"slide-copy\"><h1>Quick &amp; Easy to Learn</h1>\\r\\n'\n",
      "b'<p>Experienced programmers in any other language can pick up Python very quickly, and beginners find the clean syntax and indentation structure easy to learn. <a href=\"//docs.python.org/3/tutorial/\">Whet your appetite</a> with our Python&nbsp;3 overview.</p>\\r\\n'\n",
      "b'                   </div>\\n'\n",
      "b'                </li>\\n'\n",
      "b'                \\n'\n",
      "b'                <li>\\n'\n",
      "b'                    <div class=\"slide-code\"><pre><code><span class=\"comment\"># For loop on a list</span>\\r\\n'\n",
      "b'>>> numbers = [2, 4, 6, 8]\\r\\n'\n",
      "b'>>> product = 1\\r\\n'\n",
      "b'>>> for number in numbers:\\r\\n'\n",
      "b'...    product = product * number\\r\\n'\n",
      "b'... \\r\\n'\n",
      "b\">>> print('The product is:', product)\\r\\n\"\n",
      "b'<span class=\"output\">The product is: 384</span></code></pre></div>\\n'\n",
      "b'                    <div class=\"slide-copy\"><h1>All the Flow You&rsquo;d Expect</h1>\\r\\n'\n",
      "b'<p>Python knows the usual control flow statements that other languages speak &mdash; <code>if</code>, <code>for</code>, <code>while</code> and <code>range</code> &mdash; with some of its own twists, of course. <a href=\"//docs.python.org/3/tutorial/controlflow.html\">More control flow tools in Python&nbsp;3</a></p></div>\\n'\n",
      "b'                </li>\\n'\n",
      "b'                \\n'\n",
      "b'            </ul>\\n'\n",
      "b'        </div>\\n'\n",
      "b'\\n'\n",
      "b'\\n'\n",
      "b'                </div>\\n'\n",
      "b'\\n'\n",
      "b'                \\n'\n",
      "b'        <div class=\"introduction\">\\n'\n",
      "b'            <p>Python is a programming language that lets you work quickly <span class=\"breaker\"></span>and integrate systems more effectively. <a class=\"readmore\" href=\"/doc/\">Learn More</a></p>\\n'\n",
      "b'        </div>\\n'\n",
      "b'\\n'\n",
      "b'\\n'\n",
      "b'             </div><!-- end .container -->\\n'\n",
      "b'        </header>\\n'\n",
      "b'\\n'\n",
      "b'        <div id=\"content\" class=\"content-wrapper\">\\n'\n",
      "b'            <!-- Main Content Column -->\\n'\n",
      "b'            <div class=\"container\">\\n'\n",
      "b'\\n'\n",
      "b'                <section class=\"main-content \" role=\"main\">\\n'\n",
      "b'\\n'\n",
      "b'                    \\n'\n",
      "b'                    \\n'\n",
      "b'\\n'\n",
      "b'                    \\n'\n",
      "b'\\n'\n",
      "b'                    \\n'\n",
      "b'\\n'\n",
      "b'                <div class=\"row\">\\n'\n",
      "b'\\n'\n",
      "b'                    <div class=\"small-widget get-started-widget\">\\n'\n",
      "b'                        <h2 class=\"widget-title\"><span aria-hidden=\"true\" class=\"icon-get-started\"></span>Get Started</h2>\\r\\n'\n",
      "b\"<p>Whether you're new to programming or an experienced developer, it's easy to learn and use Python.</p>\\r\\n\"\n",
      "b'<p><a href=\"/about/gettingstarted/\">Start with our Beginner&rsquo;s Guide</a></p>\\n'\n",
      "b'                    </div>\\n'\n",
      "b'\\n'\n",
      "b'                    <div class=\"small-widget download-widget\">\\n'\n",
      "b'                        <h2 class=\"widget-title\"><span aria-hidden=\"true\" class=\"icon-download\"></span>Download</h2>\\n'\n",
      "b'<p>Python source code and installers are available for download for all versions! Not sure which version to use? <a href=\"https://wiki.python.org/moin/Python2orPython3\">Check here</a>.</p>\\n'\n",
      "b'<p>Latest: <a href=\"/downloads/release/python-360/\">Python 3.6.0</a> - <a href=\"/downloads/release/python-2713/\">Python 2.7.13</a></p>\\n'\n",
      "b'                    </div>\\n'\n",
      "b'\\n'\n",
      "b'                    <div class=\"small-widget documentation-widget\">\\n'\n",
      "b'                        <h2 class=\"widget-title\"><span aria-hidden=\"true\" class=\"icon-documentation\"></span>Docs</h2>\\r\\n'\n",
      "b\"<p>Documentation for Python's standard library, along with tutorials and guides, are available online.</p>\\r\\n\"\n",
      "b'<p><a href=\"https://docs.python.org\">docs.python.org</a></p>\\n'\n",
      "b'                    </div>\\n'\n",
      "b'\\n'\n",
      "b'                    <div class=\"small-widget jobs-widget last\">\\n'\n",
      "b'                        <h2 class=\"widget-title\"><span aria-hidden=\"true\" class=\"icon-jobs\"></span>Jobs</h2>\\r\\n'\n",
      "b\"<p>Looking for work or have a Python related position that you're trying to hire for? Our <strong>relaunched community-run job board</strong> is the place to go.</p>\\r\\n\"\n",
      "b'<p><a href=\"//jobs.python.org\">jobs.python.org</a></p>\\n'\n",
      "b'                    </div>\\n'\n",
      "b'\\n'\n",
      "b'                </div>\\n'\n",
      "b'\\n'\n",
      "b'                <div class=\"list-widgets row\">\\n'\n",
      "b'\\n'\n",
      "b'                    <div class=\"medium-widget blog-widget\">\\n'\n",
      "b'                        \\n'\n",
      "b'                        <div class=\"shrubbery\">\\n'\n",
      "b'                        \\n'\n",
      "b'                            <h2 class=\"widget-title\"><span aria-hidden=\"true\" class=\"icon-news\"></span>Latest News</h2>\\n'\n",
      "b'                            <p class=\"give-me-more\"><a href=\"http://blog.python.org\" title=\"More News\">More</a></p>\\n'\n",
      "b'                            \\n'\n",
      "b'                            <ul class=\"menu\">\\n'\n",
      "b'                                \\n'\n",
      "b'                                \\n'\n",
      "b'                                <li>\\n'\n",
      "b'<time datetime=\"2017-03-05T12:11:00.000006+00:00\"><span class=\"say-no-more\">2017-</span>03-05</time>\\n'\n",
      "b' <a href=\"http://feedproxy.google.com/~r/PythonInsider/~3/w2AW2NRSOEM/python-361rc1-is-now-available-for.html\">Python 3.6.1rc1 is now available. &nbsp; Python 3.6.1rc1 is the ...</a></li>\\n'\n",
      "b'                                \\n'\n",
      "b'                                <li>\\n'\n",
      "b'<time datetime=\"2017-01-17T08:40:00.000001+00:00\"><span class=\"say-no-more\">2017-</span>01-17</time>\\n'\n",
      "b' <a href=\"http://feedproxy.google.com/~r/PythonInsider/~3/NeIHRAidlpc/python-353-and-346-are-now-available.html\">Python 3.5.3 and Python 3.4.6 are now available for download. ...</a></li>\\n'\n",
      "b'                                \\n'\n",
      "b'                                <li>\\n'\n",
      "b'<time datetime=\"2017-01-03T02:24:00.000001+00:00\"><span class=\"say-no-more\">2017-</span>01-03</time>\\n'\n",
      "b' <a href=\"http://feedproxy.google.com/~r/PythonInsider/~3/UoiMThSwgQM/python-353rc1-and-python-346rc1-are-now.html\">Python 3.5.3rc1 and Python 3.4.6rc1 are now available for download. ...</a></li>\\n'\n",
      "b'                                \\n'\n",
      "b'                                <li>\\n'\n",
      "b'<time datetime=\"2016-12-23T10:11:00.000004+00:00\"><span class=\"say-no-more\">2016-</span>12-23</time>\\n'\n",
      "b' <a href=\"http://feedproxy.google.com/~r/PythonInsider/~3/4gOtq8ChYHk/python-360-is-now-available.html\">Python 3.6.0 is now available! &nbsp; Python 3.6.0 is the ...</a></li>\\n'\n",
      "b'                                \\n'\n",
      "b'                                <li>\\n'\n",
      "b'<time datetime=\"2016-12-17T21:36:00.000005+00:00\"><span class=\"say-no-more\">2016-</span>12-17</time>\\n'\n",
      "b' <a href=\"http://feedproxy.google.com/~r/PythonInsider/~3/LLpTSlyUots/python-2713-released.html\">The latest bugfix release of the Python 2.7.13 series is ...</a></li>\\n'\n",
      "b'                                \\n'\n",
      "b'                            </ul>\\n'\n",
      "b'                        </div><!-- end .shrubbery -->\\n'\n",
      "b'\\n'\n",
      "b'                    </div>\\n'\n",
      "b'\\n'\n",
      "b'                    <div class=\"medium-widget event-widget last\">\\n'\n",
      "b'                        \\n'\n",
      "b'                        <div class=\"shrubbery\">\\n'\n",
      "b'                        \\n'\n",
      "b'                            <h2 class=\"widget-title\"><span aria-hidden=\"true\" class=\"icon-calendar\"></span>Upcoming Events</h2>\\n'\n",
      "b'                            <p class=\"give-me-more\"><a href=\"/events/calendars/\" title=\"More Events\">More</a></p>\\n'\n",
      "b'                            \\n'\n",
      "b'                            <ul class=\"menu\">\\n'\n",
      "b'                                \\n'\n",
      "b'                                \\n'\n",
      "b'                                \\n'\n",
      "b'                                <li>\\n'\n",
      "b'<time datetime=\"2017-03-18T00:00:00+00:00\"><span class=\"say-no-more\">2017-</span>03-18</time>\\n'\n",
      "b' <a href=\"/events/python-user-group/507/\">PyDelhiConf 2017</a></li>\\n'\n",
      "b'                                \\n'\n",
      "b'                                \\n'\n",
      "b'                                \\n'\n",
      "b'                                <li>\\n'\n",
      "b'<time datetime=\"2017-03-24T18:00:00+00:00\"><span class=\"say-no-more\">2017-</span>03-24</time>\\n'\n",
      "b' <a href=\"/events/python-user-group/508/\">Python Porto Meetup</a></li>\\n'\n",
      "b'                                \\n'\n",
      "b'                                \\n'\n",
      "b'                                \\n'\n",
      "b'                                <li>\\n'\n",
      "b'<time datetime=\"2017-04-01T00:00:00+00:00\"><span class=\"say-no-more\">2017-</span>04-01</time>\\n'\n",
      "b' <a href=\"/events/python-events/498/\">Rencontres Django 2017</a></li>\\n'\n",
      "b'                                \\n'\n",
      "b'                                \\n'\n",
      "b'                                \\n'\n",
      "b'                                <li>\\n'\n",
      "b'<time datetime=\"2017-04-03T00:00:00+00:00\"><span class=\"say-no-more\">2017-</span>04-03</time>\\n'\n",
      "b' <a href=\"/events/python-events/467/\">DjangoCon Europe 2017</a></li>\\n'\n",
      "b'                                \\n'\n",
      "b'                                \\n'\n",
      "b'                                \\n'\n",
      "b'                                <li>\\n'\n",
      "b'<time datetime=\"2017-04-08T00:00:00+00:00\"><span class=\"say-no-more\">2017-</span>04-08</time>\\n'\n",
      "b' <a href=\"/events/python-events/493/\">PythonCamp 2017</a></li>\\n'\n",
      "b'                                \\n'\n",
      "b'                                \\n'\n",
      "b'                            </ul>\\n'\n",
      "b'                        </div>\\n'\n",
      "b'\\n'\n",
      "b'                    </div>\\n'\n",
      "b'\\n'\n",
      "b'                </div>\\n'\n",
      "b'\\n'\n",
      "b'                <div class=\"row\">\\n'\n",
      "b'\\n'\n",
      "b'                    <div class=\"medium-widget success-stories-widget\">\\n'\n",
      "b'                        \\n'\n",
      "b'\\n'\n",
      "b'                        <div class=\"shrubbery\">\\n'\n",
      "b'                            \\n'\n",
      "b'\\n'\n",
      "b'                            <h2 class=\"widget-title\"><span aria-hidden=\"true\" class=\"icon-success-stories\"></span>Success Stories</h2>\\n'\n",
      "b'                            <p class=\"give-me-more\"><a href=\"/success-stories/\" title=\"More Success Stories\">More</a></p>\\n'\n",
      "b'\\n'\n",
      "b'                            \\n'\n",
      "b'                            <div class=\"success-story-item\" data-weight=\"25\" id=\"success-story-2\" style=\"display: none;\">\\n'\n",
      "b'\\n'\n",
      "b'                            <blockquote>\\n'\n",
      "b'                                <a href=\"/success-stories/industrial-light-magic-runs-python/\">ILM runs a batch processing environment capable of modeling, rendering and compositing tens of thousands of motion picture frames per day. Thousands of machines running Linux, IRIX, Compaq Tru64, OS X, Solaris, and Windows join together to provide a production pipeline used by ~800 users daily. Speed of development is key, and Python was a faster way to code (and re-code) the programs that control this production pipeline.</a>\\n'\n",
      "b'                            </blockquote>\\n'\n",
      "b'\\n'\n",
      "b'                            <table cellpadding=\"0\" cellspacing=\"0\" border=\"0\" width=\"100%\" class=\"quote-from\">\\n'\n",
      "b'                                <tbody>\\n'\n",
      "b'                                    <tr>\\n'\n",
      "b'                                        \\n'\n",
      "b'                                        <td><p><a href=\"/success-stories/industrial-light-magic-runs-python/\">Industrial Light &amp; Magic Runs on Python</a> <em>by Tim Fortenberry</em></p></td>\\n'\n",
      "b'                                    </tr>\\n'\n",
      "b'                                </tbody>\\n'\n",
      "b'                            </table>\\n'\n",
      "b'                            </div>\\n'\n",
      "b'                            \\n'\n",
      "b'\\n'\n",
      "b'                        </div><!-- end .shrubbery -->\\n'\n",
      "b'\\n'\n",
      "b'                    </div>\\n'\n",
      "b'\\n'\n",
      "b'                    <div class=\"medium-widget applications-widget last\">\\n'\n",
      "b'                        <div class=\"shrubbery\">\\n'\n",
      "b'                            <h2 class=\"widget-title\"><span aria-hidden=\"true\" class=\"icon-python\"></span>Use Python for&hellip;</h2>\\r\\n'\n",
      "b'<p class=\"give-me-more\"><a href=\"/about/apps\" title=\"More Applications\">More</a></p>\\r\\n'\n",
      "b'\\r\\n'\n",
      "b'<ul class=\"menu\">\\r\\n'\n",
      "b'    <li><b>Web Development</b>:\\r\\n'\n",
      "b'        <span class=\"tag-wrapper\"><a class=\"tag\" href=\"http://www.djangoproject.com/\">Django</a>, <a class=\"tag\" href=\"http://www.pylonsproject.org/\">Pyramid</a>, <a class=\"tag\" href=\"http://bottlepy.org\">Bottle</a>, <a class=\"tag\" href=\"http://tornadoweb.org\">Tornado</a>, <a href=\"http://flask.pocoo.org/\" class=\"tag\">Flask</a>, <a class=\"tag\" href=\"http://www.web2py.com/\">web2py</a></span></li>\\r\\n'\n",
      "b'    <li><b>GUI Development</b>:\\r\\n'\n",
      "b'        <span class=\"tag-wrapper\"><a class=\"tag\" href=\"http://wiki.python.org/moin/TkInter\">tkInter</a>, <a class=\"tag\" href=\"https://wiki.gnome.org/Projects/PyGObject\">PyGObject</a>, <a class=\"tag\" href=\"http://www.riverbankcomputing.co.uk/software/pyqt/intro\">PyQt</a>, <a class=\"tag\" href=\"https://wiki.qt.io/PySide\">PySide</a>, <a class=\"tag\" href=\"https://kivy.org/\">Kivy</a>, <a class=\"tag\" href=\"http://www.wxpython.org/\">wxPython</a></span></li>\\r\\n'\n",
      "b'    <li><b>Scientific and Numeric</b>:\\r\\n'\n",
      "b'        <span class=\"tag-wrapper\">\\r\\n'\n",
      "b'<a class=\"tag\" href=\"http://www.scipy.org\">SciPy</a>, <a class=\"tag\" href=\"http://pandas.pydata.org/\">Pandas</a>, <a href=\"http://ipython.org\" class=\"tag\">IPython</a></span></li>\\r\\n'\n",
      "b'    <li><b>Software Development</b>:\\r\\n'\n",
      "b'        <span class=\"tag-wrapper\"><a class=\"tag\" href=\"http://buildbot.net/\">Buildbot</a>, <a class=\"tag\" href=\"http://trac.edgewall.org/\">Trac</a>, <a class=\"tag\" href=\"http://roundup.sourceforge.net/\">Roundup</a></span></li>\\r\\n'\n",
      "b'    <li><b>System Administration</b>:\\r\\n'\n",
      "b'        <span class=\"tag-wrapper\"><a class=\"tag\" href=\"http://www.ansible.com\">Ansible</a>, <a class=\"tag\" href=\"http://www.saltstack.com\">Salt</a>, <a class=\"tag\" href=\"https://www.openstack.org\">OpenStack</a></span></li>\\r\\n'\n",
      "b'</ul>\\r\\n'\n",
      "b'\\n'\n",
      "b'                        </div><!-- end .shrubbery -->\\n'\n",
      "b'                    </div>\\n'\n",
      "b'\\n'\n",
      "b'                </div>\\n'\n",
      "b'\\n'\n",
      "b'                \\n'\n",
      "b'                <div class=\"pep-widget\">\\n'\n",
      "b'\\n'\n",
      "b'                    <h2 class=\"widget-title\">\\n'\n",
      "b'                        <span class=\"prompt\">&gt;&gt;&gt;</span> <a href=\"/dev/peps/\">Python Enhancement Proposals<span class=\"say-no-more\"> (PEPs)</span></a>: The future of Python<span class=\"say-no-more\"> is discussed here.</span>\\n'\n",
      "b'                        <a aria-hidden=\"true\" class=\"rss-link\" href=\"/dev/peps/peps.rss\"><span class=\"icon-feed\"></span> RSS</a>\\n'\n",
      "b'                    </h2>\\n'\n",
      "b'\\n'\n",
      "b'\\n'\n",
      "b'                    \\n'\n",
      "b'                    \\n'\n",
      "b'                </div>\\n'\n",
      "b'\\n'\n",
      "b'                                <div class=\"psf-widget\">\\n'\n",
      "b'\\n'\n",
      "b'                    <div class=\"python-logo\"></div>\\n'\n",
      "b'                    \\n'\n",
      "b'                    <h2 class=\"widget-title\">\\r\\n'\n",
      "b'    <span class=\"prompt\">&gt;&gt;&gt;</span> <a href=\"/psf/\">Python Software Foundation</a>\\r\\n'\n",
      "b'</h2>\\r\\n'\n",
      "b'<p>The mission of the Python Software Foundation is to promote, protect, and advance the Python programming language, and to support and facilitate the growth of a diverse and international community of Python programmers. <a class=\"readmore\" href=\"/psf/\">Learn more</a> </p>\\r\\n'\n",
      "b'<p class=\"click-these\">\\r\\n'\n",
      "b'    <a class=\"button\" href=\"/users/membership/\">Become a Member</a>\\r\\n'\n",
      "b'    <a class=\"button\" href=\"/psf/donations/\">Donate to the PSF</a>\\r\\n'\n",
      "b'</p>\\n'\n",
      "b'                </div>\\n'\n",
      "b'\\n'\n",
      "b'\\n'\n",
      "b'\\n'\n",
      "b'\\n'\n",
      "b'                </section>\\n'\n",
      "b'\\n'\n",
      "b'                \\n'\n",
      "b'                \\n'\n",
      "b'\\n'\n",
      "b'                \\n'\n",
      "b'                \\n'\n",
      "b'\\n'\n",
      "b'\\n'\n",
      "b'            </div><!-- end .container -->\\n'\n",
      "b'        </div><!-- end #content .content-wrapper -->\\n'\n",
      "b'\\n'\n",
      "b'        <!-- Footer and social media list -->\\n'\n",
      "b'        <footer id=\"site-map\" class=\"main-footer\" role=\"contentinfo\">\\n'\n",
      "b'            <div class=\"main-footer-links\">\\n'\n",
      "b'                <div class=\"container\">\\n'\n",
      "b'\\n'\n",
      "b'                    \\n'\n",
      "b'                    <a id=\"back-to-top-1\" class=\"jump-link\" href=\"#python-network\"><span aria-hidden=\"true\" class=\"icon-arrow-up\"><span>&#9650;</span></span> Back to Top</a>\\n'\n",
      "b'\\n'\n",
      "b'                    \\n'\n",
      "b'\\n'\n",
      "b'<ul class=\"sitemap navigation menu do-not-print\" role=\"tree\" id=\"container\">\\n'\n",
      "b'    \\n'\n",
      "b'    <li class=\"tier-1 element-1\">\\n'\n",
      "b'        <a href=\"/about/\" >About</a>\\n'\n",
      "b'        \\n'\n",
      "b'            \\n'\n",
      "b'\\n'\n",
      "b'<ul class=\"subnav menu\">\\n'\n",
      "b'    \\n'\n",
      "b'        <li class=\"tier-2 element-1\" role=\"treeitem\"><a href=\"/about/apps/\" title=\"\">Applications</a></li>\\n'\n",
      "b'    \\n'\n",
      "b'        <li class=\"tier-2 element-2\" role=\"treeitem\"><a href=\"/about/quotes/\" title=\"\">Quotes</a></li>\\n'\n",
      "b'    \\n'\n",
      "b'        <li class=\"tier-2 element-3\" role=\"treeitem\"><a href=\"/about/gettingstarted/\" title=\"\">Getting Started</a></li>\\n'\n",
      "b'    \\n'\n",
      "b'        <li class=\"tier-2 element-4\" role=\"treeitem\"><a href=\"/about/help/\" title=\"\">Help</a></li>\\n'\n",
      "b'    \\n'\n",
      "b'        <li class=\"tier-2 element-5\" role=\"treeitem\"><a href=\"http://brochure.getpython.info/\" title=\"\">Python Brochure</a></li>\\n'\n",
      "b'    \\n'\n",
      "b'</ul>\\n'\n",
      "b'\\n'\n",
      "b'        \\n'\n",
      "b'    </li>\\n'\n",
      "b'    \\n'\n",
      "b'    <li class=\"tier-1 element-2\">\\n'\n",
      "b'        <a href=\"/downloads/\" >Downloads</a>\\n'\n",
      "b'        \\n'\n",
      "b'            \\n'\n",
      "b'\\n'\n",
      "b'<ul class=\"subnav menu\">\\n'\n",
      "b'    \\n'\n",
      "b'        <li class=\"tier-2 element-1\" role=\"treeitem\"><a href=\"/downloads/\" title=\"\">All releases</a></li>\\n'\n",
      "b'    \\n'\n",
      "b'        <li class=\"tier-2 element-2\" role=\"treeitem\"><a href=\"/downloads/source/\" title=\"\">Source code</a></li>\\n'\n",
      "b'    \\n'\n",
      "b'        <li class=\"tier-2 element-3\" role=\"treeitem\"><a href=\"/downloads/windows/\" title=\"\">Windows</a></li>\\n'\n",
      "b'    \\n'\n",
      "b'        <li class=\"tier-2 element-4\" role=\"treeitem\"><a href=\"/downloads/mac-osx/\" title=\"\">Mac OS X</a></li>\\n'\n",
      "b'    \\n'\n",
      "b'        <li class=\"tier-2 element-5\" role=\"treeitem\"><a href=\"/download/other/\" title=\"\">Other Platforms</a></li>\\n'\n",
      "b'    \\n'\n",
      "b'        <li class=\"tier-2 element-6\" role=\"treeitem\"><a href=\"https://docs.python.org/3/license.html\" title=\"\">License</a></li>\\n'\n",
      "b'    \\n'\n",
      "b'        <li class=\"tier-2 element-7\" role=\"treeitem\"><a href=\"/download/alternatives\" title=\"\">Alternative Implementations</a></li>\\n'\n",
      "b'    \\n'\n",
      "b'</ul>\\n'\n",
      "b'\\n'\n",
      "b'        \\n'\n",
      "b'    </li>\\n'\n",
      "b'    \\n'\n",
      "b'    <li class=\"tier-1 element-3\">\\n'\n",
      "b'        <a href=\"/doc/\" >Documentation</a>\\n'\n",
      "b'        \\n'\n",
      "b'            \\n'\n",
      "b'\\n'\n",
      "b'<ul class=\"subnav menu\">\\n'\n",
      "b'    \\n'\n",
      "b'        <li class=\"tier-2 element-1\" role=\"treeitem\"><a href=\"/doc/\" title=\"\">Docs</a></li>\\n'\n",
      "b'    \\n'\n",
      "b'        <li class=\"tier-2 element-2\" role=\"treeitem\"><a href=\"/doc/av\" title=\"\">Audio/Visual Talks</a></li>\\n'\n",
      "b'    \\n'\n",
      "b'        <li class=\"tier-2 element-3\" role=\"treeitem\"><a href=\"https://wiki.python.org/moin/BeginnersGuide\" title=\"\">Beginner&#39;s Guide</a></li>\\n'\n",
      "b'    \\n'\n",
      "b'        <li class=\"tier-2 element-4\" role=\"treeitem\"><a href=\"https://docs.python.org/devguide/\" title=\"\">Developer&#39;s Guide</a></li>\\n'\n",
      "b'    \\n'\n",
      "b'        <li class=\"tier-2 element-5\" role=\"treeitem\"><a href=\"https://docs.python.org/faq/\" title=\"\">FAQ</a></li>\\n'\n",
      "b'    \\n'\n",
      "b'        <li class=\"tier-2 element-6\" role=\"treeitem\"><a href=\"http://wiki.python.org/moin/Languages\" title=\"\">Non-English Docs</a></li>\\n'\n",
      "b'    \\n'\n",
      "b'        <li class=\"tier-2 element-7\" role=\"treeitem\"><a href=\"http://python.org/dev/peps/\" title=\"\">PEP Index</a></li>\\n'\n",
      "b'    \\n'\n",
      "b'        <li class=\"tier-2 element-8\" role=\"treeitem\"><a href=\"https://wiki.python.org/moin/PythonBooks\" title=\"\">Python Books</a></li>\\n'\n",
      "b'    \\n'\n",
      "b'</ul>\\n'\n",
      "b'\\n'\n",
      "b'        \\n'\n",
      "b'    </li>\\n'\n",
      "b'    \\n'\n",
      "b'    <li class=\"tier-1 element-4\">\\n'\n",
      "b'        <a href=\"/community/\" >Community</a>\\n'\n",
      "b'        \\n'\n",
      "b'            \\n'\n",
      "b'\\n'\n",
      "b'<ul class=\"subnav menu\">\\n'\n",
      "b'    \\n'\n",
      "b'        <li class=\"tier-2 element-1\" role=\"treeitem\"><a href=\"/community/diversity/\" title=\"\">Diversity</a></li>\\n'\n",
      "b'    \\n'\n",
      "b'        <li class=\"tier-2 element-2\" role=\"treeitem\"><a href=\"/community/irc/\" title=\"\">IRC</a></li>\\n'\n",
      "b'    \\n'\n",
      "b'        <li class=\"tier-2 element-3\" role=\"treeitem\"><a href=\"/community/lists/\" title=\"\">Mailing Lists</a></li>\\n'\n",
      "b'    \\n'\n",
      "b'        <li class=\"tier-2 element-4\" role=\"treeitem\"><a href=\"/community/workshops/\" title=\"\">Python Conferences</a></li>\\n'\n",
      "b'    \\n'\n",
      "b'        <li class=\"tier-2 element-5\" role=\"treeitem\"><a href=\"/community/sigs/\" title=\"\">Special Interest Groups</a></li>\\n'\n",
      "b'    \\n'\n",
      "b'        <li class=\"tier-2 element-6\" role=\"treeitem\"><a href=\"https://wiki.python.org/moin/\" title=\"\">Python Wiki</a></li>\\n'\n",
      "b'    \\n'\n",
      "b'        <li class=\"tier-2 element-7\" role=\"treeitem\"><a href=\"/community/logos/\" title=\"\">Python Logo</a></li>\\n'\n",
      "b'    \\n'\n",
      "b'        <li class=\"tier-2 element-8\" role=\"treeitem\"><a href=\"/community/merchandise/\" title=\"\">Merchandise</a></li>\\n'\n",
      "b'    \\n'\n",
      "b'        <li class=\"tier-2 element-9\" role=\"treeitem\"><a href=\"/community/awards\" title=\"\">Community Awards</a></li>\\n'\n",
      "b'    \\n'\n",
      "b'</ul>\\n'\n",
      "b'\\n'\n",
      "b'        \\n'\n",
      "b'    </li>\\n'\n",
      "b'    \\n'\n",
      "b'    <li class=\"tier-1 element-5\">\\n'\n",
      "b'        <a href=\"/about/success/\" title=\"success-stories\">Success Stories</a>\\n'\n",
      "b'        \\n'\n",
      "b'            \\n'\n",
      "b'\\n'\n",
      "b'<ul class=\"subnav menu\">\\n'\n",
      "b'    \\n'\n",
      "b'        <li class=\"tier-2 element-1\" role=\"treeitem\"><a href=\"/about/success/#arts\" title=\"\">Arts</a></li>\\n'\n",
      "b'    \\n'\n",
      "b'        <li class=\"tier-2 element-2\" role=\"treeitem\"><a href=\"/about/success/#business\" title=\"\">Business</a></li>\\n'\n",
      "b'    \\n'\n",
      "b'        <li class=\"tier-2 element-3\" role=\"treeitem\"><a href=\"/about/success/#education\" title=\"\">Education</a></li>\\n'\n",
      "b'    \\n'\n",
      "b'        <li class=\"tier-2 element-4\" role=\"treeitem\"><a href=\"/about/success/#engineering\" title=\"\">Engineering</a></li>\\n'\n",
      "b'    \\n'\n",
      "b'        <li class=\"tier-2 element-5\" role=\"treeitem\"><a href=\"/about/success/#government\" title=\"\">Government</a></li>\\n'\n",
      "b'    \\n'\n",
      "b'        <li class=\"tier-2 element-6\" role=\"treeitem\"><a href=\"/about/success/#scientific\" title=\"\">Scientific</a></li>\\n'\n",
      "b'    \\n'\n",
      "b'        <li class=\"tier-2 element-7\" role=\"treeitem\"><a href=\"/about/success/#software-development\" title=\"\">Software Development</a></li>\\n'\n",
      "b'    \\n'\n",
      "b'</ul>\\n'\n",
      "b'\\n'\n",
      "b'        \\n'\n",
      "b'    </li>\\n'\n",
      "b'    \\n'\n",
      "b'    <li class=\"tier-1 element-6\">\\n'\n",
      "b'        <a href=\"/blogs/\" title=\"News from around the Python world\">News</a>\\n'\n",
      "b'        \\n'\n",
      "b'            \\n'\n",
      "b'\\n'\n",
      "b'<ul class=\"subnav menu\">\\n'\n",
      "b'    \\n'\n",
      "b'        <li class=\"tier-2 element-1\" role=\"treeitem\"><a href=\"/blogs/\" title=\"Python Insider Blog Posts\">Python News</a></li>\\n'\n",
      "b'    \\n'\n",
      "b'        <li class=\"tier-2 element-2\" role=\"treeitem\"><a href=\"http://planetpython.org/\" title=\"Planet Python\">Community News</a></li>\\n'\n",
      "b'    \\n'\n",
      "b'        <li class=\"tier-2 element-3\" role=\"treeitem\"><a href=\"http://pyfound.blogspot.com/\" title=\"PSF Blog\">PSF News</a></li>\\n'\n",
      "b'    \\n'\n",
      "b'        <li class=\"tier-2 element-4\" role=\"treeitem\"><a href=\"http://pycon.blogspot.com/\" title=\"PyCon Blog\">PyCon News</a></li>\\n'\n",
      "b'    \\n'\n",
      "b'</ul>\\n'\n",
      "b'\\n'\n",
      "b'        \\n'\n",
      "b'    </li>\\n'\n",
      "b'    \\n'\n",
      "b'    <li class=\"tier-1 element-7\">\\n'\n",
      "b'        <a href=\"/events/\" >Events</a>\\n'\n",
      "b'        \\n'\n",
      "b'            \\n'\n",
      "b'\\n'\n",
      "b'<ul class=\"subnav menu\">\\n'\n",
      "b'    \\n'\n",
      "b'        <li class=\"tier-2 element-1\" role=\"treeitem\"><a href=\"/events/python-events\" title=\"\">Python Events</a></li>\\n'\n",
      "b'    \\n'\n",
      "b'        <li class=\"tier-2 element-2\" role=\"treeitem\"><a href=\"/events/python-user-group/\" title=\"\">User Group Events</a></li>\\n'\n",
      "b'    \\n'\n",
      "b'        <li class=\"tier-2 element-3\" role=\"treeitem\"><a href=\"/events/python-events/past/\" title=\"\">Python Events Archive</a></li>\\n'\n",
      "b'    \\n'\n",
      "b'        <li class=\"tier-2 element-4\" role=\"treeitem\"><a href=\"/events/python-user-group/past/\" title=\"\">User Group Events Archive</a></li>\\n'\n",
      "b'    \\n'\n",
      "b'        <li class=\"tier-2 element-5\" role=\"treeitem\"><a href=\"https://wiki.python.org/moin/PythonEventsCalendar#Submitting_an_Event\" title=\"\">Submit an Event</a></li>\\n'\n",
      "b'    \\n'\n",
      "b'</ul>\\n'\n",
      "b'\\n'\n",
      "b'        \\n'\n",
      "b'    </li>\\n'\n",
      "b'    \\n'\n",
      "b'    <li class=\"tier-1 element-8\">\\n'\n",
      "b'        <a href=\"/dev/\" >Contributing</a>\\n'\n",
      "b'        \\n'\n",
      "b'            \\n'\n",
      "b'\\n'\n",
      "b'<ul class=\"subnav menu\">\\n'\n",
      "b'    \\n'\n",
      "b'        <li class=\"tier-2 element-1\" role=\"treeitem\"><a href=\"http://docs.python.org/devguide/\" title=\"\">Developer&#39;s Guide</a></li>\\n'\n",
      "b'    \\n'\n",
      "b'        <li class=\"tier-2 element-2\" role=\"treeitem\"><a href=\"http://bugs.python.org/\" title=\"\">Issue Tracker</a></li>\\n'\n",
      "b'    \\n'\n",
      "b'        <li class=\"tier-2 element-3\" role=\"treeitem\"><a href=\"https://mail.python.org/mailman/listinfo/python-dev\" title=\"\">python-dev list</a></li>\\n'\n",
      "b'    \\n'\n",
      "b'        <li class=\"tier-2 element-4\" role=\"treeitem\"><a href=\"/dev/core-mentorship/\" title=\"\">Core Mentorship</a></li>\\n'\n",
      "b'    \\n'\n",
      "b'</ul>\\n'\n",
      "b'\\n'\n",
      "b'        \\n'\n",
      "b'    </li>\\n'\n",
      "b'    \\n'\n",
      "b'</ul>\\n'\n",
      "b'\\n'\n",
      "b'\\n'\n",
      "b'                    <a id=\"back-to-top-2\" class=\"jump-link\" href=\"#python-network\"><span aria-hidden=\"true\" class=\"icon-arrow-up\"><span>&#9650;</span></span> Back to Top</a>\\n'\n",
      "b'                    \\n'\n",
      "b'\\n'\n",
      "b'                </div><!-- end .container -->\\n'\n",
      "b'            </div> <!-- end .main-footer-links -->\\n'\n",
      "b'\\n'\n",
      "b'            <div class=\"site-base\">\\n'\n",
      "b'                <div class=\"container\">\\n'\n",
      "b'                    \\n'\n",
      "b'                    <ul class=\"footer-links navigation menu do-not-print\" role=\"tree\">\\n'\n",
      "b'                        <li class=\"tier-1 element-1\"><a href=\"/about/help/\">Help &amp; <span class=\"say-no-more\">General</span> Contact</a></li>\\n'\n",
      "b'                        <li class=\"tier-1 element-2\"><a href=\"/community/diversity/\">Diversity <span class=\"say-no-more\">Initiatives</span></a></li>\\n'\n",
      "b'                        <li class=\"tier-1 element-3\"><a href=\"https://github.com/python/pythondotorg/issues\">Submit Website Bug</a></li>\\n'\n",
      "b'                        <li class=\"tier-1 element-4\">\\n'\n",
      "b'                            <a href=\"https://status.python.org/\">Status <span class=\"python-status-indicator-default\" id=\"python-status-indicator\"></span></a>\\n'\n",
      "b'                        </li>\\n'\n",
      "b'                    </ul>\\n'\n",
      "b'\\n'\n",
      "b'                    <div class=\"copyright\">\\n'\n",
      "b'                        <p><small>\\n'\n",
      "b'                            <span class=\"pre\">Copyright &copy;2001-2017.</span>\\n'\n",
      "b'                            &nbsp;<span class=\"pre\"><a href=\"/psf-landing/\">Python Software Foundation</a></span>\\n'\n",
      "b'                            &nbsp;<span class=\"pre\"><a href=\"/about/legal/\">Legal Statements</a></span>\\n'\n",
      "b'                            &nbsp;<span class=\"pre\"><a href=\"/privacy/\">Privacy Policy</a></span>\\n'\n",
      "b'                        </small></p>\\n'\n",
      "b'                    </div>\\n'\n",
      "b'\\n'\n",
      "b'                </div><!-- end .container -->\\n'\n",
      "b'            </div><!-- end .site-base -->\\n'\n",
      "b'\\n'\n",
      "b'        </footer>\\n'\n",
      "b'\\n'\n",
      "b'    </div><!-- end #touchnav-wrapper -->\\n'\n",
      "b'\\n'\n",
      "b'    \\n'\n",
      "b'    <script src=\"//ajax.googleapis.com/ajax/libs/jquery/1.8.2/jquery.min.js\"></script>\\n'\n",
      "b'    <script>window.jQuery || document.write(\\'<script src=\"/static/js/libs/jquery-1.8.2.min.js\"><\\\\/script>\\')</script>\\n'\n",
      "b'\\n'\n",
      "b'    <script src=\"/static/js/libs/masonry.pkgd.min.js\"></script>\\n'\n",
      "b'\\n'\n",
      "b'    <script type=\"text/javascript\" src=\"/static/js/main-min.js\" charset=\"utf-8\"></script>\\n'\n",
      "b'    \\n'\n",
      "b'\\n'\n",
      "b'    <!--[if lte IE 7]>\\n'\n",
      "b'    <script type=\"text/javascript\" src=\"/static/js/plugins/IE8-min.js\" charset=\"utf-8\"></script>\\n'\n",
      "b'    \\n'\n",
      "b'    \\n'\n",
      "b'    <![endif]-->\\n'\n",
      "b'\\n'\n",
      "b'    <!--[if lte IE 8]>\\n'\n",
      "b'    <script type=\"text/javascript\" src=\"/static/js/plugins/getComputedStyle-min.js\" charset=\"utf-8\"></script>\\n'\n",
      "b'    \\n'\n",
      "b'    \\n'\n",
      "b'    <![endif]-->\\n'\n",
      "b'\\n'\n",
      "b'    \\n'\n",
      "b'\\n'\n",
      "b'    \\n'\n",
      "b'    \\n'\n",
      "b'\\n'\n",
      "b'</body>\\n'\n",
      "b'</html>\\n'\n"
     ]
    }
   ],
   "source": [
    "from contextlib import closing\n",
    "from urllib.request import urlopen\n",
    "\n",
    "with closing(urlopen('https://www.python.org')) as page:\n",
    "    for line in page:\n",
    "        print(line)"
   ]
  },
  {
   "cell_type": "markdown",
   "metadata": {},
   "source": [
    "closing也是一个经过@contextmanager装饰的generator，这个generator编写起来其实非常简单："
   ]
  },
  {
   "cell_type": "code",
   "execution_count": 18,
   "metadata": {
    "collapsed": true
   },
   "outputs": [],
   "source": [
    "@contextmanager\n",
    "def closing(thing):\n",
    "    try:\n",
    "        yield thing\n",
    "    finally:\n",
    "        thing.close()"
   ]
  },
  {
   "cell_type": "markdown",
   "metadata": {},
   "source": [
    "它的作用就是把任意对象变为上下文对象，并支持with语句。\n",
    "\n",
    "@contextlib还有一些其他decorator，便于我们编写更简洁的代码。"
   ]
  },
  {
   "cell_type": "markdown",
   "metadata": {},
   "source": [
    "# XML"
   ]
  },
  {
   "cell_type": "markdown",
   "metadata": {},
   "source": [
    "## DOM vs SAX"
   ]
  },
  {
   "cell_type": "markdown",
   "metadata": {},
   "source": [
    "操作XML有两种方法：DOM和SAX。DOM会把整个XML读入内存，解析为树，因此占用内存大，解析慢，优点是可以任意遍历树的节点。SAX是流模式，边读边解析，占用内存小，解析快，缺点是我们需要自己处理事件。  \n",
    "\n",
    "正常情况下，优先考虑SAX，因为DOM实在太占内存。  \n",
    "\n",
    "在Python中使用SAX解析XML非常简洁，通常我们关心的事件是start_element，end_element和char_data，准备好这3个函数，然后就可以解析xml了。  \n",
    "\n",
    "举个例子，当SAX解析器读到一个节点时：  \n",
    "\n",
    "`<a href=\"/\">python</a>`\n",
    "\n",
    "会产生3个事件：\n",
    "\n",
    "start_element事件，在读取`<a href=\"/\">`时；  \n",
    "\n",
    "char_data事件，在读取python时；  \n",
    "\n",
    "end_element事件，在读取`</a>`时。  "
   ]
  },
  {
   "cell_type": "code",
   "execution_count": 19,
   "metadata": {
    "collapsed": false
   },
   "outputs": [
    {
     "name": "stdout",
     "output_type": "stream",
     "text": [
      "sax:start_element: ol, attrs: {}\n",
      "sax:char_data: \n",
      "\n",
      "sax:char_data:     \n",
      "sax:start_element: li, attrs: {}\n",
      "sax:start_element: a, attrs: {'href': '/python'}\n",
      "sax:char_data: Python\n",
      "sax:end_element: a\n",
      "sax:end_element: li\n",
      "sax:char_data: \n",
      "\n",
      "sax:char_data:     \n",
      "sax:start_element: li, attrs: {}\n",
      "sax:start_element: a, attrs: {'href': '/ruby'}\n",
      "sax:char_data: Ruby\n",
      "sax:end_element: a\n",
      "sax:end_element: li\n",
      "sax:char_data: \n",
      "\n",
      "sax:end_element: ol\n"
     ]
    },
    {
     "data": {
      "text/plain": [
       "1"
      ]
     },
     "execution_count": 19,
     "metadata": {},
     "output_type": "execute_result"
    }
   ],
   "source": [
    "from xml.parsers.expat import ParserCreate\n",
    "\n",
    "class DefaultSaxHandler(object):\n",
    "    def start_element(self, name, attrs):\n",
    "        print('sax:start_element: %s, attrs: %s' % (name, str(attrs)))\n",
    "    def end_element(self,name):\n",
    "        print('sax:end_element: %s' % name)\n",
    "    def char_data(self, text):\n",
    "        print('sax:char_data: %s' % text)\n",
    "\n",
    "xml = r'''<?xml version=\"1.0\"?>\n",
    "<ol>\n",
    "    <li><a href=\"/python\">Python</a></li>\n",
    "    <li><a href=\"/ruby\">Ruby</a></li>\n",
    "</ol>\n",
    "'''\n",
    "\n",
    "handler = DefaultSaxHandler()\n",
    "parser = ParserCreate()\n",
    "parser.StartElementHandler = handler.start_element\n",
    "parser.EndElementHandler = handler.end_element\n",
    "parser.CharacterDataHandler = handler.char_data\n",
    "parser.Parse(xml)"
   ]
  },
  {
   "cell_type": "markdown",
   "metadata": {},
   "source": [
    "需要注意的是读取一大段字符串时，CharacterDataHandler可能被多次调用，所以需要自己保存起来，在EndElementHandler里面再合并。  \n",
    "\n",
    "除了解析XML外，如何生成XML呢？99%的情况下需要生成的XML结构都是非常简单的，因此，最简单也是最有效的生成XML的方法是拼接字符串："
   ]
  },
  {
   "cell_type": "code",
   "execution_count": 22,
   "metadata": {
    "collapsed": false
   },
   "outputs": [
    {
     "data": {
      "text/plain": [
       "'<?xml version=\"1.0\"?><root>some & data</root>'"
      ]
     },
     "execution_count": 22,
     "metadata": {},
     "output_type": "execute_result"
    }
   ],
   "source": [
    "L = []\n",
    "L.append(r'<?xml version=\"1.0\"?>')\n",
    "L.append(r'<root>')\n",
    "L.append(('some & data'))\n",
    "L.append(r'</root>')\n",
    "''.join(L)"
   ]
  },
  {
   "cell_type": "markdown",
   "metadata": {},
   "source": [
    "如果要生成复杂的XML呢？建议你不要用XML，改成JSON。"
   ]
  },
  {
   "cell_type": "markdown",
   "metadata": {},
   "source": [
    "解析XML时，注意找出自己感兴趣的节点，响应事件时，把节点数据保存起来。解析完毕后，就可以处理数据。"
   ]
  },
  {
   "cell_type": "code",
   "execution_count": 23,
   "metadata": {
    "collapsed": false
   },
   "outputs": [
    {
     "name": "stdout",
     "output_type": "stream",
     "text": [
      "'city':Beijing,'country':China\n",
      "27 May 2015 Wed:{'test':Partly Cloudy,'low':20,'high':33}\n",
      "28 May 2015 Thu:{'test':Sunny,'low':21,'high':34}\n"
     ]
    },
    {
     "data": {
      "text/plain": [
       "1"
      ]
     },
     "execution_count": 23,
     "metadata": {},
     "output_type": "execute_result"
    }
   ],
   "source": [
    "# -*- coding:utf-8 -*-\n",
    "\n",
    "from xml.parsers.expat import ParserCreate\n",
    "class WeatherSaxHandler(object):\n",
    "    def __init__(self):\n",
    "        self.count=0\n",
    "    def start_element(self, name, attrs):\n",
    "        if self.count<2:\n",
    "            if name=='yweather:forecast':\n",
    "                self.count+=1\n",
    "                print(\"%s %s:{'test':%s,'low':%s,'high':%s}\"%(attrs['date'],attrs['day'],attrs['text'],attrs['low'],attrs['high']))\n",
    "            elif name=='yweather:location':\n",
    "                print(\"'city':%s,'country':%s\"%(attrs['city'],attrs['country']))\n",
    "    def end_element(self, name):\n",
    "        pass\n",
    "\n",
    "    def char_data(self, text):\n",
    "        pass\n",
    "\n",
    "def getdata(url):\n",
    "    with closing(request.urlopen(url)) as page:\n",
    "        data = b\"\"\n",
    "        for line in page:\n",
    "            data += line\n",
    "    return data\n",
    "\n",
    "data = r'''<?xml version=\"1.0\" encoding=\"UTF-8\" standalone=\"yes\" ?>\n",
    "<rss version=\"2.0\" xmlns:yweather=\"http://xml.weather.yahoo.com/ns/rss/1.0\" xmlns:geo=\"http://www.w3.org/2003/01/geo/wgs84_pos#\">\n",
    "    <channel>\n",
    "        <title>Yahoo! Weather - Beijing, CN</title>\n",
    "        <lastBuildDate>Wed, 27 May 2015 11:00 am CST</lastBuildDate>\n",
    "        <yweather:location city=\"Beijing\" region=\"\" country=\"China\"/>\n",
    "        <yweather:units temperature=\"C\" distance=\"km\" pressure=\"mb\" speed=\"km/h\"/>\n",
    "        <yweather:wind chill=\"28\" direction=\"180\" speed=\"14.48\" />\n",
    "        <yweather:atmosphere humidity=\"53\" visibility=\"2.61\" pressure=\"1006.1\" rising=\"0\" />\n",
    "        <yweather:astronomy sunrise=\"4:51 am\" sunset=\"7:32 pm\"/>\n",
    "        <item>\n",
    "            <geo:lat>39.91</geo:lat>\n",
    "            <geo:long>116.39</geo:long>\n",
    "            <pubDate>Wed, 27 May 2015 11:00 am CST</pubDate>\n",
    "            <yweather:condition text=\"Haze\" code=\"21\" temp=\"28\" date=\"Wed, 27 May 2015 11:00 am CST\" />\n",
    "            <yweather:forecast day=\"Wed\" date=\"27 May 2015\" low=\"20\" high=\"33\" text=\"Partly Cloudy\" code=\"30\" />\n",
    "            <yweather:forecast day=\"Thu\" date=\"28 May 2015\" low=\"21\" high=\"34\" text=\"Sunny\" code=\"32\" />\n",
    "            <yweather:forecast day=\"Fri\" date=\"29 May 2015\" low=\"18\" high=\"25\" text=\"AM Showers\" code=\"39\" />\n",
    "            <yweather:forecast day=\"Sat\" date=\"30 May 2015\" low=\"18\" high=\"32\" text=\"Sunny\" code=\"32\" />\n",
    "            <yweather:forecast day=\"Sun\" date=\"31 May 2015\" low=\"20\" high=\"37\" text=\"Sunny\" code=\"32\" />\n",
    "        </item>\n",
    "    </channel>\n",
    "</rss>\n",
    "'''\n",
    "handler = WeatherSaxHandler()\n",
    "parser = ParserCreate()\n",
    "parser.StartElementHandler = handler.start_element\n",
    "parser.EndElementHandler = handler.end_element\n",
    "parser.CharacterDataHandler = handler.char_data\n",
    "parser.Parse(data)"
   ]
  },
  {
   "cell_type": "code",
   "execution_count": 29,
   "metadata": {
    "collapsed": true
   },
   "outputs": [],
   "source": [
    "class WeatherSaxHandler(object):\n",
    "    def __init__(self):  \n",
    "        self.weather_data = {}\n",
    "        self.date_index = 0\n",
    "    def start_element(self, name, attrs):\n",
    "        if name==\"yweather:location\":\n",
    "            self.weather_data['city'] = attrs['city']\n",
    "            self.weather_data['country'] = attrs['country']\n",
    "        if name==\"yweather:forecast\" and self.date_index<2:\n",
    "            if self.date_index==0:\n",
    "                self.weather_data['today'] = {}\n",
    "                self.weather_data['today']['text'] = attrs['text']\n",
    "                self.weather_data['today']['low'] = int(attrs['low'])\n",
    "                self.weather_data['today']['high'] = int(attrs['high'])\n",
    "                self.date_index += 1\n",
    "            elif self.date_index==1:\n",
    "                self.weather_data['tomorrow'] = {}\n",
    "                self.weather_data['tomorrow']['text'] = attrs['text']\n",
    "                self.weather_data['tomorrow']['low'] = int(attrs['low'])\n",
    "                self.weather_data['tomorrow']['high'] = int(attrs['high'])\n",
    "                self.date_index += 1\n",
    "    def end_element(self, name):\n",
    "        pass\n",
    "\n",
    "    def char_data(self, text):\n",
    "        pass\n",
    "\n",
    "\n",
    "def parse_weather(xml):\n",
    "    handler = WeatherSaxHandler()\n",
    "    parser = ParserCreate()\n",
    "    parser.StartElementHandler = handler.start_element\n",
    "    parser.EndElementHandler = handler.end_element\n",
    "    parser.CharacterDataHandler = handler.char_data\n",
    "    parser.Parse(xml)\n",
    "    return handler.weather_data"
   ]
  },
  {
   "cell_type": "code",
   "execution_count": 25,
   "metadata": {
    "collapsed": true
   },
   "outputs": [],
   "source": [
    "data = r'''<?xml version=\"1.0\" encoding=\"UTF-8\" standalone=\"yes\" ?>\n",
    "<rss version=\"2.0\" xmlns:yweather=\"http://xml.weather.yahoo.com/ns/rss/1.0\" xmlns:geo=\"http://www.w3.org/2003/01/geo/wgs84_pos#\">\n",
    "    <channel>\n",
    "        <title>Yahoo! Weather - Beijing, CN</title>\n",
    "        <lastBuildDate>Wed, 27 May 2015 11:00 am CST</lastBuildDate>\n",
    "        <yweather:location city=\"Beijing\" region=\"\" country=\"China\"/>\n",
    "        <yweather:units temperature=\"C\" distance=\"km\" pressure=\"mb\" speed=\"km/h\"/>\n",
    "        <yweather:wind chill=\"28\" direction=\"180\" speed=\"14.48\" />\n",
    "        <yweather:atmosphere humidity=\"53\" visibility=\"2.61\" pressure=\"1006.1\" rising=\"0\" />\n",
    "        <yweather:astronomy sunrise=\"4:51 am\" sunset=\"7:32 pm\"/>\n",
    "        <item>\n",
    "            <geo:lat>39.91</geo:lat>\n",
    "            <geo:long>116.39</geo:long>\n",
    "            <pubDate>Wed, 27 May 2015 11:00 am CST</pubDate>\n",
    "            <yweather:condition text=\"Haze\" code=\"21\" temp=\"28\" date=\"Wed, 27 May 2015 11:00 am CST\" />\n",
    "            <yweather:forecast day=\"Wed\" date=\"27 May 2015\" low=\"20\" high=\"33\" text=\"Partly Cloudy\" code=\"30\" />\n",
    "            <yweather:forecast day=\"Thu\" date=\"28 May 2015\" low=\"21\" high=\"34\" text=\"Sunny\" code=\"32\" />\n",
    "            <yweather:forecast day=\"Fri\" date=\"29 May 2015\" low=\"18\" high=\"25\" text=\"AM Showers\" code=\"39\" />\n",
    "            <yweather:forecast day=\"Sat\" date=\"30 May 2015\" low=\"18\" high=\"32\" text=\"Sunny\" code=\"32\" />\n",
    "            <yweather:forecast day=\"Sun\" date=\"31 May 2015\" low=\"20\" high=\"37\" text=\"Sunny\" code=\"32\" />\n",
    "        </item>\n",
    "    </channel>\n",
    "</rss>\n",
    "'''"
   ]
  },
  {
   "cell_type": "code",
   "execution_count": 30,
   "metadata": {
    "collapsed": false
   },
   "outputs": [
    {
     "data": {
      "text/plain": [
       "{'city': 'Beijing',\n",
       " 'country': 'China',\n",
       " 'today': {'high': 33, 'low': 20, 'text': 'Partly Cloudy'},\n",
       " 'tomorrow': {'high': 34, 'low': 21, 'text': 'Sunny'}}"
      ]
     },
     "execution_count": 30,
     "metadata": {},
     "output_type": "execute_result"
    }
   ],
   "source": [
    "parse_weather(data)"
   ]
  },
  {
   "cell_type": "code",
   "execution_count": null,
   "metadata": {
    "collapsed": true
   },
   "outputs": [],
   "source": []
  }
 ],
 "metadata": {
  "kernelspec": {
   "display_name": "Python 3",
   "language": "python",
   "name": "python3"
  },
  "latex_envs": {
   "LaTeX_envs_menu_present": true,
   "bibliofile": "biblio.bib",
   "cite_by": "apalike",
   "current_citInitial": 1,
   "eqLabelWithNumbers": true,
   "eqNumInitial": 1,
   "hotkeys": {
    "equation": "Ctrl-E",
    "itemize": "Ctrl-I"
   },
   "labels_anchors": false,
   "latex_user_defs": false,
   "report_style_numbering": false,
   "user_envs_cfg": false
  },
  "toc": {
   "colors": {
    "hover_highlight": "#DAA520",
    "running_highlight": "#FF0000",
    "selected_highlight": "#FFD700"
   },
   "moveMenuLeft": true,
   "nav_menu": {
    "height": "0px",
    "width": "0px"
   },
   "navigate_menu": true,
   "number_sections": true,
   "sideBar": false,
   "threshold": 4,
   "toc_cell": true,
   "toc_position": {
    "height": "369px",
    "left": "1032px",
    "right": "20px",
    "top": "34px",
    "width": "264px"
   },
   "toc_section_display": "block",
   "toc_window_display": true
  }
 },
 "nbformat": 4,
 "nbformat_minor": 0
}
