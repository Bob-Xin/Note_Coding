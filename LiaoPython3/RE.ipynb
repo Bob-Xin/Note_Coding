{
 "cells": [
  {
   "cell_type": "markdown",
   "metadata": {
    "toc": "true"
   },
   "source": [
    "# Table of Contents\n",
    " <p><div class=\"lev1 toc-item\"><a href=\"#开始之前\" data-toc-modified-id=\"开始之前-1\"><span class=\"toc-item-num\">1&nbsp;&nbsp;</span>开始之前</a></div><div class=\"lev1 toc-item\"><a href=\"#基础\" data-toc-modified-id=\"基础-2\"><span class=\"toc-item-num\">2&nbsp;&nbsp;</span>基础</a></div><div class=\"lev2 toc-item\"><a href=\"#直接给出字符：精确匹配\" data-toc-modified-id=\"直接给出字符：精确匹配-21\"><span class=\"toc-item-num\">2.1&nbsp;&nbsp;</span>直接给出字符：精确匹配</a></div><div class=\"lev2 toc-item\"><a href=\"#匹配变长的字符\" data-toc-modified-id=\"匹配变长的字符-22\"><span class=\"toc-item-num\">2.2&nbsp;&nbsp;</span>匹配变长的字符</a></div><div class=\"lev1 toc-item\"><a href=\"#进阶：更精确的匹配\" data-toc-modified-id=\"进阶：更精确的匹配-3\"><span class=\"toc-item-num\">3&nbsp;&nbsp;</span>进阶：更精确的匹配</a></div><div class=\"lev2 toc-item\"><a href=\"#用-[]-表示范围\" data-toc-modified-id=\"用-[]-表示范围-31\"><span class=\"toc-item-num\">3.1&nbsp;&nbsp;</span>用 <code>[]</code> 表示范围</a></div><div class=\"lev2 toc-item\"><a href=\"#开头与结束\" data-toc-modified-id=\"开头与结束-32\"><span class=\"toc-item-num\">3.2&nbsp;&nbsp;</span>开头与结束</a></div><div class=\"lev1 toc-item\"><a href=\"#要义\" data-toc-modified-id=\"要义-4\"><span class=\"toc-item-num\">4&nbsp;&nbsp;</span>要义</a></div><div class=\"lev1 toc-item\"><a href=\"#Python-re-模块\" data-toc-modified-id=\"Python-re-模块-5\"><span class=\"toc-item-num\">5&nbsp;&nbsp;</span>Python re 模块</a></div><div class=\"lev2 toc-item\"><a href=\"#转义\" data-toc-modified-id=\"转义-51\"><span class=\"toc-item-num\">5.1&nbsp;&nbsp;</span>转义</a></div><div class=\"lev2 toc-item\"><a href=\"#如何匹配\" data-toc-modified-id=\"如何匹配-52\"><span class=\"toc-item-num\">5.2&nbsp;&nbsp;</span>如何匹配</a></div><div class=\"lev1 toc-item\"><a href=\"#切分字符串\" data-toc-modified-id=\"切分字符串-6\"><span class=\"toc-item-num\">6&nbsp;&nbsp;</span>切分字符串</a></div><div class=\"lev2 toc-item\"><a href=\"#re-&amp;-split\" data-toc-modified-id=\"re-&amp;-split-61\"><span class=\"toc-item-num\">6.1&nbsp;&nbsp;</span><code>re &amp; split</code></a></div><div class=\"lev2 toc-item\"><a href=\"#join\" data-toc-modified-id=\"join-62\"><span class=\"toc-item-num\">6.2&nbsp;&nbsp;</span><code>join</code></a></div><div class=\"lev2 toc-item\"><a href=\"#replace\" data-toc-modified-id=\"replace-63\"><span class=\"toc-item-num\">6.3&nbsp;&nbsp;</span><code>replace</code></a></div><div class=\"lev2 toc-item\"><a href=\"#re.sub\" data-toc-modified-id=\"re.sub-64\"><span class=\"toc-item-num\">6.4&nbsp;&nbsp;</span><code>re.sub</code></a></div><div class=\"lev2 toc-item\"><a href=\"#小结\" data-toc-modified-id=\"小结-65\"><span class=\"toc-item-num\">6.5&nbsp;&nbsp;</span>小结</a></div><div class=\"lev1 toc-item\"><a href=\"#分组\" data-toc-modified-id=\"分组-7\"><span class=\"toc-item-num\">7&nbsp;&nbsp;</span>分组</a></div><div class=\"lev2 toc-item\"><a href=\"#group\" data-toc-modified-id=\"group-71\"><span class=\"toc-item-num\">7.1&nbsp;&nbsp;</span>group</a></div><div class=\"lev2 toc-item\"><a href=\"#例子\" data-toc-modified-id=\"例子-72\"><span class=\"toc-item-num\">7.2&nbsp;&nbsp;</span>例子</a></div><div class=\"lev1 toc-item\"><a href=\"#贪婪匹配\" data-toc-modified-id=\"贪婪匹配-8\"><span class=\"toc-item-num\">8&nbsp;&nbsp;</span>贪婪匹配</a></div><div class=\"lev2 toc-item\"><a href=\"#非贪婪匹配\" data-toc-modified-id=\"非贪婪匹配-81\"><span class=\"toc-item-num\">8.1&nbsp;&nbsp;</span>非贪婪匹配</a></div><div class=\"lev1 toc-item\"><a href=\"#编译\" data-toc-modified-id=\"编译-9\"><span class=\"toc-item-num\">9&nbsp;&nbsp;</span>编译</a></div><div class=\"lev1 toc-item\"><a href=\"#其他资料\" data-toc-modified-id=\"其他资料-10\"><span class=\"toc-item-num\">10&nbsp;&nbsp;</span>其他资料</a></div><div class=\"lev1 toc-item\"><a href=\"#参考网站\" data-toc-modified-id=\"参考网站-11\"><span class=\"toc-item-num\">11&nbsp;&nbsp;</span>参考网站</a></div>"
   ]
  },
  {
   "cell_type": "markdown",
   "metadata": {},
   "source": [
    "# 开始之前"
   ]
  },
  {
   "cell_type": "markdown",
   "metadata": {},
   "source": [
    "在 Unix-like 系统中，我们经常会使用 `ls aa*` 这样的命令，此时 Shell 会将当前一级目录下所有可以与 `aa*` 匹配的项目（包括文件和目录）反馈给程序 `ls`，这样有个小问题就是如果 `aa*` 的匹配项特别多的话，结果会变得很长，甚至超过 Shell 显示的极限。于是就有这么个想法：让 `ls` 命令程序先列出当前一级目录下的所有文件，但是并不输出到屏幕上，而是把输出结果反馈给另一个命令程序，然后再让这个命令程序“分拣”出可以匹配的项目：`ls | grep \"^aa*\"`。  \n",
    "\n",
    "在这个命令中，`|` 是管道（Pipe），在 Unix-like 中，一切皆文件，无论是磁盘、终端、各种端口、打印机还是收发网络数据包的 Socket，当我们利用 Shell 与系统进行交互时，其实在我们与 Shell 之间还存在一个终端（就是屏幕），比如输入 `w` 能看到用户登陆和接入情况。因为终端也是文件，所以如果我们把信息写到这样的文件中，屏幕就能显示出信息。  \n",
    "\n",
    "程序可以由 Shell 创建的标准输入来获取输入信息，自然也可以选择其他的信息作为输入源头，因此我们的 `ls` 命令的结果作为信息输入源，经由管道流向后面的 `grep` 命令。"
   ]
  },
  {
   "cell_type": "markdown",
   "metadata": {},
   "source": [
    "grep 全称是“Global Regular Expression Print”，翻译出来就是：在标准输入的全部行中，找到跟给定正则表达式匹配的内容，并将该内容所在的行打印出来。这里，我们就提到了正则表达式。"
   ]
  },
  {
   "cell_type": "markdown",
   "metadata": {},
   "source": [
    "正则表达式的目的，在于寻找目标文本中符合某种特征的字符串，就像一个模板一样，去圈套一切符合它样式的内容，所以也叫 Pattern。"
   ]
  },
  {
   "cell_type": "markdown",
   "metadata": {},
   "source": [
    "# 基础"
   ]
  },
  {
   "cell_type": "markdown",
   "metadata": {},
   "source": [
    "## 直接给出字符：精确匹配"
   ]
  },
  {
   "cell_type": "markdown",
   "metadata": {},
   "source": [
    "- `\\d` 匹配一个数字\n",
    "- `\\w` 匹配一个字母或数字\n",
    "- `.` 匹配任意字符"
   ]
  },
  {
   "cell_type": "markdown",
   "metadata": {},
   "source": [
    "## 匹配变长的字符"
   ]
  },
  {
   "cell_type": "markdown",
   "metadata": {},
   "source": [
    "- `*` 表示任意个字符（包括 0 个）\n",
    "- `+` 表示至少一个字符\n",
    "- `?` 表示 0 个或 1 个字符\n",
    "- `{n}` 表示 n 个字符\n",
    "- `{n,m}` 表示 n-m 个字符，几到几个数字"
   ]
  },
  {
   "cell_type": "markdown",
   "metadata": {},
   "source": [
    "- `\\s` 可以匹配一个空格（业报刊 Tab 等空白符），`\\s+` 表示至少有一个空格"
   ]
  },
  {
   "cell_type": "markdown",
   "metadata": {},
   "source": [
    "# 进阶：更精确的匹配"
   ]
  },
  {
   "cell_type": "markdown",
   "metadata": {},
   "source": [
    "## 用 `[]` 表示范围"
   ]
  },
  {
   "cell_type": "markdown",
   "metadata": {},
   "source": [
    "- `[0-9a-zA-z\\_]` 可以匹配一个数字、字母或者下划线\n",
    "- `[0-9a-zA-z\\_]+` 可以匹配至少一个数字、字母或者下划线组成的字符串，比如 `a100`, `0_z`, `Py3000` 等等\n",
    "- `[a-zA-Z\\_][0-9a-zA-Z\\_]*` 可以匹配由字母或下划线开头，后接任意个由一个数字、字母或下划线组成的字符串，即 Python 合法的变量\n",
    "- `[a-zA-Z\\_][0-9a-zA-Z\\_]{0, 19}` 更精确地限制了变量的长度是 1-20 个字符（前面 1 个字符，后面最多 19 个字符）"
   ]
  },
  {
   "cell_type": "markdown",
   "metadata": {},
   "source": [
    "## 开头与结束"
   ]
  },
  {
   "cell_type": "markdown",
   "metadata": {},
   "source": [
    "- `A|B` 可以匹配 A 或 B，所以 `(P|p)ython` 可以匹配 `Python` 或 `python`\n",
    "- `^` 表示行的开头，`^\\d` 表示必须以数字开头\n",
    "- `$` 表示行的结束，`\\d$` 表示必须以数字结束"
   ]
  },
  {
   "cell_type": "markdown",
   "metadata": {},
   "source": [
    "# 要义"
   ]
  },
  {
   "cell_type": "markdown",
   "metadata": {},
   "source": [
    "（1）转义 —— 用元字符指代一类具有特性的字符的机制。一般通过中括号、小数点、反斜杠这些特殊符号的序列来实现。 \n",
    "- 中括号 —— 范围 \n",
    "- 小数点 —— 除了“换行”`（\\n）`之外的任何单一字符\n",
    "- 反斜杠序 —— 典型的转义序列：序列`“\\w”`等效于`“[a-zA-Z0-9_]”`；序列`“\\W”`则等效于`“[^a-zA-Z0-9_]”`。 "
   ]
  },
  {
   "cell_type": "markdown",
   "metadata": {},
   "source": [
    "（2）数量 —— 用来指定被匹配的字符（串）的数量。一般通过花括号、星号、加号和问号这些元字符来实现：\n",
    "- 花括号—— 描述字符出现多少次将会被匹配 \n",
    "- 星号 —— 意同{0,}，即0次或任意正次数\n",
    "- 加号 —— 意同{1,}，即1次或其他任意正次数\n",
    "- 问号 —— 要么有1次，要么有0次\n",
    "※ 所有表示数量的元字符，作用且仅作用在紧挨在它左边的第一个（或第一个分组）字符的身上，比如：`“foo.*”里的“*”`仅仅作用在“.”身上，而不是“foo.”身上。"
   ]
  },
  {
   "cell_type": "markdown",
   "metadata": {},
   "source": [
    "（3）位置 —— 用来匹配到指定位置的字符串。一般通过以下两对元字符来实现： \n",
    "- 补脱符（^） —— 表示BOL（Begin of Line）\n",
    "- 美元符 —— 与补脱符相反，表示EOL（End of Line）。 \n",
    "- \\<（反斜杠加一个小于号）——描述了这么一种位置：若有一个字符串处于它左边的空白或标点之右，该字符串将被“\\<字符串”这样的模板匹配。而“\\>”的意义正相反。 \n",
    "\n",
    "可以将一行的行首、行尾这些“看不见字符”，以及用于分割单词的某种空间，想象为可以某种“摸得着”的特殊字符，那么，这些特殊字符就是“^”、“$”、“\\<”、“\\>”，把那些原本难以表达的概念，转化为实体字符，然后将这种字符，安插在它们的对应位置，就没错了！ "
   ]
  },
  {
   "cell_type": "markdown",
   "metadata": {},
   "source": [
    "（4）逻辑——主要内容只有两个： \n",
    "- 小括号 —— 用来分组，即将被它括起来的字符串视为一个整体\n",
    "- 管道符 —— 两项被管道符（|）黏结的字符串组成的模板，表示要么用左边一项字符串来匹配，要么用右边一项字符串来匹配"
   ]
  },
  {
   "cell_type": "markdown",
   "metadata": {},
   "source": [
    "# Python re 模块"
   ]
  },
  {
   "cell_type": "markdown",
   "metadata": {},
   "source": [
    "## 转义"
   ]
  },
  {
   "cell_type": "code",
   "execution_count": null,
   "metadata": {
    "collapsed": true
   },
   "outputs": [],
   "source": [
    "s = 'ABC\\\\-001' # Python 字符串，Python 本身也用 `\\`转义\n",
    "# 对应的正则表达字符串：  \n",
    "'ABC\\-001'"
   ]
  },
  {
   "cell_type": "markdown",
   "metadata": {},
   "source": [
    "建议使用 Python 的 `r` 前缀，就不用考虑转义的问题"
   ]
  },
  {
   "cell_type": "code",
   "execution_count": null,
   "metadata": {
    "collapsed": true
   },
   "outputs": [],
   "source": [
    "s = r'ABC\\-001' # Python 字符串\n",
    "# 对应的正则表达式字符串不变：  \n",
    "'ABC\\-001'"
   ]
  },
  {
   "cell_type": "markdown",
   "metadata": {},
   "source": [
    "## 如何匹配"
   ]
  },
  {
   "cell_type": "code",
   "execution_count": 5,
   "metadata": {
    "collapsed": true
   },
   "outputs": [],
   "source": [
    "import re"
   ]
  },
  {
   "cell_type": "code",
   "execution_count": 9,
   "metadata": {
    "collapsed": false
   },
   "outputs": [
    {
     "data": {
      "text/plain": [
       "<_sre.SRE_Match at 0x7f1b141ebe68>"
      ]
     },
     "execution_count": 9,
     "metadata": {},
     "output_type": "execute_result"
    }
   ],
   "source": [
    "# match() 匹配成功则返回 Match 对象\n",
    "re.match(r'^\\d{3}\\-\\d{3,8}$', '010-12345')"
   ]
  },
  {
   "cell_type": "code",
   "execution_count": 10,
   "metadata": {
    "collapsed": true
   },
   "outputs": [],
   "source": [
    "# 匹配不成功则返回 None\n",
    "re.match(r'^\\d{3}\\-\\d{3,8}$', '010 12345')"
   ]
  },
  {
   "cell_type": "code",
   "execution_count": 12,
   "metadata": {
    "collapsed": false
   },
   "outputs": [
    {
     "name": "stdout",
     "output_type": "stream",
     "text": [
      "failed\n"
     ]
    }
   ],
   "source": [
    "# 常见的判断方式\n",
    "\n",
    "test = '用户输入的字符串'\n",
    "if re.match(r'正则表达式', test):\n",
    "    print('ok')\n",
    "else:\n",
    "    print('failed')"
   ]
  },
  {
   "cell_type": "markdown",
   "metadata": {},
   "source": [
    "# 切分字符串"
   ]
  },
  {
   "cell_type": "markdown",
   "metadata": {},
   "source": [
    "## `re & split`"
   ]
  },
  {
   "cell_type": "code",
   "execution_count": 13,
   "metadata": {
    "collapsed": false
   },
   "outputs": [
    {
     "data": {
      "text/plain": [
       "['a', 'b', '', '', 'c']"
      ]
     },
     "execution_count": 13,
     "metadata": {},
     "output_type": "execute_result"
    }
   ],
   "source": [
    "# 正常的切分代码\n",
    "'a b   c'.split(' ')"
   ]
  },
  {
   "cell_type": "code",
   "execution_count": 14,
   "metadata": {
    "collapsed": false
   },
   "outputs": [
    {
     "data": {
      "text/plain": [
       "['a', 'b', 'c']"
      ]
     },
     "execution_count": 14,
     "metadata": {},
     "output_type": "execute_result"
    }
   ],
   "source": [
    "# 无法识别空格，用正则\n",
    "re.split(r'\\s+', 'a b  c')"
   ]
  },
  {
   "cell_type": "code",
   "execution_count": 18,
   "metadata": {
    "collapsed": false
   },
   "outputs": [
    {
     "data": {
      "text/plain": [
       "['a', 'b', 'c', 'd']"
      ]
     },
     "execution_count": 18,
     "metadata": {},
     "output_type": "execute_result"
    }
   ],
   "source": [
    "# 加入 ,\n",
    "re.split(r'[\\s\\,]+', 'a,b, c  d')"
   ]
  },
  {
   "cell_type": "code",
   "execution_count": 19,
   "metadata": {
    "collapsed": false
   },
   "outputs": [
    {
     "data": {
      "text/plain": [
       "['a', 'b', 'c', 'd']"
      ]
     },
     "execution_count": 19,
     "metadata": {},
     "output_type": "execute_result"
    }
   ],
   "source": [
    "# 加入 ;\n",
    "re.split(r'[\\s\\,\\;]+', 'a,b;; c  d')"
   ]
  },
  {
   "cell_type": "markdown",
   "metadata": {},
   "source": [
    "## `join`"
   ]
  },
  {
   "cell_type": "code",
   "execution_count": 15,
   "metadata": {
    "collapsed": false
   },
   "outputs": [
    {
     "data": {
      "text/plain": [
       "'abc'"
      ]
     },
     "execution_count": 15,
     "metadata": {},
     "output_type": "execute_result"
    }
   ],
   "source": [
    "\"\".join('a b   c'.split())"
   ]
  },
  {
   "cell_type": "code",
   "execution_count": 25,
   "metadata": {
    "collapsed": false
   },
   "outputs": [
    {
     "data": {
      "text/plain": [
       "'a,b;;cd'"
      ]
     },
     "execution_count": 25,
     "metadata": {},
     "output_type": "execute_result"
    }
   ],
   "source": [
    "\"\".join('a,b;; c  d'.split())"
   ]
  },
  {
   "cell_type": "markdown",
   "metadata": {},
   "source": [
    "## `replace`"
   ]
  },
  {
   "cell_type": "code",
   "execution_count": 16,
   "metadata": {
    "collapsed": false
   },
   "outputs": [
    {
     "data": {
      "text/plain": [
       "'abc'"
      ]
     },
     "execution_count": 16,
     "metadata": {},
     "output_type": "execute_result"
    }
   ],
   "source": [
    "'a b  c'.replace(' ','')"
   ]
  },
  {
   "cell_type": "code",
   "execution_count": 28,
   "metadata": {
    "collapsed": false
   },
   "outputs": [
    {
     "data": {
      "text/plain": [
       "'a,b;;cd'"
      ]
     },
     "execution_count": 28,
     "metadata": {},
     "output_type": "execute_result"
    }
   ],
   "source": [
    "'a,b;; c  d'.replace(' ','')"
   ]
  },
  {
   "cell_type": "code",
   "execution_count": 29,
   "metadata": {
    "collapsed": false
   },
   "outputs": [
    {
     "data": {
      "text/plain": [
       "'a,bcd'"
      ]
     },
     "execution_count": 29,
     "metadata": {},
     "output_type": "execute_result"
    }
   ],
   "source": [
    "_.replace(';','')"
   ]
  },
  {
   "cell_type": "markdown",
   "metadata": {},
   "source": [
    "## `re.sub`"
   ]
  },
  {
   "cell_type": "code",
   "execution_count": 17,
   "metadata": {
    "collapsed": false
   },
   "outputs": [
    {
     "data": {
      "text/plain": [
       "'abc'"
      ]
     },
     "execution_count": 17,
     "metadata": {},
     "output_type": "execute_result"
    }
   ],
   "source": [
    "re.sub((\" \"), \"\", 'a b   c')"
   ]
  },
  {
   "cell_type": "code",
   "execution_count": 40,
   "metadata": {
    "collapsed": false
   },
   "outputs": [
    {
     "data": {
      "text/plain": [
       "'abcd'"
      ]
     },
     "execution_count": 40,
     "metadata": {},
     "output_type": "execute_result"
    }
   ],
   "source": [
    "re.sub(r'(' ' |,|;)', '', 'a,b;; c  d')"
   ]
  },
  {
   "cell_type": "code",
   "execution_count": 41,
   "metadata": {
    "collapsed": false
   },
   "outputs": [
    {
     "data": {
      "text/plain": [
       "'a,b;; c  d'"
      ]
     },
     "execution_count": 41,
     "metadata": {},
     "output_type": "execute_result"
    }
   ],
   "source": [
    "re.sub(r'(' '|,|;)', '', 'a,b;; c  d')"
   ]
  },
  {
   "cell_type": "markdown",
   "metadata": {},
   "source": [
    "## 小结"
   ]
  },
  {
   "cell_type": "markdown",
   "metadata": {},
   "source": [
    "- join 适合删除空白\n",
    "- replace 是替换\n",
    "- re 与 split，sub 都可以结合使用，也可以与 join，replace 结合用"
   ]
  },
  {
   "cell_type": "markdown",
   "metadata": {},
   "source": [
    "# 分组"
   ]
  },
  {
   "cell_type": "markdown",
   "metadata": {},
   "source": [
    "## group"
   ]
  },
  {
   "cell_type": "markdown",
   "metadata": {},
   "source": [
    "比如：`^(\\d{3})-(\\d{3,8})$` 分别定义了两个组，可以提取出区号和本地号码"
   ]
  },
  {
   "cell_type": "code",
   "execution_count": 50,
   "metadata": {
    "collapsed": true
   },
   "outputs": [],
   "source": [
    "m = re.match(r'^(\\d{3})-(\\d{3,8})$', '010-12345')"
   ]
  },
  {
   "cell_type": "code",
   "execution_count": 51,
   "metadata": {
    "collapsed": false
   },
   "outputs": [
    {
     "data": {
      "text/plain": [
       "<_sre.SRE_Match at 0x7f1b1418bc68>"
      ]
     },
     "execution_count": 51,
     "metadata": {},
     "output_type": "execute_result"
    }
   ],
   "source": [
    "m"
   ]
  },
  {
   "cell_type": "code",
   "execution_count": 54,
   "metadata": {
    "collapsed": false
   },
   "outputs": [
    {
     "data": {
      "text/plain": [
       "('010', '12345')"
      ]
     },
     "execution_count": 54,
     "metadata": {},
     "output_type": "execute_result"
    }
   ],
   "source": [
    "m.groups(0)"
   ]
  },
  {
   "cell_type": "code",
   "execution_count": 55,
   "metadata": {
    "collapsed": false
   },
   "outputs": [
    {
     "data": {
      "text/plain": [
       "'010-12345'"
      ]
     },
     "execution_count": 55,
     "metadata": {},
     "output_type": "execute_result"
    }
   ],
   "source": [
    "m.group(0)"
   ]
  },
  {
   "cell_type": "code",
   "execution_count": 56,
   "metadata": {
    "collapsed": false
   },
   "outputs": [
    {
     "data": {
      "text/plain": [
       "'010'"
      ]
     },
     "execution_count": 56,
     "metadata": {},
     "output_type": "execute_result"
    }
   ],
   "source": [
    "m.group(1)"
   ]
  },
  {
   "cell_type": "code",
   "execution_count": 60,
   "metadata": {
    "collapsed": false
   },
   "outputs": [
    {
     "data": {
      "text/plain": [
       "'12345'"
      ]
     },
     "execution_count": 60,
     "metadata": {},
     "output_type": "execute_result"
    }
   ],
   "source": [
    "m.group(2)"
   ]
  },
  {
   "cell_type": "markdown",
   "metadata": {},
   "source": [
    "group(0) 是原始字符串，group(1), group(2) 表示第 1，2 个字符串"
   ]
  },
  {
   "cell_type": "markdown",
   "metadata": {},
   "source": [
    "## 例子"
   ]
  },
  {
   "cell_type": "code",
   "execution_count": 74,
   "metadata": {
    "collapsed": true
   },
   "outputs": [],
   "source": [
    "t = '19:05:30'"
   ]
  },
  {
   "cell_type": "code",
   "execution_count": 80,
   "metadata": {
    "collapsed": false
   },
   "outputs": [],
   "source": [
    "# 提取任何时间\n",
    "m = re.match(r'^(0[0-9]|1[0:9]|2[0-3]|[0-9])\\:(0[0-9]|1[0-9]|2[0-9]|3[0-9]|4[0-9]|5[0-9]|[0-9])\\:(0[0-9]|1[0-9]|2[0-9]|3[0-9]|4[0-9]|5[0-9]|[0-9])$', t)"
   ]
  },
  {
   "cell_type": "code",
   "execution_count": 81,
   "metadata": {
    "collapsed": false
   },
   "outputs": [
    {
     "data": {
      "text/plain": [
       "<_sre.SRE_Match at 0x7f1b1418d7e8>"
      ]
     },
     "execution_count": 81,
     "metadata": {},
     "output_type": "execute_result"
    }
   ],
   "source": [
    "m"
   ]
  },
  {
   "cell_type": "code",
   "execution_count": 79,
   "metadata": {
    "collapsed": false
   },
   "outputs": [
    {
     "data": {
      "text/plain": [
       "('19', '05', '30')"
      ]
     },
     "execution_count": 79,
     "metadata": {},
     "output_type": "execute_result"
    }
   ],
   "source": [
    "m.groups()"
   ]
  },
  {
   "cell_type": "markdown",
   "metadata": {},
   "source": [
    "# 贪婪匹配"
   ]
  },
  {
   "cell_type": "markdown",
   "metadata": {},
   "source": [
    "匹配尽可能多的字符"
   ]
  },
  {
   "cell_type": "code",
   "execution_count": 82,
   "metadata": {
    "collapsed": false
   },
   "outputs": [
    {
     "data": {
      "text/plain": [
       "('102300', '')"
      ]
     },
     "execution_count": 82,
     "metadata": {},
     "output_type": "execute_result"
    }
   ],
   "source": [
    "re.match(r'^(\\d+)(0*)$', '102300').groups()"
   ]
  },
  {
   "cell_type": "markdown",
   "metadata": {},
   "source": [
    "- 由于 `\\d+` 采用贪婪匹配，直接把后面的 0 都匹配了，结果 `0*` 只能匹配空字符串了"
   ]
  },
  {
   "cell_type": "markdown",
   "metadata": {},
   "source": [
    "## 非贪婪匹配"
   ]
  },
  {
   "cell_type": "markdown",
   "metadata": {},
   "source": [
    "必须让 `\\d+` 采用非贪婪匹配，才能把后面的 0 匹配出来，只要加个 ? 就可以了"
   ]
  },
  {
   "cell_type": "code",
   "execution_count": 84,
   "metadata": {
    "collapsed": false
   },
   "outputs": [
    {
     "data": {
      "text/plain": [
       "('1023', '00')"
      ]
     },
     "execution_count": 84,
     "metadata": {},
     "output_type": "execute_result"
    }
   ],
   "source": [
    "# d+ 表示至少 1 个d，0* 表示任意个 0\n",
    "re.match(r'^(\\d+?)(0*)$', '102300').groups()"
   ]
  },
  {
   "cell_type": "markdown",
   "metadata": {},
   "source": [
    "# 编译"
   ]
  },
  {
   "cell_type": "markdown",
   "metadata": {},
   "source": [
    "在用 Python 中的正则表达式时，re 模块内部会做两件事：  \n",
    "\n",
    "- 编译正则表达式，如果字符串本身不合法，会报错\n",
    "- 用编译后的正则表达式取匹配字符串\n",
    "\n",
    "如果一个正则表达式需要重复使用很多次，可以预编译"
   ]
  },
  {
   "cell_type": "code",
   "execution_count": 85,
   "metadata": {
    "collapsed": true
   },
   "outputs": [],
   "source": [
    "import re\n",
    "\n",
    "# 编译：\n",
    "re_telephone = re.compile(r'^(\\d{3})-(\\d{3,8})$')"
   ]
  },
  {
   "cell_type": "code",
   "execution_count": 86,
   "metadata": {
    "collapsed": false
   },
   "outputs": [
    {
     "data": {
      "text/plain": [
       "('010', '12345')"
      ]
     },
     "execution_count": 86,
     "metadata": {},
     "output_type": "execute_result"
    }
   ],
   "source": [
    "# 使用：\n",
    "re_telephone.match('010-12345').groups()"
   ]
  },
  {
   "cell_type": "code",
   "execution_count": 87,
   "metadata": {
    "collapsed": false
   },
   "outputs": [
    {
     "data": {
      "text/plain": [
       "('010', '8086')"
      ]
     },
     "execution_count": 87,
     "metadata": {},
     "output_type": "execute_result"
    }
   ],
   "source": [
    "re_telephone.match('010-8086').groups()"
   ]
  },
  {
   "cell_type": "markdown",
   "metadata": {},
   "source": [
    "# 其他资料"
   ]
  },
  {
   "cell_type": "markdown",
   "metadata": {},
   "source": [
    "- [Python 正则表达式指南](http://www.cnblogs.com/huxi/archive/2010/07/04/1771073.html)\n",
    "- [常用正则表达式大全](http://www.cnblogs.com/zxin/archive/2013/01/26/2877765.html)\n",
    "- [正则表达式30分钟入门教程](http://deerchao.net/tutorials/regex/regex.htm#mission)"
   ]
  },
  {
   "cell_type": "markdown",
   "metadata": {
    "collapsed": true
   },
   "source": [
    "# 参考网站\n",
    "\n",
    "[廖雪峰 Python 教程](http://www.liaoxuefeng.com/)"
   ]
  },
  {
   "cell_type": "code",
   "execution_count": null,
   "metadata": {
    "collapsed": true
   },
   "outputs": [],
   "source": []
  }
 ],
 "metadata": {
  "anaconda-cloud": {},
  "kernelspec": {
   "display_name": "Python [default]",
   "language": "python",
   "name": "python3"
  },
  "language_info": {
   "codemirror_mode": {
    "name": "ipython",
    "version": 3
   },
   "file_extension": ".py",
   "mimetype": "text/x-python",
   "name": "python",
   "nbconvert_exporter": "python",
   "pygments_lexer": "ipython3",
   "version": "3.5.2"
  },
  "latex_envs": {
   "LaTeX_envs_menu_present": true,
   "bibliofile": "biblio.bib",
   "cite_by": "apalike",
   "current_citInitial": 1,
   "eqLabelWithNumbers": true,
   "eqNumInitial": 1,
   "hotkeys": {
    "equation": "Ctrl-E",
    "itemize": "Ctrl-I"
   },
   "labels_anchors": false,
   "latex_user_defs": false,
   "report_style_numbering": false,
   "user_envs_cfg": false
  },
  "toc": {
   "colors": {
    "hover_highlight": "#DAA520",
    "running_highlight": "#FF0000",
    "selected_highlight": "#FFD700"
   },
   "moveMenuLeft": true,
   "nav_menu": {
    "height": "0px",
    "width": "0px"
   },
   "navigate_menu": true,
   "number_sections": true,
   "sideBar": true,
   "threshold": 4,
   "toc_cell": true,
   "toc_position": {
    "height": "620px",
    "left": "0px",
    "right": "1096px",
    "top": "34px",
    "width": "231px"
   },
   "toc_section_display": "block",
   "toc_window_display": true
  }
 },
 "nbformat": 4,
 "nbformat_minor": 0
}
