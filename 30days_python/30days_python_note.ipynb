{
 "cells": [
  {
   "cell_type": "markdown",
   "metadata": {
    "collapsed": true
   },
   "source": [
    "# review"
   ]
  },
  {
   "cell_type": "markdown",
   "metadata": {},
   "source": [
    "## basic"
   ]
  },
  {
   "cell_type": "markdown",
   "metadata": {},
   "source": [
    "`print`   \n",
    "`#`   \n",
    "`+`  \n",
    "`-`   \n",
    "`/`  \n",
    "`*`  \n",
    "`%`  \n",
    "`<`  \n",
    "`>`  \n",
    "`<=`  \n",
    "`>=`  \n",
    "`=`  \n",
    "`%s`  \n",
    "`%d`  \n",
    "`%r`  \n",
    "`\\` back-slash  "
   ]
  },
  {
   "cell_type": "markdown",
   "metadata": {},
   "source": [
    "`raw_input`  "
   ]
  },
  {
   "cell_type": "markdown",
   "metadata": {},
   "source": [
    "## print\n",
    "`print` 格式与打印内容之间不需要逗号隔开  \n",
    "`%r`打印出来的是写在脚本里的内容  \n",
    "`%s`打印出来的是你应该看到的内容  \n",
    "`print \"\"\"    \"\"\"`打印多行内容"
   ]
  },
  {
   "cell_type": "markdown",
   "metadata": {},
   "source": [
    "## blackstash\n",
    "\n",
    "6'2\"中，单引号需要转义，因为输出中有单引号  \n",
    "函数里边的变量和脚本里边的变量是没有连接的。"
   ]
  },
  {
   "cell_type": "markdown",
   "metadata": {},
   "source": [
    "## argv"
   ]
  },
  {
   "cell_type": "markdown",
   "metadata": {},
   "source": [
    "`scriopt, first, second, third = argv`  \n",
    "将argv解包，将所有的参数依次赋予左边的变量名。  \n",
    "运行代码：`python ex13.py first 2nd 3rd`"
   ]
  },
  {
   "cell_type": "markdown",
   "metadata": {},
   "source": [
    "## open&read&write "
   ]
  },
  {
   "cell_type": "markdown",
   "metadata": {},
   "source": [
    "`txt = open(filename)`  \n",
    "`txt.read()`  \n",
    "打开并读取文件  \n",
    "\n",
    "* close- 关闭文件  \n",
    "* read- 读取文件内容  \n",
    "* readline- 读取文本文件中的一行  \n",
    "* truncate- 清空文件  \n",
    "* write(stuff)- 将stuff写入文件  \n",
    "\n",
    "`target = open(filename, 'w')`  \n",
    "w表示write，打开的文件是可写的  \n",
    "\n",
    "`line = raw_input(\"line:\" )`  \n",
    "`target.write(line)`  \n",
    "`target.close()`"
   ]
  },
  {
   "cell_type": "code",
   "execution_count": 5,
   "metadata": {
    "collapsed": false
   },
   "outputs": [
    {
     "name": "stdout",
     "output_type": "stream",
     "text": [
      "I am 6'2\" metres tall.\n",
      "I am '6\\'2\"' metres tall.\n"
     ]
    }
   ],
   "source": [
    "print \"I am %s metres tall.\\n\"  % \"6\\'2\\\"\",  \n",
    "print \"I am %r metres tall.\"  % \"6\\'2\\\"\""
   ]
  },
  {
   "cell_type": "markdown",
   "metadata": {},
   "source": [
    "## exists&close"
   ]
  },
  {
   "cell_type": "markdown",
   "metadata": {
    "collapsed": true
   },
   "source": [
    "`from os.path import exists`  \n",
    "`script, from_file, to_file =argv`  \n",
    "`input = open(from_file)`  \n",
    "`indata = input.read()`  \n",
    "`exists(to_file)`  \n",
    "`output = open(to_file, 'w')`  \n",
    "`output.write(indata)`  \n",
    "`output.close()`  \n",
    "`input.close()`"
   ]
  },
  {
   "cell_type": "markdown",
   "metadata": {},
   "source": [
    "## args"
   ]
  },
  {
   "cell_type": "code",
   "execution_count": 3,
   "metadata": {
    "collapsed": false
   },
   "outputs": [],
   "source": [
    "def print_two(*args):  \n",
    "    arg1, arg2 = args  # 参数解包  \n",
    "#def print_two(arg1, arg2):  "
   ]
  },
  {
   "cell_type": "markdown",
   "metadata": {},
   "source": [
    "`return`"
   ]
  },
  {
   "cell_type": "markdown",
   "metadata": {},
   "source": [
    "## rewind"
   ]
  },
  {
   "cell_type": "code",
   "execution_count": 6,
   "metadata": {
    "collapsed": false
   },
   "outputs": [],
   "source": [
    "def rewind(f):\n",
    "    f.seek(0)\n",
    "    \n",
    "# rewind(file)"
   ]
  },
  {
   "cell_type": "markdown",
   "metadata": {},
   "source": [
    "seek()方法在偏移设定该文件的当前位置。参数是可选的，默认为0，这意味着绝对的文件定位，它的值如果是1，这意味着寻求相对于当前位置，2表示相对于文件的末尾。\n",
    "\n",
    "没有返回值。需要注意的是，如果该文件被打开或者使用'a'或'A+'追加，任何seek()操作将在下次写撤消。\n",
    "\n",
    "如果该文件只打开使用“a”的追加模式写，这种方法本质上是一个空操作，但读使能(模式'a+')，它仍然在追加模式打开的文件非常有用。\n",
    "\n",
    "如果该文件在文本模式下使用“t”，只有tell()返回的偏移开都是合法的。使用其他偏移会导致不确定的行为。\n",
    "\n",
    "请注意，并非所有的文件对象都是可搜索。"
   ]
  },
  {
   "cell_type": "markdown",
   "metadata": {},
   "source": [
    "**语法**  \n",
    "以下是seek()方法的语法：fileObject.seek(offset[, whence])\n",
    "\n",
    "**参数**  \n",
    "        offset -- 这是在文件中，读/写指针的位置。\n",
    "        whence -- 这是可选的，默认为0，这意味着绝对的文件定位，其它的值是1，这意味着寻求相对于当前位置，2表示相对于文件的末尾。\n",
    "\n",
    "**返回值**  \n",
    "此方法不返回任何值。  \n",
    "\n",
    "**例子**  \n",
    "下面的例子显示了seek()方法的使用。"
   ]
  },
  {
   "cell_type": "code",
   "execution_count": 50,
   "metadata": {
    "collapsed": false
   },
   "outputs": [
    {
     "name": "stdout",
     "output_type": "stream",
     "text": [
      "Name of the file:  foo.txt\n",
      "Read Line: This is 1st line\n",
      "\n",
      "Read Line: s is 2nd line\n",
      "\n"
     ]
    }
   ],
   "source": [
    "#!/usr/bin/python\n",
    " \n",
    "# Open a file\n",
    "fo = open(\"foo.txt\", \"rw+\")\n",
    "print \"Name of the file: \", fo.name\n",
    " \n",
    "# Assuming file has following 5 lines\n",
    "# This is 1st line\n",
    "# This is 2nd line\n",
    "# This is 3rd line\n",
    "# This is 4th line\n",
    "# This is 5th line\n",
    " \n",
    "line = fo.readline()\n",
    "print \"Read Line: %s\" % (line)\n",
    " \n",
    "# Again set the pointer to the beginning\n",
    "# 默认为0，这意味着绝对的文件定位，其它的值是1，这意味着寻求相对于当前位置，2表示相对于文件的末尾。\n",
    "fo.seek(3,1)\n",
    "line = fo.readline()\n",
    "print \"Read Line: %s\" % (line)\n",
    "\n",
    "# Close opend file\n",
    "fo.close()"
   ]
  },
  {
   "cell_type": "markdown",
   "metadata": {
    "collapsed": true
   },
   "source": [
    "## pop"
   ]
  },
  {
   "cell_type": "markdown",
   "metadata": {},
   "source": [
    "`list.pop(obj=list[-1])`  \n",
    "参数：obj可选参数，对象的索引，从名单中剔除  \n",
    "返回值：返回从列表中删除的对象"
   ]
  },
  {
   "cell_type": "code",
   "execution_count": 2,
   "metadata": {
    "collapsed": false
   },
   "outputs": [
    {
     "name": "stdout",
     "output_type": "stream",
     "text": [
      "A List :  abc\n",
      "B List :  zara\n"
     ]
    }
   ],
   "source": [
    "aList = [123, 'xyz', 'zara', 'abc'];\n",
    "\n",
    "print \"A List : \", aList.pop();\n",
    "print \"B List : \", aList.pop(2);"
   ]
  },
  {
   "cell_type": "code",
   "execution_count": 4,
   "metadata": {
    "collapsed": false
   },
   "outputs": [
    {
     "data": {
      "text/plain": [
       "[123, 'xyz']"
      ]
     },
     "execution_count": 4,
     "metadata": {},
     "output_type": "execute_result"
    }
   ],
   "source": [
    "aList"
   ]
  },
  {
   "cell_type": "markdown",
   "metadata": {},
   "source": [
    "## import *"
   ]
  },
  {
   "cell_type": "markdown",
   "metadata": {},
   "source": [
    "`from ex25 import *`  \n",
    "从ex25中导入所有函数，可以直接使用函数，而不需要`ex25.function()`"
   ]
  },
  {
   "cell_type": "markdown",
   "metadata": {
    "collapsed": true
   },
   "source": [
    "## True or False"
   ]
  },
  {
   "cell_type": "markdown",
   "metadata": {},
   "source": [
    "* 找到相等判断的部分（== or ！=），将其改写为其最终值（True 或 False）。  \n",
    "* 找到括号里的and/or，先算出它们的值。  \n",
    "* 找到每一个not，算出它们反过来的值。"
   ]
  },
  {
   "cell_type": "markdown",
   "metadata": {
    "collapsed": true
   },
   "source": [
    "## List"
   ]
  },
  {
   "cell_type": "raw",
   "metadata": {},
   "source": [
    "创建列表\n",
    "sample_list = ['a',1,('a','b')]\n",
    "\n",
    "Python 列表操作\n",
    "sample_list = ['a','b',0,1,3]\n",
    "\n",
    "得到列表中的某一个值\n",
    "value_start = sample_list[0]\n",
    "end_value = sample_list[-1]\n",
    "\n",
    "删除列表的第一个值\n",
    "del sample_list[0]\n",
    "\n",
    "在列表中插入一个值\n",
    "sample_list[0:0] = ['sample value']\n",
    "\n",
    "得到列表的长度\n",
    "list_length = len(sample_list)\n",
    "\n",
    "列表遍历\n",
    "for element in sample_list:\n",
    "    print(element)\n",
    "    \n",
    "Python 列表高级操作/技巧\n",
    "\n",
    "产生一个数值递增列表\n",
    "num_inc_list = range(30)\n",
    "#will return a list [0,1,2,...,29]\n",
    "\n",
    "用某个固定值初始化列表\n",
    "initial_value = 0\n",
    "list_length = 5\n",
    "sample_list = [ initial_value for i in range(10)]\n",
    "sample_list = [initial_value]*list_length\n",
    "#sample_list ==[0,0,0,0,0]\n",
    "\n",
    "\n",
    "附：python内置类型\n",
    "1、list：列表（即动态数组，C++标准库的vector，但可含不同类型的元素于一个list中）\n",
    "a = [\"I\",\"you\",\"he\",\"she\"]      ＃元素可为任何类型。\n",
    "\n",
    "下标：按下标读写，就当作数组处理\n",
    "以0开始，有负下标的使用\n",
    "0第一个元素，-1最后一个元素，\n",
    "-len第一个元 素，len-1最后一个元素\n",
    "取list的元素数量                \n",
    "len(list)   #list的长度。实际该方法是调用了此对象的__len__(self)方法。 \n",
    "\n",
    "创建连续的list\n",
    "L = range(1,5)      #即 L=[1,2,3,4],不含最后一个元素\n",
    "L = range(1, 10, 2) #即 L=[1, 3, 5, 7, 9]\n",
    "\n",
    "list的方法\n",
    "L.append(var)   #追加元素\n",
    "L.insert(index,var)\n",
    "L.pop(var)      #返回最后一个元素，并从list中删除之\n",
    "L.remove(var)   #删除第一次出现的该元素\n",
    "L.count(var)    #该元素在列表中出现的个数\n",
    "L.index(var)    #该元素的位置,无则抛异常 \n",
    "L.extend(list)  #追加list，即合并list到L上\n",
    "L.sort()        #排序\n",
    "L.reverse()     #倒序\n",
    "list 操作符:,+,*，关键字del\n",
    "a[1:]       #片段操作符，用于子list的提取\n",
    "[1,2]+[3,4] #为[1,2,3,4]。同extend()\n",
    "[2]*4       #为[2,2,2,2]\n",
    "del L[1]    #删除指定下标的元素\n",
    "del L[1:3]  #删除指定下标范围的元素\n",
    "list的复制\n",
    "L1 = L      #L1为L的别名，用C来说就是指针地址相同，对L1操作即对L操作。函数参数就是这样传递的\n",
    "L1 = L[:]   #L1为L的克隆，即另一个拷贝。\n",
    "        \n",
    "list comprehension\n",
    "   [ <expr1> for k in L if <expr2> ]\n",
    "                \n",
    "2、dictionary： 字典（即C++标准库的map）\n",
    "dict = {'ob1':'computer', 'ob2':'mouse', 'ob3':'printer'}\n",
    "每一个元素是pair，包含key、value两部分。key是Integer或string类型，value 是任意类型。\n",
    "键是唯一的，字典只认最后一个赋的键值。\n",
    "\n",
    "dictionary的方法\n",
    "D.get(key, 0)       #同dict[key]，多了个没有则返回缺省值，0。[]没有则抛异常\n",
    "D.has_key(key)      #有该键返回TRUE，否则FALSE\n",
    "D.keys()            #返回字典键的列表\n",
    "D.values()\n",
    "D.items()\n",
    "\n",
    "D.update(dict2)     #增加合并字典\n",
    "D.popitem()         #得到一个pair，并从字典中删除它。已空则抛异常\n",
    "D.clear()           #清空字典，同del dict\n",
    "D.copy()            #拷贝字典\n",
    "D.cmp(dict1,dict2)  #比较字典，(优先级为元素个数、键大小、键值大小)\n",
    "                    #第一个大返回1，小返回-1，一样返回0\n",
    "            \n",
    "dictionary的复制\n",
    "dict1 = dict        #别名\n",
    "dict2=dict.copy()   #克隆，即另一个拷贝。\n",
    "\n",
    "3、tuple：元组（即常量数组）\n",
    "tuple = ('a', 'b', 'c', 'd', 'e')\n",
    "可以用list的 [],:操作符提取元素。就是不能直接修改元素。\n",
    "\n",
    "4、string：     字符串（即不能修改的字符list）\n",
    "str = \"Hello My friend\"\n",
    "字符串是一个整 体。如果你想直接修改字符串的某一部分，是不可能的。但我们能够读出字符串的某一部分。\n",
    "子字符串的提取\n",
    "str[:6]\n",
    "字符串包含 判断操作符：in，not in\n",
    "\"He\" in str\n",
    "\"she\" not in str\n",
    "\n",
    "string模块，还提供了很多方法，如\n",
    "S.find(substring, [start [,end]]) #可指范围查找子串，返回索引值，否则返回-1\n",
    "S.rfind(substring,[start [,end]]) #反向查找\n",
    "S.index(substring,[start [,end]]) #同find，只是找不到产生ValueError异常\n",
    "S.rindex(substring,[start [,end]])#同上反向查找\n",
    "S.count(substring,[start [,end]]) #返回找到子串的个数\n",
    "\n",
    "S.lowercase()\n",
    "S.capitalize()      #首字母大写\n",
    "S.lower()           #转小写\n",
    "S.upper()           #转大写\n",
    "S.swapcase()        #大小写互换\n",
    "\n",
    "S.split(str, ' ')   #将string转list，以空格切分\n",
    "S.join(list, ' ')   #将list转string，以空格连接\n",
    "\n",
    "处理字符串的内置函数\n",
    "len(str)                #串长度\n",
    "cmp(\"my friend\", str)   #字符串比较。第一个大，返回1\n",
    "max('abcxyz')           #寻找字符串中最大的字符\n",
    "min('abcxyz')           #寻找字符串中最小的字符\n",
    "\n",
    "string的转换\n",
    "            \n",
    "oat(str) #变成浮点数，float(\"1e-1\")  结果为0.1\n",
    "int(str)        #变成整型，  int(\"12\")  结果为12\n",
    "int(str,base)   #变成base进制整型数，int(\"11\",2) 结果为2\n",
    "long(str)       #变成长整型，\n",
    "long(str,base)  #变成base进制长整型，\n",
    "\n",
    "字符串的格式化（注意其转义字符，大多如C语言的，略）\n",
    "str_format % (参数列表) #参数列表是以tuple的形式定义的，即不可运行中改变\n",
    ">>>print \"\"%s's height is %dcm\" % (\"My brother\", 180)\n",
    "          #结果显示为 My brother's height is 180cm\n",
    "\n",
    "。。。。。。。。。。。。。。。。。。\n",
    "\n",
    "list 和 tuple 的相互转化\n",
    "\n",
    "tuple(ls) \n",
    "list(ls)"
   ]
  },
  {
   "cell_type": "markdown",
   "metadata": {
    "collapsed": true
   },
   "source": [
    "## IF"
   ]
  },
  {
   "cell_type": "markdown",
   "metadata": {},
   "source": [
    "If 语句的规则\n",
    "1. 每一个“if 语句”必须包含一个 else .\n",
    "2. 如果这个 else 永远都不应该被执行到,因为它本身没有任何意义,那你必须在\n",
    "else 语句后面使用一个叫做 die 的函数,让它打印出错误信息并且死给你看,这\n",
    "和上一节的习题类似,这样你可以找到很多的错误。\n",
    "3. “if 语句”的嵌套不要超过 2 层,最好尽量保持只有 1 层。 这意味着如果你在 if 里\n",
    "边又有了一个 if,那你就需要把第二个 if 移到另一个函数里面。\n",
    "4. 将“if 语句”当做段落来对待,其中的每一个 if, elif, else 组合就跟一个段落\n",
    "的句子组合一样。在这种组合的最前面和最后面留一个空行以作区分。\n",
    "5. 你的布尔测试应该很简单,如果它们很复杂的话,你需要将它们的运算事先放到一\n",
    "个 变量里,并且为变量取一个好名字。"
   ]
  },
  {
   "cell_type": "markdown",
   "metadata": {},
   "source": [
    "## LOOP"
   ]
  },
  {
   "cell_type": "markdown",
   "metadata": {},
   "source": [
    "循环的规则\n",
    "1. 只有在循环永不停止时使用“while 循环”,这意味着你可能永远都用不到。这条只有\n",
    "Python 中成立,其他的语言另当别论。\n",
    "2. 其他类型的循环都使用“for 循环”,尤其是在循环的对象数量固定或者有限的情况下。"
   ]
  },
  {
   "cell_type": "markdown",
   "metadata": {},
   "source": [
    "## DEBUG"
   ]
  },
  {
   "cell_type": "markdown",
   "metadata": {},
   "source": [
    "调试(debug)的小技巧\n",
    "1. 不要使用 “debugger”。 Debugger 所作的相当于对病人的全身扫描。你并不会得\n",
    "到某方面的有用信息,而且你会发现它输出的信息态度,而且大部分没有用,或者\n",
    "只会让你更困惑。\n",
    "2. 最好的调试程序的方法是使用 print 在各个你想要检查的关键环节将关键变量打\n",
    "印出来,从而检查哪里是否有错。\n",
    "3. 让程序一部分一部分地运行起来。不要等一个很长的脚本写完后才去运行它。写一\n",
    "点,运行一点,再修改一点。"
   ]
  },
  {
   "cell_type": "markdown",
   "metadata": {},
   "source": [
    "## 判断输入s为："
   ]
  },
  {
   "cell_type": "markdown",
   "metadata": {},
   "source": [
    "s为字符串  \n",
    "s.isalnum() 所有字符都是数字或者字母  \n",
    "s.isalpha() 所有字符都是字母  \n",
    "s.isdigit() 所有字符都是数字  \n",
    "s.islower() 所有字符都是小写  \n",
    "s.isupper() 所有字符都是大写  \n",
    "s.istitle() 所有单词都是首字母大写，像标题  \n",
    "s.isspace() 所有字符都是空白字符、\\t、\\n、\\r "
   ]
  },
  {
   "cell_type": "markdown",
   "metadata": {
    "collapsed": true
   },
   "source": [
    "# Review2"
   ]
  },
  {
   "cell_type": "markdown",
   "metadata": {},
   "source": [
    "## KeyWords  \n",
    "* and 与\n",
    "* del 删除\n",
    "* from 从库中导入\n",
    "* not 非\n",
    "* while 满足条件时循环，直到条件不满足\n",
    "* as 命名\n",
    "* elif 判断条件\n",
    "* global 全局变量\n",
    "* or 或\n",
    "* with with 语句适用于对资源进行访问的场合，确保不管使用过程中是否发生异常都会执行必要的“清理”操作，释放资源，比如文件使用后自动关闭、线程中锁的自动获取和释放等。[浅谈 Python 的 with 语句](http://www.ibm.com/developerworks/cn/opensource/os-cn-pythonwith/)\n",
    "* assert 所謂斷言（Assertion），指的是程式進行到某個時間點，斷定其必然是某種狀態，具體而言，也就是斷定該時間點上，某變數必然是某值，或某物件必具擁有何種特性值。[使用assert](http://openhome.cc/Gossip/Python/Assert.html)\n",
    "* else 判断条件\n",
    "* if 判断条件\n",
    "* pass Python pass是空语句，是为了保持程序结构的完整性。pass 不做任何事情，一般用做占位语句。[pass语句](http://www.runoob.com/python/python-pass-statement.html)\n",
    "* yield  yield 是一个类似 return 的关键字，只是这个函数返回的是个生成器。[yield解释](http://pyzh.readthedocs.io/en/latest/the-python-yield-keyword-explained.html)\n",
    "* break 停止循环Python break语句，就像在C语言中，打破了最小封闭for或while循环。break语句用来终止循环语句，即循环条件没有False条件或者序列还没被完全递归完，也会停止执行循环语句。break语句用在while和for循环中。如果您使用嵌套循环，break语句将停止执行最深层的循环，并开始执行下一行代码。[break语句](http://www.runoob.com/python/python-break-statement.html)\n",
    "* except  捕捉异常可以使用try/except语句。try/except语句用来检测try语句块中的错误，从而让except语句捕获异常信息并处理。如果你不想在异常发生时结束你的程序，只需在try里捕获它。[python异常处理](http://www.runoob.com/python/python-exceptions.html)\n",
    "* import 导入库\n",
    "* print 打印\n",
    "* class 定义类\n",
    "* exec exec语句用来执行储存在字符串或文件中的Python语句。例如，我们可以在运行时生成一个包含Python代码的字符串，然后使用exec语句执行这些语句。[python中exec,eval](http://blog.sina.com.cn/s/blog_76e94d210100w1bl.html)\n",
    "* in \n",
    "* raise [try&raise](http://openhome.cc/Gossip/Python/TryRaise.html)\n",
    "* continue 继续循环\n",
    "* finally [try&finally](http://www.2cto.com/shouce/pythonjc/ch13s04.html)\n",
    "* is is will return True if two variables point to the same object, == if the objects referred to by the variables are equal.\n",
    "* return 返回\n",
    "* def 定义函数\n",
    "* for 循环体\n",
    "* lambda 函数\n",
    "* try 参见except\n"
   ]
  },
  {
   "cell_type": "markdown",
   "metadata": {},
   "source": [
    "## 数据类型  \n",
    "* True 真\n",
    "* False 假\n",
    "* None 无\n",
    "* strings 字符变量\n",
    "* numbers 数字\n",
    "* floats 浮点数\n",
    "* lists 列表"
   ]
  },
  {
   "cell_type": "markdown",
   "metadata": {},
   "source": [
    "## 字符串转义序列\n",
    "* \\\\\\ 斜杠\n",
    "* \\' 单引号\n",
    "* \\\" 双引号\n",
    "* \\a 响铃\n",
    "* \\b 退格\n",
    "* \\f 换页\n",
    "* \\n 换行符\n",
    "* \\r 回车\n",
    "* \\t 横向制表符\n",
    "* \\v 纵向制表符"
   ]
  },
  {
   "cell_type": "markdown",
   "metadata": {},
   "source": [
    "## 字符串格式化\n",
    "* %d 有符号整数\n",
    "* %i 有符号整数\n",
    "* %o 有符号八进制数\n",
    "* %u 废弃的，整数\n",
    "* %x 有符号的十六进制\n",
    "* %X 大写\n",
    "* %e 浮点指数\n",
    "* %E 大写\n",
    "* %f 浮点数十进制\n",
    "* %F 浮点数十进制\n",
    "* %g \n",
    "* %G\n",
    "* %c 单一字符\n",
    "* %r 任意值\n",
    "* %s 字符串\n",
    "* %% 无声明"
   ]
  },
  {
   "cell_type": "markdown",
   "metadata": {},
   "source": [
    "## 操作符号\n",
    "### 算术运算符\n",
    "* \\+ 加\n",
    "* \\- 减\n",
    "* \\* 乘\n",
    "* \\*\\* 平方\n",
    "* / 除\n",
    "* // 取整除 - 返回商的整数部分\n",
    "* % 取整\n",
    "### 比较运算符\n",
    "* < 小于\n",
    "* \\> 大于\n",
    "* <= 小于等于\n",
    "* \\>= 大于等于\n",
    "* == 等于\n",
    "* != 不等于\n",
    "* <> 不等于\n",
    "### 括号\n",
    "* () 括号\n",
    "* [] 中括号\n",
    "* {} 大括号\n",
    "### 其他\n",
    "* @ @符号在python语言中具有特殊含义，用来作为修饰符使用。\n",
    "* , 逗号\n",
    "* : 循环体\n",
    "* . 调用函数变量\n",
    "### 赋值运算符\n",
    "* = 赋值\n",
    "* ; 函数语句结尾\n",
    "* += 加法赋值 a += c 等价于 a = a+c\n",
    "* -= 减法赋值 a -= c 等价于 a = a-c\n",
    "* \\*= 乘法赋值 a \\*= c 等价于 a = a\\*c\n",
    "* /= 除法赋值 a /= c 等价于 a = a/c\n",
    "* //= 取整除赋值 a //=c 等价于 a = a//c\n",
    "* %=  取模赋值 a %= c 等价于 a = a%c\n",
    "* \\*\\*= 幂赋值 a \\*\\*=c 等价于 a = a\\*\\*c\n",
    "### 位运算符\n",
    "* & 与\n",
    "* | 或\n",
    "* ^ 异或，按位异或运算符：当两对应的二进位相异时，结果为1 \n",
    "* ~ 取反\n",
    "* \\>\\>,<< 右移动，左移动\n",
    "### 逻辑运算符\n",
    "假设变量 a 为 10, b为 20:  \n",
    "* and\tx and y\t布尔\"与\" - 如果 x 为 False，x and y 返回 False，否则它返回 y 的计算值。 \t(a and b) 返回 20。  \n",
    "* or\tx or y\t布尔\"或\" - 如果 x 是非 0，它返回 x 的值，否则它返回 y 的计算值。\t(a or b) 返回 10。  \n",
    "* not\tnot x\t布尔\"非\" - 如果 x 为 True，返回 False 。如果 x 为 False，它返回 True。\tnot(a and b) 返回 False   "
   ]
  },
  {
   "cell_type": "markdown",
   "metadata": {
    "collapsed": true
   },
   "source": [
    "## Join\n",
    "1. 将每一个被调用的函数以上述的方式翻译成 Python 实际执行的动作。例如: ' '.join(things) 其实是 join(' ', things) 。  \n",
    "2. 将这两种方式翻译为自然语言。例如, ' '.join(things) 可以翻译成“用 ‘ ‘ 连接(join) things”,而 join(' ', things) 的意思是“为 ‘ ‘ 和 things 调用 join函数”。这其实是同一件事情。"
   ]
  },
  {
   "cell_type": "markdown",
   "metadata": {
    "collapsed": true
   },
   "source": [
    "## Class"
   ]
  },
  {
   "cell_type": "markdown",
   "metadata": {},
   "source": [
    "用到“class”的编程语言被称作“Object Oriented Programming(面向对象编程)”语言。  \n",
    "这是一种传统的编程方式,你需要做出“东西”来,然后你“告诉”这些东西去完成它们的工作。  \n",
    "类似的事情你其实已经做过不少了,只不过还没有意识到而已。记得你做过的这个吧:\n",
    "stuff = ['Test', 'This', 'Out']  \n",
    "print ' '.join(stuff)  \n",
    "其实你这里已经使用了 class。``stuff`` 这个变量其实是一个 list class (列表类)。  \n",
    "而 ' '.join(stuff) 里调用函数 join 的字符串 ' ' (就是一个空格)也是一个 class —— 它是一个 string class (字符串类)。  \n",
    "到处都是 class!  \n",
    "还有一个概念是 object (物件),不过我们暂且不提。  \n",
    "当你创建过几个 class 后就会学到了。你怎样创建 class 呢?和你创建 ROOMS 的方法差不多,但其实更简单:"
   ]
  },
  {
   "cell_type": "markdown",
   "metadata": {},
   "source": [
    "## 编程建议"
   ]
  },
  {
   "cell_type": "markdown",
   "metadata": {},
   "source": [
    "* 函数的风格  \n",
    "以前我教过的怎样写好函数的方法一样是适用的,不过这里要添加几条:  \n",
    "  * 由于各种各样的原因,程序员将 class (类)里边的函数称作 method (方法)。很大程度上这只是个市场策略(用来推销 OOP),不过如果你把它们称作“函数”的话,是会有啰嗦的人跳出来纠正你的。如果你觉得他们太烦了,你可以告诉他们从数学方面演示一下“函数”和“方法”究竟有什么不同,这样他们会很快闭嘴的。\n",
    "  * 在你使用 class 的过程中,很大一部分时间是告诉你的 class 如何“做事情”。给这些函数命名的时候,与其命名成一个名词,不如命名为一个动词,作为给 class 的一个命令。就和 list 的 pop (抛出)函数一样,它相当于说:“嘿,列表,把这东西给我 pop 出去。 ”它的名字不是remove_from_end_of_list ,因为即使它的功能的确是这样,这一串字符也不是一个命令。\n",
    "  * 让你的函数保持简单小巧。由于某些原因,有些人开始学习 class 后就会忘了这一条。\n",
    "\n",
    "* 类的风格  \n",
    "  * 你的 class 应该使用 “camel case(驼峰式大小写)”,例如你应该使用 SuperGoldFactory 而不是 super_gold_factory 。  \n",
    "  * 你的 \\_\\_init\\_\\_ 不应该做太多的事情,这会让 class 变得难以使用。  \n",
    "  * 你的其它函数应该使用 “underscore format(下划线隔词)”,所以你可以写 my_awesome_hair ,而不是 myawesomehair 或者MyAwesomeHair 。  \n",
    "  * 用一致的方式组织函数的参数。如果你的 class 需要处理 users、 dogs、和 cats,就保持这个次序(特别情况除外)。如果一个函数的参数是\n",
    "(dog, cat, user) ,另一个的是 (user, cat, dog) ,这会让函数使用起来很困难。\n",
    "  * 不要对全局变量或者来自模组的变量进行重定义或者赋值,让这些东西自顾自就行了。\n",
    "  * 不要一根筋式地维持风格一致性,这是思维力底下的妖怪喽啰做的事情。\n",
    "  * 一致性是好事情,不过愚蠢地跟着别人遵从一些白痴口号是错误的行为——这本身就是一种坏的风格。好好为自己照想把。\n",
    "  * 永远永远都使用 class Name(object) 的方式定义 class,否则你会碰到大麻烦。\n",
    "\n",
    "* 代码风格  \n",
    "  * 为了以方便他人阅读,为自己的代码字符之间留下一些空白。你将会看到一些很差的程序员,他们写的代码还算通顺,但字符之间没有任何空间。这种风格在任何编程语言中都是坏习惯,人的眼睛和大脑会通过空白和垂直对齐的位置来扫描和区隔视觉元素,如果你的代码里没有任何空白,这相当于为你的代码上了迷彩装。如果一段代码你无法朗读出来,那么这段代码的可读性可能就有问题。如你找不到让某个东西易用的方法,试着也朗读出来。这样不仅会逼迫你慢速而且真正仔细阅读过去,还会帮你找到难读的段落,从而知道那些代码的易读性需要作出改进。\n",
    "  * 学着模仿别人的风格写 Python 程序,直到哪天你找到你自己的风格为止。\n",
    "  * 一旦你有了自己的风格,也别把它太当回事。程序员工作的一部分就是和别人的代码打交道,有的人审美就是很差。相信我,你的审美某一方面一定也很差,只是你从未意识到而已。\n",
    "  * 如果你发现有人写的代码风格你很喜欢,那就模仿他们的风格。\n",
    "\n",
    "* 好的注释\n",
    "  * 有程序员会告诉你,说你的代码需要有足够的可读性,这样你就无需写注释了。他们会以自己接近官腔的声音说“所以你永远都不应该写代码注释。”这些人要么是一些顾问型的人物,如果别人无法使用他们的代码,就会付更多钱给他们让他们解决问题。要么他们能力不足,从来没有跟别人合作过。别理会这些人,好好写你的注解。\n",
    "  * 写注解的时候,描述清楚为什么你要这样做。代码只会告诉你“这样实现”,而不会告诉你“为什么要这样实现”,而后者比前者更重要。\n",
    "  * 当你为函数写文档注解的时候,记得为别的代码使用者也写些东西。你不需要狂写一大堆,但一两句话谢谢这个函数的用法还是很有用的。\n",
    "  * 最后要说的是,虽然注解是好东西,太多的注解就不见得是了。而且注解也是需要维护的,你要尽量让注解短小精悍一语中的,如果你对代码做了更改,记得检查并更新相关的注解,确认它们还是正确的。"
   ]
  },
  {
   "cell_type": "code",
   "execution_count": null,
   "metadata": {
    "collapsed": true
   },
   "outputs": [],
   "source": []
  }
 ],
 "metadata": {
  "kernelspec": {
   "display_name": "Python 2",
   "language": "python",
   "name": "python2"
  },
  "language_info": {
   "codemirror_mode": {
    "name": "ipython",
    "version": 2
   },
   "file_extension": ".py",
   "mimetype": "text/x-python",
   "name": "python",
   "nbconvert_exporter": "python",
   "pygments_lexer": "ipython2",
   "version": "2.7.11"
  }
 },
 "nbformat": 4,
 "nbformat_minor": 0
}
