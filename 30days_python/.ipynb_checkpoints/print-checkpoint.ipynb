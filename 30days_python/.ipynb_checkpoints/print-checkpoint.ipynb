{
 "cells": [
  {
   "cell_type": "code",
   "execution_count": 2,
   "metadata": {
    "collapsed": false
   },
   "outputs": [
    {
     "name": "stdout",
     "output_type": "stream",
     "text": [
      "Mary had a little lamb.\n",
      "Its fleece was white as snow.\n",
      "And everywhere that Mary went.\n",
      "..........\n",
      "Cheese Burger\n"
     ]
    }
   ],
   "source": [
    "print \"Mary had a little lamb.\"\n",
    "print \"Its fleece was white as %s.\" % 'snow'\n",
    "print \"And everywhere that Mary went.\"\n",
    "print \".\" * 10 # 10个\".\"\n",
    "\n",
    "end1 = \"C\"\n",
    "end2 = \"h\"\n",
    "end3 = \"e\"\n",
    "end4 = \"e\"\n",
    "end5 = \"s\"\n",
    "end6 = \"e\"\n",
    "end7 = \"B\"\n",
    "end8 = \"u\"\n",
    "end9 = \"r\"\n",
    "end10 = \"g\"\n",
    "end11 = \"e\"\n",
    "end12 = \"r\"\n",
    "\n",
    "print end1 + end2 + end3 + end4 + end5 + end6,\n",
    "print end7 + end8 + end9 + end10 + end11 + end12"
   ]
  },
  {
   "cell_type": "code",
   "execution_count": 12,
   "metadata": {
    "collapsed": false
   },
   "outputs": [
    {
     "name": "stdout",
     "output_type": "stream",
     "text": [
      "1 2 3 4\n",
      "'one' 'two' 'three' 'four'\n",
      "True False False True\n",
      "'%r %r %r %r' '%r %r %r %r' '%r %r %r %r' '%r %r %r %r'\n",
      "'I had this thing.' 'That you could type up right.' \"But it didn't sing.\" 'So I said goodnight.'\n"
     ]
    }
   ],
   "source": [
    "formatter = \"%r %r %r %r\"\n",
    "\n",
    "print formatter % (1,2,3,4)\n",
    "print formatter % (\"one\", \"two\", \"three\", \"four\")\n",
    "print formatter % (True, False, False, True)\n",
    "print formatter % (formatter, formatter, formatter, formatter)\n",
    "print formatter % (\n",
    "    \"I had this thing.\",\n",
    "    \"That you could type up right.\",\n",
    "    \"But it didn't sing.\", # 语句有单引号的时候输出用双引号。 # 尽量使用双引号以避免不必要的麻烦。\n",
    "    \"So I said goodnight.\"  \n",
    ")"
   ]
  },
  {
   "cell_type": "code",
   "execution_count": null,
   "metadata": {
    "collapsed": true
   },
   "outputs": [],
   "source": []
  }
 ],
 "metadata": {
  "kernelspec": {
   "display_name": "Python 2",
   "language": "python",
   "name": "python2"
  },
  "language_info": {
   "codemirror_mode": {
    "name": "ipython",
    "version": 2
   },
   "file_extension": ".py",
   "mimetype": "text/x-python",
   "name": "python",
   "nbconvert_exporter": "python",
   "pygments_lexer": "ipython2",
   "version": "2.7.11"
  }
 },
 "nbformat": 4,
 "nbformat_minor": 0
}
