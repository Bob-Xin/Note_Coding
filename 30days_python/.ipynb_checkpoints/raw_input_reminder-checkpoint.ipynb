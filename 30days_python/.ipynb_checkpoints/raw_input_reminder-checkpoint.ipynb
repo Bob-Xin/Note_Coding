{
 "cells": [
  {
   "cell_type": "code",
   "execution_count": 1,
   "metadata": {
    "collapsed": false
   },
   "outputs": [
    {
     "name": "stdout",
     "output_type": "stream",
     "text": [
      "How old are you? 23\n",
      "How tall are you? 6'2\"\n",
      "How much do you weigh? 63\n",
      "So, you're '23' old, '6\\'2\"' tall and '63' heavy.\n"
     ]
    }
   ],
   "source": [
    "age = raw_input(\"How old are you? \")\n",
    "height = raw_input(\"How tall are you? \")\n",
    "weight = raw_input(\"How much do you weigh? \")\n",
    "\n",
    "print \"So, you're %r old, %r tall and %r heavy.\" %(age, height, weight)"
   ]
  },
  {
   "cell_type": "code",
   "execution_count": null,
   "metadata": {
    "collapsed": true
   },
   "outputs": [],
   "source": []
  }
 ],
 "metadata": {
  "kernelspec": {
   "display_name": "Python 2",
   "language": "python",
   "name": "python2"
  },
  "language_info": {
   "codemirror_mode": {
    "name": "ipython",
    "version": 2
   },
   "file_extension": ".py",
   "mimetype": "text/x-python",
   "name": "python",
   "nbconvert_exporter": "python",
   "pygments_lexer": "ipython2",
   "version": "2.7.11"
  }
 },
 "nbformat": 4,
 "nbformat_minor": 0
}
