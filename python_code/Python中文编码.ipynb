{
 "cells": [
  {
   "cell_type": "markdown",
   "metadata": {},
   "source": [
    "## 1. 原理\n",
    "\n",
    "### 1.1 声明程序的编码类型为 utf-8\n",
    "\n",
    "- `! /usr/bin/env python2.7`  \n",
    "- `coding=utf-8`  \n",
    "- 在所有程序的开头都声明使用的 Python 版本和编码\n",
    "\n",
    "\n",
    "### 1.2 编码和解码的逻辑\n",
    "\n",
    "- Python 编译器能**循环**处理的编码只有 unicode\n",
    "- 处理编码前，用 `decode` 将 utf-8 编码成 unicode，处理完编码时，用 `encode` 将 unicode 编码回 utf-8\n",
    "\n",
    "`sometext.decode(\"utf-8\") # 成为 unicode 编码，Python 可以处理`  \n",
    "`sometext.encode(\"utf-8\") # 重新编码成 utf-8 编码 `  \n",
    "`str(sometext) # 用 str 也可以把 unicode 重新编码 utf-8，因为一开始已经声明了编码类型为 utf-8`  \n",
    "\n",
    "### 1.3 用 type() 查看字符编码\n",
    "\n"
   ]
  },
  {
   "cell_type": "code",
   "execution_count": 2,
   "metadata": {
    "collapsed": true
   },
   "outputs": [],
   "source": [
    "#! /home/evil_rabbit/anaconda2/bin python2.7\n",
    "# coding = utf-8\n",
    "\n",
    "token = \"，.!?？：:\""
   ]
  },
  {
   "cell_type": "code",
   "execution_count": 3,
   "metadata": {
    "collapsed": false
   },
   "outputs": [
    {
     "name": "stdout",
     "output_type": "stream",
     "text": [
      "<type 'str'>\n"
     ]
    }
   ],
   "source": [
    "print type(token)"
   ]
  },
  {
   "cell_type": "code",
   "execution_count": 4,
   "metadata": {
    "collapsed": false
   },
   "outputs": [
    {
     "name": "stdout",
     "output_type": "stream",
     "text": [
      "<type 'unicode'>\n"
     ]
    }
   ],
   "source": [
    "print type(token.decode('utf-8'))"
   ]
  },
  {
   "cell_type": "markdown",
   "metadata": {},
   "source": [
    "由于在开头声明了所有字符串类型的编码都为 utf-8，所以 <type 'str'> 的意思是该字符是字符串类型，编码为 utf-8，decode 之后则变为 unicode 编码。"
   ]
  },
  {
   "cell_type": "markdown",
   "metadata": {},
   "source": [
    "## 2. 代码实践"
   ]
  },
  {
   "cell_type": "markdown",
   "metadata": {},
   "source": [
    "### 2.1 要循环处理字符串的时候需要解码"
   ]
  },
  {
   "cell_type": "code",
   "execution_count": 5,
   "metadata": {
    "collapsed": false
   },
   "outputs": [
    {
     "name": "stdout",
     "output_type": "stream",
     "text": [
      "�\n",
      "�\n",
      "�\n",
      ".\n",
      "!\n",
      "?\n",
      "�\n",
      "�\n",
      "�\n",
      "�\n",
      "�\n",
      "�\n",
      ":\n"
     ]
    }
   ],
   "source": [
    "#! /home/evil_rabbit/anaconda2/bin python2.7\n",
    "# coding = utf-8\n",
    "\n",
    "token = \"，.!?？：:\"\n",
    "\n",
    "for t in token:\n",
    "    print t"
   ]
  },
  {
   "cell_type": "code",
   "execution_count": 6,
   "metadata": {
    "collapsed": false
   },
   "outputs": [
    {
     "name": "stdout",
     "output_type": "stream",
     "text": [
      "，\n",
      ".\n",
      "!\n",
      "?\n",
      "？\n",
      "：\n",
      ":\n"
     ]
    }
   ],
   "source": [
    "# 解码\n",
    "for t in token.decode('utf-8'):\n",
    "    print t"
   ]
  },
  {
   "cell_type": "markdown",
   "metadata": {},
   "source": [
    "把字符串 decode 为 utf-8 后，就可以被遍历**循环**了。"
   ]
  },
  {
   "cell_type": "markdown",
   "metadata": {},
   "source": [
    "### 2.2 字符匹配的时候需要解码"
   ]
  },
  {
   "cell_type": "code",
   "execution_count": 25,
   "metadata": {
    "collapsed": false
   },
   "outputs": [
    {
     "name": "stderr",
     "output_type": "stream",
     "text": [
      "/home/evil_rabbit/anaconda2/lib/python2.7/site-packages/ipykernel/__main__.py:11: UnicodeWarning: Unicode equal comparison failed to convert both arguments to Unicode - interpreting them as being unequal\n"
     ]
    }
   ],
   "source": [
    "#! /home/evil_rabbit/anaconda2/bin python2.7\n",
    "# coding = utf-8\n",
    "\n",
    "token = \"，。！？：；\".decode('utf8')\n",
    "string_list = ['我', '是', '中国', '人' ,'，', '我', '爱', '她', '。']\n",
    "\n",
    "for t in token:\n",
    "    \n",
    "    for s1 in string_list:\n",
    "        \n",
    "        if t == s1: # 逗号和句号无法匹配的，因为编码不同\n",
    "            print t"
   ]
  },
  {
   "cell_type": "code",
   "execution_count": 26,
   "metadata": {
    "collapsed": false
   },
   "outputs": [
    {
     "name": "stdout",
     "output_type": "stream",
     "text": [
      "，\n",
      "。\n"
     ]
    }
   ],
   "source": [
    "for t in token:\n",
    "    \n",
    "    for s1 in string_list:\n",
    "        \n",
    "        if t == s1.decode('utf-8'): # 编码相同，可以匹配\n",
    "            print t"
   ]
  },
  {
   "cell_type": "code",
   "execution_count": 27,
   "metadata": {
    "collapsed": false
   },
   "outputs": [
    {
     "name": "stdout",
     "output_type": "stream",
     "text": [
      "，\n",
      "。\n"
     ]
    }
   ],
   "source": [
    "for t in token:\n",
    "    \n",
    "    for s1 in string_list:\n",
    "        \n",
    "        if t.encode('utf-8') == s1: # 编码相同，可以匹配\n",
    "            print t"
   ]
  },
  {
   "cell_type": "markdown",
   "metadata": {},
   "source": [
    "### 2.3 结巴分词"
   ]
  },
  {
   "cell_type": "markdown",
   "metadata": {},
   "source": [
    "#### 2.3.1 jieba 分词后词语变为 unicode 编码"
   ]
  },
  {
   "cell_type": "code",
   "execution_count": 28,
   "metadata": {
    "collapsed": false
   },
   "outputs": [
    {
     "name": "stderr",
     "output_type": "stream",
     "text": [
      "Building prefix dict from /home/evil_rabbit/anaconda2/lib/python2.7/site-packages/jieba/dict.txt ...\n",
      "Loading model from cache /tmp/jieba.cache\n",
      "Loading model cost 0.389403104782 seconds.\n",
      "Prefix dict has been built succesfully.\n"
     ]
    },
    {
     "name": "stdout",
     "output_type": "stream",
     "text": [
      "[u'\\u6211', u'\\u662f', u'\\u4e2d\\u56fd', u'\\u4eba', u'\\uff0c', u'\\u6211', u'\\u559c\\u6b22', u'\\u7f16\\u7a0b', u'\\u3001', u'\\u97f3\\u4e50', u'\\u3001', u'\\u8fd0\\u52a8', u'\\u3001', u'\\u770b\\u4e66', u'\\u3002']\n"
     ]
    }
   ],
   "source": [
    "#! /home/evil_rabbit/anaconda2/bin python2.7\n",
    "# coding = utf-8\n",
    "\n",
    "import jieba\n",
    "\n",
    "string = \"我是中国人，我喜欢编程、音乐、运动、看书。\"\n",
    "\n",
    "string_list = []\n",
    "\n",
    "seg = jieba.cut(string)\n",
    "\n",
    "for word in seg:\n",
    "    string_list.append(word)\n",
    "\n",
    "print string_list"
   ]
  },
  {
   "cell_type": "markdown",
   "metadata": {},
   "source": [
    "#### 2.3.2 去掉标点符号"
   ]
  },
  {
   "cell_type": "code",
   "execution_count": 57,
   "metadata": {
    "collapsed": false
   },
   "outputs": [
    {
     "name": "stdout",
     "output_type": "stream",
     "text": [
      "我\n",
      "是\n",
      "中国\n",
      "人\n",
      "我\n",
      "喜欢\n",
      "编程\n",
      "音乐\n",
      "运动\n",
      "看书\n"
     ]
    }
   ],
   "source": [
    "#! /home/evil_rabbit/anaconda2/bin python2.7\n",
    "# coding = utf-8\n",
    "\n",
    "import jieba\n",
    "\n",
    "string = \"我是中国人，我喜欢编程、音乐、运动、看书。\"\n",
    "\n",
    "string_list = []\n",
    "\n",
    "seg = jieba.cut(string)\n",
    "\n",
    "for i in seg:\n",
    "    string_list.append(i)\n",
    "\n",
    "token = \"，。！？：；、\".decode('utf-8')\n",
    "\n",
    "filter_seg = [fil for fil in string_list if fil not in token]\n",
    "\n",
    "for word in filter_seg:\n",
    "    \n",
    "    print word"
   ]
  },
  {
   "cell_type": "code",
   "execution_count": 59,
   "metadata": {
    "collapsed": false
   },
   "outputs": [
    {
     "name": "stdout",
     "output_type": "stream",
     "text": [
      "我\n",
      "是\n",
      "中国\n",
      "人\n",
      "我\n",
      "喜欢\n",
      "编程\n",
      "音乐\n",
      "运动\n",
      "看书\n"
     ]
    }
   ],
   "source": [
    "#! /home/evil_rabbit/anaconda2/bin python2.7\n",
    "# coding = utf-8\n",
    "\n",
    "import jieba\n",
    "\n",
    "string = \"我是中国人，我喜欢编程、音乐、运动、看书。\"\n",
    "\n",
    "string_list = []\n",
    "\n",
    "seg = jieba.cut(string)\n",
    "\n",
    "for i in seg:\n",
    "    string_list.append(i)\n",
    "\n",
    "token = \"，。！？：；、\".decode('utf-8')\n",
    "\n",
    "for word in string_list:\n",
    "    \n",
    "    if word not in token:\n",
    "        print word"
   ]
  },
  {
   "cell_type": "markdown",
   "metadata": {},
   "source": [
    "### 2.4 读取 txt 文档和存储 txt 文档时需注意的编码问题"
   ]
  },
  {
   "cell_type": "markdown",
   "metadata": {},
   "source": [
    "#### 2.4.1 txt 文档存储时要另存为 utf-8 编码\n",
    "\n",
    "txt 文档默认编码为 ascii"
   ]
  },
  {
   "cell_type": "markdown",
   "metadata": {},
   "source": [
    "#### 2.4.2 列表内容存储回 txt 文档时，要把 Python 里的 unicode 编码为 utf-8\n",
    "\n",
    "只有编码为 utf-8，才能正常在 txt 文档中显示出来  \n",
    "\n",
    "- `encode('utf-8')`\n",
    "- str()"
   ]
  },
  {
   "cell_type": "code",
   "execution_count": 73,
   "metadata": {
    "collapsed": false
   },
   "outputs": [],
   "source": [
    "#! /home/evil_rabbit/anaconda2/bin python2.7\n",
    "# coding = utf-8\n",
    "\n",
    "import jieba\n",
    "\n",
    "string = \"我是中国人，我喜欢编程、音乐、运动、看书。\"\n",
    "\n",
    "string_list = []\n",
    "\n",
    "seg = jieba.cut(string)\n",
    "\n",
    "for i in seg:\n",
    "    string_list.append(i)\n",
    "\n",
    "token = \"，。！？：；、\".decode('utf-8')\n",
    "\n",
    "filter_seg = [fil for fil in string_list if fil not in token]\n",
    "\n",
    "f = open('output.txt', 'w')\n",
    "\n",
    "for word in filter_seg:\n",
    "    f.write(word.encode('utf-8') + ' ')\n",
    "    #f.write(str(word)+' ') # 不成功，采用 encode\n",
    "f.close()"
   ]
  },
  {
   "cell_type": "markdown",
   "metadata": {},
   "source": [
    "## 扩展阅读\n",
    "\n",
    "[python 的中文编码_乱码问题的解决方法和探寻](http://blog.sina.com.cn/s/blog_6285b6f60100u15a.html)  \n",
    "[ 初探 python 编码](http://blog.csdn.net/liuxincumt/article/details/8183391)"
   ]
  }
 ],
 "metadata": {
  "kernelspec": {
   "display_name": "Python 2",
   "language": "python",
   "name": "python2"
  },
  "language_info": {
   "codemirror_mode": {
    "name": "ipython",
    "version": 2
   },
   "file_extension": ".py",
   "mimetype": "text/x-python",
   "name": "python",
   "nbconvert_exporter": "python",
   "pygments_lexer": "ipython2",
   "version": "2.7.12"
  }
 },
 "nbformat": 4,
 "nbformat_minor": 0
}
